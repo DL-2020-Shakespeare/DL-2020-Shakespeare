{
 "cells": [
  {
   "cell_type": "code",
   "execution_count": 1,
   "metadata": {
    "pycharm": {
     "name": "#%%\n"
    }
   },
   "outputs": [],
   "source": [
    "import io\n",
    "import os\n",
    "import pickle\n",
    "import random as rn\n",
    "import warnings\n",
    "from datetime import datetime\n",
    "from importlib import reload\n",
    "from multiprocessing import cpu_count\n",
    "\n",
    "warnings.filterwarnings(\"ignore\")\n",
    "\n",
    "import matplotlib.pyplot as plt\n",
    "import numpy as np\n",
    "import pandas as pd\n",
    "import seaborn as sns\n",
    "import tensorflow as tf\n",
    "from gensim.models import Word2Vec\n",
    "from gensim.models.fasttext import FastText\n",
    "from IPython.display import display\n",
    "from iterstrat.ml_stratifiers import MultilabelStratifiedKFold\n",
    "from sklearn.metrics import accuracy_score, f1_score, ndcg_score, \\\n",
    "        label_ranking_average_precision_score\n",
    "from sklearn.model_selection import train_test_split\n",
    "from sklearn.utils import shuffle\n",
    "from tensorflow.keras.callbacks import EarlyStopping\n",
    "from tensorflow.keras.preprocessing.text import Tokenizer\n",
    "from tensorflow.keras.preprocessing.sequence import pad_sequences\n",
    "\n",
    "import data\n",
    "import models\n",
    "import preprocessing\n",
    "\n",
    "seed = 42\n",
    "sns.set()\n",
    "\n",
    "def reset_seed():\n",
    "    os.environ[\"PYTHONHASHSEED\"] = str(seed)\n",
    "    os.environ[\"TF_DETERMINISTIC_OPS\"] = \"1\"\n",
    "    np.random.seed(seed)\n",
    "    rn.seed(seed)\n",
    "    tf.random.set_seed(seed)"
   ]
  },
  {
   "cell_type": "markdown",
   "metadata": {},
   "source": [
    "## Choose notebook version"
   ]
  },
  {
   "cell_type": "code",
   "execution_count": 2,
   "metadata": {},
   "outputs": [],
   "source": [
    "# version = \"tokenized_cased\"\n",
    "version = \"tokenized_no_sw_no_punct\"\n",
    "# version = \"tokenized_lemmatized_no_sw_no_punct\""
   ]
  },
  {
   "cell_type": "markdown",
   "metadata": {
    "pycharm": {
     "name": "#%% md\n"
    }
   },
   "source": [
    "## Extracting the data"
   ]
  },
  {
   "cell_type": "code",
   "execution_count": 3,
   "metadata": {
    "pycharm": {
     "name": "#%%\n"
    }
   },
   "outputs": [
    {
     "name": "stdout",
     "output_type": "stream",
     "text": [
      "(299773,)\n",
      "(299773, 126)\n",
      "Toronto stocks end higher after volatile session. CHANGE\t\t\t\t    CHANGE TSE\t  5900.37    +50.15   HI 5900.37\t    LO  5840.29 DJI\t  6611.05    +27.57   GOLD (LONDON)   US$350.00 +1.90 FTSE100    4248.10    -64.80   GOLD (NY-COMEX) US$354.80 +0.70 NIKKEI    17869.59   -133.81   LME CASH NICKEL US$7659   +99.0 CANDLR\t1.3883\t\t LME CASH ALUM   US$1602.0  -4.0 CAN 30-YR   107.41     -0.15   BRENT CRUDE     US$19.09  -0.27 --------------------MARKET COMMENT---------------------------- * Toronto stocks ended higher on Tuesday, buoyed by strength in golds and banking * Computer problems due to heavy trading in Bre-X Minerals hampered session * 84 million shares traded Toronto's key stock index ended higher on Tuesday as the saga of Bre-X Minerals Ltd and its Indonesian gold find continued to dominate Canada's biggest stock market. The TSE 300 Index climbed 50.15 points to close at 5900.37 in heavy turnover of 84.07 million shares worth C$1.4 billion. But the overall market was mixed with declining issues narrowly outpacing advances 476 to 464. 298 issues were flat. Frantic trading in Bre-X collapsed the TSE's computer trading system earlier in the day, forcing the exchange to halt trading in the stock before the market closed. Shares in the Calgary-based gold prospector were halted for a statement by the company this morning. When it resumed, a whopping 7.7 million shares changed hands in the first 22 minutes of trading before the system crashed. Bre-X closed up 1.35 at 3.85. It was the first time Bre-X traded since investors lopped nearly C$3 billion off its stock market value last Thursday. TSE officials said the trading problems were due to old technology which will be replaced. On the Montreal Exchange, Bre-X closed up 0.81 at 3.50 on 9.8 million shares. Analysts predicted more volatility for Bre-X shares this week. \"The question of what Bre-X will release over the next few days will be important to the market,\" said Josef Schachter, of Schachter Asset Management Inc. The gold sector rose nearly 136 points, leading 12 of 14 sub-indices higher. Other strong groups included financial services, consumer products, energy and transportation. The TSE posted minor losses in forestry and real estate. --- HOT STOCKS --- * Among bank shares, Bank of Nova Scotia rose 0.65 to 51.50 on 2.1 million shares, while Canadian Imperial Bank of Commerce added 0.50 to 31.80 on 2.1 million shares. ((Reuters Toronto Bureau (416) 941-8100))\n",
      "[0 0 0 0 0 0 0 0 0 0 0 0 0 0 0 0 0 0 0 0 0 0 0 0 0 0 0 0 0 0 0 0 0 0 0 0 0\n",
      " 0 0 0 0 0 0 0 0 0 0 0 0 0 0 0 0 0 0 0 0 0 0 0 0 0 0 0 0 0 0 0 0 0 0 0 0 0\n",
      " 0 0 0 0 0 0 0 0 0 0 0 0 0 0 0 0 0 0 0 0 0 0 0 0 0 0 0 0 0 0 0 0 0 0 0 0 0\n",
      " 0 0 0 1 0 0 0 0 0 0 0 0 1 0 0]\n"
     ]
    }
   ],
   "source": [
    "# data.extract_data(extraction_dir=\"train\",\n",
    "#                   data_dir=\"data\",\n",
    "#                   data_zip_name=\"reuters-training-corpus.zip\")\n",
    "\n",
    "train_df = pd.read_pickle(\"train/data.pkl\")\n",
    "\n",
    "# train_df = data.get_docs_labels(\"train/REUTERS_CORPUS_2\")\n",
    "# train_df.to_pickle(\"train/data.pkl\")\n",
    "\n",
    "train_docs = train_df[\"doc\"].values\n",
    "n_train = train_docs.shape[0]\n",
    "train_labels = np.array(train_df[\"labels\"].tolist())\n",
    "n_labels = len(data.CODEMAP)\n",
    "\n",
    "# extract test_docs here\n",
    "\n",
    "print(train_docs.shape)\n",
    "print(train_labels.shape)\n",
    "print(train_docs[2])\n",
    "print(train_labels[2])"
   ]
  },
  {
   "cell_type": "markdown",
   "metadata": {
    "pycharm": {
     "name": "#%% md\n"
    }
   },
   "source": [
    "## Preprocessing the documents"
   ]
  },
  {
   "cell_type": "code",
   "execution_count": 4,
   "metadata": {
    "pycharm": {
     "name": "#%%\n"
    }
   },
   "outputs": [
    {
     "name": "stdout",
     "output_type": "stream",
     "text": [
      "toronto stocks end higher volatile session change change tse 5900.37 +50.15 hi 5900.37 lo 5840.29 dji 6611.05 +27.57 gold london us$ 350.00 +1.90 ftse100 4248.10 -64.80 gold ny comex us$ 354.80 +0.70 nikkei 17869.59 -133.81 lme cash nickel us$ 7659 +99.0 candlr 1.3883 lme cash alum us$ 1602.0 -4.0 30-yr 107.41 -0.15 brent crude us$ 19.09 -0.27 --------------------market comment---------------------------- toronto stocks ended higher tuesday buoyed strength golds banking computer problems heavy trading bre x minerals hampered session 84 million shares traded toronto key stock index ended higher tuesday saga bre x minerals ltd indonesian gold find continued dominate canada biggest stock market tse 300 index climbed 50.15 points close 5900.37 heavy turnover 84.07 million shares worth c$ 1.4 billion overall market mixed declining issues narrowly outpacing advances 476 464 298 issues flat frantic trading bre x collapsed tse computer trading system earlier day forcing exchange halt trading stock market closed shares calgary based gold prospector halted statement company morning resumed whopping 7.7 million shares changed hands 22 minutes trading system crashed bre x closed 1.35 3.85 time bre x traded investors lopped nearly c$ 3 billion stock market value thursday tse officials said trading problems old technology replaced montreal exchange bre x closed 0.81 3.50 9.8 million shares analysts predicted volatility bre x shares week question bre x release days important market said josef schachter schachter asset management inc. gold sector rose nearly 136 points leading 12 14 sub indices higher strong groups included financial services consumer products energy transportation tse posted minor losses forestry real estate hot stocks bank shares bank nova scotia rose 0.65 51.50 2.1 million shares canadian imperial bank commerce added 0.50 31.80 2.1 million shares reuters toronto bureau 416 941 8100\n"
     ]
    }
   ],
   "source": [
    "path_to_preprocessed_train_docs = f\"train/preprocessed_docs_{version}.pkl\"\n",
    "\n",
    "try:\n",
    "    with open(path_to_preprocessed_train_docs, \"rb\") as f:\n",
    "        preprocessed_train_docs = pickle.load(f)\n",
    "except:\n",
    "    preprocessed_train_docs = preprocessing.preprocess_corpus(train_docs)\n",
    "    with open(path_to_preprocessed_train_docs, \"wb\") as f:\n",
    "        pickle.dump(preprocessed_train_docs, f)\n",
    "\n",
    "print(preprocessed_train_docs[2])"
   ]
  },
  {
   "cell_type": "code",
   "execution_count": 5,
   "metadata": {},
   "outputs": [],
   "source": [
    "# path_to_preprocessed_test_docs = f\"test/preprocessed_docs_{version}.pkl\"\n",
    "\n",
    "# try:\n",
    "#     with open(path_to_preprocessed_test_docs, \"rb\") as f:\n",
    "#         preprocessed_test_docs = pickle.load(f)\n",
    "# except:\n",
    "#     preprocessed_test_docs = preprocessing.preprocess_corpus(test_docs)\n",
    "#     with open(path_to_preprocessed_test_docs, \"wb\") as f:\n",
    "#         pickle.dump(preprocessed_test_docs, f)\n",
    "\n",
    "# print(preprocessed_test_docs[2])"
   ]
  },
  {
   "cell_type": "markdown",
   "metadata": {},
   "source": [
    "## Representing the documents as token index sequences"
   ]
  },
  {
   "cell_type": "code",
   "execution_count": 6,
   "metadata": {},
   "outputs": [],
   "source": [
    "docs = preprocessed_train_docs # add preprocessed_test_docs\n",
    "n_vocabulary = None"
   ]
  },
  {
   "cell_type": "code",
   "execution_count": 7,
   "metadata": {
    "pycharm": {
     "name": "#%%\n"
    }
   },
   "outputs": [
    {
     "name": "stdout",
     "output_type": "stream",
     "text": [
      "660067\n"
     ]
    }
   ],
   "source": [
    "tokenizer = Tokenizer(num_words=n_vocabulary, filters=\"\", lower=False)\n",
    "tokenizer.fit_on_texts(docs)\n",
    "word_idx = tokenizer.word_index\n",
    "if n_vocabulary is None:\n",
    "    n_vocabulary = len(word_idx) + 1 # use index 0 for padding\n",
    "\n",
    "print(n_vocabulary)"
   ]
  },
  {
   "cell_type": "code",
   "execution_count": 8,
   "metadata": {
    "pycharm": {
     "name": "#%%\n"
    }
   },
   "outputs": [
    {
     "name": "stdout",
     "output_type": "stream",
     "text": [
      "768\n",
      "(299773, 768)\n",
      "[  1684    106     61     67   2237    457    224    224   7987 197878\n",
      " 337939   5079 197878   6678 337940  25315 150898 241565    198    105\n",
      "    456  19090 108710  48033 337941 337942    198   2806   2603    456\n",
      " 197879  57875   2451 337943 169476   1416    215   1964    456 337944\n",
      " 337945  20915 169477   1416    215  18380    456 337946  12825   9380\n",
      " 101955  29604    910    397    456  35224  40017  28348  31540   1684\n",
      "    106     80     67     23   4829    858   8961    507    835    541\n",
      "    620     77   2818   1579   4257   7988    457   3663      4     13\n",
      "    304   1684    283     44     59     80     67     23   8635   2818\n",
      "   1579   4257    113   1492    198    975    454   6459    452    562]\n"
     ]
    }
   ],
   "source": [
    "n_sequence = 768\n",
    "\n",
    "sequences = tokenizer.texts_to_sequences(docs)\n",
    "if n_sequence is None:\n",
    "    n_sequence = max([len(s) for s in sequences])\n",
    "sequence_lengths = [min(len(s), n_sequence) for s in sequences]\n",
    "sequences = pad_sequences(sequences,\n",
    "                          maxlen=n_sequence,\n",
    "                          padding=\"post\",\n",
    "                          truncating=\"post\")\n",
    "\n",
    "print(n_sequence)\n",
    "print(sequences.shape)\n",
    "print(sequences[2][:100])"
   ]
  },
  {
   "cell_type": "code",
   "execution_count": 9,
   "metadata": {
    "pycharm": {
     "name": "#%%\n"
    }
   },
   "outputs": [
    {
     "data": {
      "image/png": "[encoded data removed]",
      "text/plain": [
       "<Figure size 432x288 with 1 Axes>"
      ]
     },
     "metadata": {},
     "output_type": "display_data"
    }
   ],
   "source": [
    "doc_lengths = [len(doc.split()) for doc in docs]\n",
    "\n",
    "sns.distplot(doc_lengths,\n",
    "             bins=np.arange(0, 2500, 25),\n",
    "             kde=False,\n",
    "             label=\"documents\")\n",
    "sns.distplot(sequence_lengths,\n",
    "             bins=np.arange(0, 2500, 25),\n",
    "             kde=False,\n",
    "             label=\"sequences\")\n",
    "total_word_coverage = np.round(np.sum(sequence_lengths) / np.sum(doc_lengths), 3)\n",
    "plt.title(f\"n_vocabulary={n_vocabulary}, n_sequence={n_sequence},\\n\"\n",
    "          f\"total_word_coverage={total_word_coverage}\")\n",
    "plt.xlim(0, 1550)\n",
    "plt.xlabel(\"length\")\n",
    "plt.legend()\n",
    "plt.tight_layout()\n",
    "plt.show()"
   ]
  },
  {
   "cell_type": "markdown",
   "metadata": {},
   "source": [
    "## Word embeddings"
   ]
  },
  {
   "cell_type": "code",
   "execution_count": 10,
   "metadata": {
    "pycharm": {
     "name": "#%%\n"
    }
   },
   "outputs": [],
   "source": [
    "n_embedding = 300 # 300 required by pretrained embeddings"
   ]
  },
  {
   "cell_type": "markdown",
   "metadata": {},
   "source": [
    "### FastText"
   ]
  },
  {
   "cell_type": "code",
   "execution_count": 11,
   "metadata": {},
   "outputs": [
    {
     "name": "stdout",
     "output_type": "stream",
     "text": [
      "660066\n",
      "['said', '$', 'percent', 'million', 'year', 'market', 'new', 'bank', 'n', 'company', 'government', 'u.s.', 'shares', 'billion', '1997', 'june', '1', 'newsroom', 'net', 'week', 'share', 'pct', 'tuesday', '1996', 'group', 'wednesday', 'july', 'sales', 'expected', 'prices', 'thursday', 'monday', 'trade', 'friday', '2', 'price', '=', 'state', 'vs', 'yen', 'told', 'income', 'rate', 'stock', 'interest', 'minister', 'month', 'oil', 'quarter', 'april', 'president', 'day', 'time', '10', 'dollar', 'high', 'months', 'march', 'index', 'foreign', 'end', 'points', '30', 'years', 'rates', 'total', 'higher', 'central', 'european', 'people', 'profit', 'f', 'tax', 'loss', 'second', 'international', 'trading', 'cents', 'traders', 'ended', '3', 'business', 'added', 'rose', 'lower', 'growth', 'exchange', 'world', 'economic', 'financial', 'official', 'close', 'analysts', '20', 'statement', 'tonnes', 'reuters', 'news', 'results', 'companies']\n"
     ]
    }
   ],
   "source": [
    "reset_seed()\n",
    "\n",
    "# ft_path = f\"data/fasttext_{version}.model\"\n",
    "ft_path = f\"train/fasttext_{version}.model\"\n",
    "\n",
    "try:\n",
    "    ft = FastText.load(ft_path)\n",
    "except:\n",
    "    ft = FastText(sentences=[doc.split() for doc in docs], size=n_embedding,\n",
    "                  min_count=1, workers=cpu_count(), seed=seed)\n",
    "    ft.save(ft_path)\n",
    "\n",
    "print(len(list(ft.wv.vocab)))\n",
    "print(ft.wv.index2entity[:100])"
   ]
  },
  {
   "cell_type": "markdown",
   "metadata": {},
   "source": [
    "### Word2Vec"
   ]
  },
  {
   "cell_type": "code",
   "execution_count": 12,
   "metadata": {
    "pycharm": {
     "name": "#%%\n"
    }
   },
   "outputs": [
    {
     "name": "stdout",
     "output_type": "stream",
     "text": [
      "660066\n",
      "['said', '$', 'percent', 'million', 'year', 'market', 'new', 'bank', 'n', 'company', 'government', 'u.s.', 'shares', 'billion', '1997', 'june', '1', 'newsroom', 'net', 'week', 'share', 'pct', 'tuesday', '1996', 'group', 'wednesday', 'july', 'sales', 'expected', 'prices', 'thursday', 'monday', 'trade', 'friday', '2', 'price', '=', 'state', 'vs', 'yen', 'told', 'income', 'rate', 'stock', 'interest', 'minister', 'month', 'oil', 'quarter', 'april', 'president', 'day', 'time', '10', 'dollar', 'high', 'months', 'march', 'index', 'foreign', 'end', 'points', '30', 'years', 'rates', 'total', 'higher', 'central', 'european', 'people', 'profit', 'f', 'tax', 'loss', 'second', 'international', 'trading', 'cents', 'traders', 'ended', '3', 'business', 'added', 'rose', 'lower', 'growth', 'exchange', 'world', 'economic', 'financial', 'official', 'close', 'analysts', '20', 'statement', 'tonnes', 'reuters', 'news', 'results', 'companies']\n"
     ]
    }
   ],
   "source": [
    "reset_seed()\n",
    "\n",
    "# w2v_path = f\"data/w2v_{version}.model\"\n",
    "w2v_path = f\"train/w2v_{version}.model\"\n",
    "\n",
    "try:\n",
    "    w2v = Word2Vec.load(w2v_path)\n",
    "except:\n",
    "    w2v = Word2Vec(sentences=[doc.split() for doc in docs], size=n_embedding,\n",
    "                   min_count=1, workers=cpu_count(), seed=seed)\n",
    "    w2v.save(w2v_path)\n",
    "\n",
    "print(len(list(w2v.wv.vocab)))\n",
    "print(w2v.wv.index2entity[:100])"
   ]
  },
  {
   "cell_type": "markdown",
   "metadata": {},
   "source": [
    "### Pre-trained FastText"
   ]
  },
  {
   "cell_type": "code",
   "execution_count": 13,
   "metadata": {},
   "outputs": [],
   "source": [
    "def load_embeddings(fname, skip_first):\n",
    "    embedding_idx = {}\n",
    "    with open(fname, \"r\", encoding=\"utf-8\", errors=\"ignore\") as f:\n",
    "        for i, line in enumerate(f):\n",
    "            if i == 0 and skip_first:\n",
    "                continue\n",
    "            vals = line.rstrip().split()\n",
    "            token = \"\".join(vals[:-300])\n",
    "            embedding = np.array(vals[-300:], dtype=np.float32)\n",
    "            embedding_idx[token] = embedding\n",
    "    return embedding_idx"
   ]
  },
  {
   "cell_type": "code",
   "execution_count": 14,
   "metadata": {},
   "outputs": [
    {
     "name": "stdout",
     "output_type": "stream",
     "text": [
      "[',', 'the', '.', 'and', 'to', 'of', 'a', 'in', 'is', 'for', 'that', 'I', 'it', 'on', 'with', ')', ':', '\"', '(', 'The', 'you', 'was', 'are', 'or', 'this', 'as', 'have', 'at', 'from', '!', \"'s\", 'but', 'by', 'not', '?', 'your', 'all', '/', 'be', 'we', 'my', 'one', '-', 'will', 'they', 'so', 'which', '”', '“', 'has', '...', 'just', 'he', 'their', 'can', 'about', 'his', 'our', ';', 'when', 'more', 'had', 'do', 'some', 'time', 'like', 'also', 'there', 'them', 'get', 'what', 'out', \"'\", 'me', 'her', 'an', 'were', 'This', 'It', 'up', 'would', 'if', 'who', 'new', 'only', 'A', '–', 'people', 'any', 'We', 'make', 'other', 'In', 'then', 'its', 'use', 'said', 'now', 'no', 'first']\n"
     ]
    }
   ],
   "source": [
    "ft_pretrained = load_embeddings(\"data/crawl-300d-2M.vec\", skip_first=True)\n",
    "\n",
    "token_iter = iter(ft_pretrained)\n",
    "print([next(token_iter) for i in range(100)])"
   ]
  },
  {
   "cell_type": "markdown",
   "metadata": {},
   "source": [
    "### Pre-trained GloVe"
   ]
  },
  {
   "cell_type": "code",
   "execution_count": 15,
   "metadata": {},
   "outputs": [
    {
     "name": "stdout",
     "output_type": "stream",
     "text": [
      "[',', 'the', '.', 'and', 'to', 'of', 'a', 'in', '\"', 'is', 'for', ':', 'i', ')', 'that', '(', 'you', 'it', 'on', '-', 'with', \"'s\", 'this', 'by', 'are', 'at', 'as', 'be', 'from', 'have', 'was', 'or', 'your', 'not', '...', 'we', '!', 'but', '?', 'all', 'will', 'an', 'my', 'can', 'they', \"n't\", 'do', 'he', 'more', 'if', 'one', 'has', '|', 'so', 'about', 'new', 'what', 'his', 'there', 'up', 'out', ';', 'their', 'our', \"'\", 'like', 'when', '$', 'just', 'time', '&', 'me', 'which', 'who', 'no', 'would', '/', '1', 'some', 'get', '[', ']', 'also', 'other', 'how', 'may', 'had', 'am', 'been', '2', 'her', 'were', 'them', 'people', 'she', 'any', 'now', 'only', 'pm', 'first']\n"
     ]
    }
   ],
   "source": [
    "if version == \"tokenized_cased\":\n",
    "    glove_pretrained = load_embeddings(\"data/glove.840B.300d.txt\", skip_first=False)\n",
    "else:\n",
    "    glove_pretrained = load_embeddings(\"data/glove.42B.300d.txt\", skip_first=False)\n",
    "    \n",
    "token_iter = iter(glove_pretrained)\n",
    "print([next(token_iter) for i in range(100)])"
   ]
  },
  {
   "cell_type": "markdown",
   "metadata": {},
   "source": [
    "### Embedding matrices"
   ]
  },
  {
   "cell_type": "code",
   "execution_count": 16,
   "metadata": {
    "pycharm": {
     "name": "#%%\n"
    }
   },
   "outputs": [],
   "source": [
    "def create_embedding_matrix(embedding_model):\n",
    "    embedding_matrix = np.zeros((n_vocabulary, n_embedding))\n",
    "    unknown_token_count = 0\n",
    "    for token, i in word_idx.items():\n",
    "        if i >= n_vocabulary:\n",
    "            continue\n",
    "        if token in embedding_model:\n",
    "            embedding_matrix[i] = embedding_model[token]\n",
    "        else:\n",
    "            unknown_token_count += 1\n",
    "\n",
    "    print(unknown_token_count)\n",
    "    print(embedding_matrix.shape)\n",
    "    print(embedding_matrix[1][:20])\n",
    "\n",
    "    return embedding_matrix"
   ]
  },
  {
   "cell_type": "code",
   "execution_count": 17,
   "metadata": {},
   "outputs": [
    {
     "name": "stdout",
     "output_type": "stream",
     "text": [
      "0\n",
      "(660067, 300)\n",
      "[-3.71252584  3.69840598 -5.05772781  5.39064503  3.97756577  1.23077226\n",
      "  4.78732109 -2.40194106  2.73621893  3.20716929 -0.37027493  0.71109104\n",
      "  0.9743709  -0.35793254  0.50945872  2.20875049  0.26744497  1.71014547\n",
      " -0.14868788 -0.01606547]\n"
     ]
    }
   ],
   "source": [
    "ft_embedding_matrix = create_embedding_matrix(ft)"
   ]
  },
  {
   "cell_type": "code",
   "execution_count": 18,
   "metadata": {},
   "outputs": [
    {
     "name": "stdout",
     "output_type": "stream",
     "text": [
      "0\n",
      "(660067, 300)\n",
      "[ 1.23901904  0.13068858 -1.80657494 -1.38192809 -1.59526336 -0.51683563\n",
      " -0.33008185  0.52108902  0.50567162  1.76178634 -0.65225005 -2.21308708\n",
      "  0.54367632  0.73135346  2.02280545 -0.58001477 -0.11211004  2.56782937\n",
      " -0.20630927 -0.42374206]\n"
     ]
    }
   ],
   "source": [
    "w2v_embedding_matrix = create_embedding_matrix(w2v)"
   ]
  },
  {
   "cell_type": "code",
   "execution_count": 19,
   "metadata": {},
   "outputs": [
    {
     "name": "stdout",
     "output_type": "stream",
     "text": [
      "500890\n",
      "(660067, 300)\n",
      "[ 0.28940001 -0.18539999 -0.40180001 -0.16249999 -0.1032      0.0563\n",
      "  0.2384     -0.1227     -0.50029999  0.1684     -0.17039999  0.31240001\n",
      "  0.0529     -0.0063      0.17209999  0.1389      0.0145     -0.20550001\n",
      "  0.0601      0.014     ]\n"
     ]
    }
   ],
   "source": [
    "ft_pretrained_embedding_matrix = create_embedding_matrix(ft_pretrained)"
   ]
  },
  {
   "cell_type": "code",
   "execution_count": 20,
   "metadata": {},
   "outputs": [
    {
     "name": "stdout",
     "output_type": "stream",
     "text": [
      "410497\n",
      "(660067, 300)\n",
      "[-0.37941     0.080833   -0.10343     0.29754001 -0.13299    -0.64884001\n",
      " -3.35279989  1.16410005 -0.24668001 -0.31876001 -0.36869001  0.46322\n",
      " -0.14533    -0.51498997 -0.14117999 -0.11483     0.45131999 -0.49171999\n",
      " -0.20461001  0.778     ]\n"
     ]
    }
   ],
   "source": [
    "glove_pretrained_embedding_matrix = create_embedding_matrix(glove_pretrained)"
   ]
  },
  {
   "cell_type": "markdown",
   "metadata": {},
   "source": [
    "## Shuffling the data"
   ]
  },
  {
   "cell_type": "code",
   "execution_count": 21,
   "metadata": {},
   "outputs": [],
   "source": [
    "n_samples = None\n",
    "x_train, y_train = shuffle(sequences[:n_train],\n",
    "                           train_labels,\n",
    "                           random_state=seed,\n",
    "                           n_samples=n_samples)\n",
    "# x_test = sequences[n_train:]"
   ]
  },
  {
   "cell_type": "markdown",
   "metadata": {},
   "source": [
    "## Cross-evaluating the models"
   ]
  },
  {
   "cell_type": "code",
   "execution_count": 22,
   "metadata": {},
   "outputs": [],
   "source": [
    "def cross_evaluate(model_initializer, batch_size=256, model_params={}):\n",
    "    model_initializer(n_vocabulary, n_embedding, n_sequence, n_labels,\n",
    "                      **model_params).summary()\n",
    "\n",
    "    cv_scores = []\n",
    "    mskf = MultilabelStratifiedKFold(n_splits=5, random_state=seed)\n",
    "    for train, val in mskf.split(x_train, y_train):\n",
    "        model = model_initializer(n_vocabulary, n_embedding, n_sequence, n_labels,\n",
    "                                  **model_params)\n",
    "        es = EarlyStopping(patience=10, verbose=1, restore_best_weights=True)\n",
    "        history = model.fit(x_train[train],\n",
    "                            y_train[train],\n",
    "                            batch_size=batch_size,\n",
    "                            epochs=100,\n",
    "                            verbose=1,\n",
    "                            validation_data=(x_train[val], y_train[val]),\n",
    "                            callbacks=[es])\n",
    "\n",
    "        y_val_pred_prob = model.predict(x_train[val], batch_size=batch_size, verbose=1)\n",
    "        y_val_pred = np.round(y_val_pred_prob)\n",
    "\n",
    "        scores = {}\n",
    "        scores[\"accuracy\"] = accuracy_score(y_train[val], y_val_pred)\n",
    "        scores[\"F1 (macro)\"] = f1_score(y_train[val], y_val_pred, average=\"macro\")\n",
    "        scores[\"F1 (micro)\"] = f1_score(y_train[val], y_val_pred, average=\"micro\")\n",
    "        scores[\"LRAP\"] = label_ranking_average_precision_score(y_train[val],\n",
    "                                                               y_val_pred_prob)\n",
    "        scores[\"NDCG\"] = ndcg_score(y_train[val], y_val_pred_prob)\n",
    "        scores[\"timestamp\"] = round(datetime.timestamp(datetime.now()))\n",
    "        cv_scores.append(scores)\n",
    "        print(scores)\n",
    "        \n",
    "#         np.savetxt(f\"val_results/{model_initializer.__name__}_{version}_\" +\n",
    "#                    f\"{scores['timestamp']}_\" +\n",
    "#                    f\"{np.round(scores['F1 (micro)'], 6)}.txt\", y_val_pred, fmt=\"%d\")\n",
    "\n",
    "    cv_scores_df = pd.DataFrame(cv_scores)\n",
    "    display(cv_scores_df)\n",
    "    print(cv_scores_df.drop(\"timestamp\", axis=1).mean())"
   ]
  },
  {
   "cell_type": "code",
   "execution_count": 46,
   "metadata": {},
   "outputs": [
    {
     "name": "stdout",
     "output_type": "stream",
     "text": [
      "INFO:tensorflow:Using MirroredStrategy with devices ('/job:localhost/replica:0/task:0/device:GPU:0', '/job:localhost/replica:0/task:0/device:GPU:1', '/job:localhost/replica:0/task:0/device:GPU:2', '/job:localhost/replica:0/task:0/device:GPU:3')\n",
      "Model: \"sequential_7\"\n",
      "_________________________________________________________________\n",
      "Layer (type)                 Output Shape              Param #   \n",
      "=================================================================\n",
      "embedding_15 (Embedding)     (None, 768, 300)          198020100 \n",
      "_________________________________________________________________\n",
      "conv1d_30 (Conv1D)           (None, 767, 400)          240400    \n",
      "_________________________________________________________________\n",
      "batch_normalization_30 (Batc (None, 767, 400)          1600      \n",
      "_________________________________________________________________\n",
      "re_lu_30 (ReLU)              (None, 767, 400)          0         \n",
      "_________________________________________________________________\n",
      "max_pooling1d_30 (MaxPooling (None, 383, 400)          0         \n",
      "_________________________________________________________________\n",
      "dropout_30 (Dropout)         (None, 383, 400)          0         \n",
      "_________________________________________________________________\n",
      "conv1d_31 (Conv1D)           (None, 382, 500)          400500    \n",
      "_________________________________________________________________\n",
      "batch_normalization_31 (Batc (None, 382, 500)          2000      \n",
      "_________________________________________________________________\n",
      "re_lu_31 (ReLU)              (None, 382, 500)          0         \n",
      "_________________________________________________________________\n",
      "max_pooling1d_31 (MaxPooling (None, 191, 500)          0         \n",
      "_________________________________________________________________\n",
      "dropout_31 (Dropout)         (None, 191, 500)          0         \n",
      "_________________________________________________________________\n",
      "bidirectional_13 (Bidirectio (None, 512)               1550336   \n",
      "_________________________________________________________________\n",
      "dense_11 (Dense)             (None, 126)               64638     \n",
      "=================================================================\n",
      "Total params: 200,279,574\n",
      "Trainable params: 2,257,674\n",
      "Non-trainable params: 198,021,900\n",
      "_________________________________________________________________\n",
      "INFO:tensorflow:Using MirroredStrategy with devices ('/job:localhost/replica:0/task:0/device:GPU:0', '/job:localhost/replica:0/task:0/device:GPU:1', '/job:localhost/replica:0/task:0/device:GPU:2', '/job:localhost/replica:0/task:0/device:GPU:3')\n",
      "Epoch 1/100\n",
      "937/937 [==============================] - 71s 76ms/step - loss: 0.0433 - val_loss: 0.0225\n",
      "Epoch 2/100\n",
      "937/937 [==============================] - 67s 71ms/step - loss: 0.0204 - val_loss: 0.0185\n",
      "Epoch 3/100\n",
      "937/937 [==============================] - 67s 72ms/step - loss: 0.0178 - val_loss: 0.0173\n",
      "Epoch 4/100\n",
      "937/937 [==============================] - 67s 72ms/step - loss: 0.0165 - val_loss: 0.0165\n",
      "Epoch 5/100\n",
      "937/937 [==============================] - 67s 71ms/step - loss: 0.0157 - val_loss: 0.0161\n",
      "Epoch 6/100\n",
      "937/937 [==============================] - 67s 71ms/step - loss: 0.0151 - val_loss: 0.0160\n",
      "Epoch 7/100\n",
      "937/937 [==============================] - 67s 71ms/step - loss: 0.0146 - val_loss: 0.0156\n",
      "Epoch 8/100\n",
      "937/937 [==============================] - 67s 72ms/step - loss: 0.0141 - val_loss: 0.0155\n",
      "Epoch 9/100\n",
      "937/937 [==============================] - 67s 72ms/step - loss: 0.0138 - val_loss: 0.0154\n",
      "Epoch 10/100\n",
      "937/937 [==============================] - 67s 71ms/step - loss: 0.0134 - val_loss: 0.0153\n",
      "Epoch 11/100\n",
      "937/937 [==============================] - 66s 70ms/step - loss: 0.0132 - val_loss: 0.0154\n",
      "Epoch 12/100\n",
      "937/937 [==============================] - 67s 71ms/step - loss: 0.0129 - val_loss: 0.0152\n",
      "Epoch 13/100\n",
      "937/937 [==============================] - 66s 70ms/step - loss: 0.0126 - val_loss: 0.0154\n",
      "Epoch 14/100\n",
      "937/937 [==============================] - 66s 70ms/step - loss: 0.0124 - val_loss: 0.0153\n",
      "Epoch 15/100\n",
      "937/937 [==============================] - 66s 70ms/step - loss: 0.0122 - val_loss: 0.0155\n",
      "Epoch 16/100\n",
      "937/937 [==============================] - 66s 70ms/step - loss: 0.0120 - val_loss: 0.0154\n",
      "Epoch 17/100\n",
      "937/937 [==============================] - ETA: 0s - loss: 0.0118Restoring model weights from the end of the best epoch.\n",
      "937/937 [==============================] - 69s 73ms/step - loss: 0.0118 - val_loss: 0.0155\n",
      "Epoch 00017: early stopping\n",
      "235/235 [==============================] - 5s 22ms/step\n",
      "{'accuracy': 0.6876886894734209, 'F1 (macro)': 0.5999249015486136, 'F1 (micro)': 0.8916087246404418, 'LRAP': 0.9588675490340012, 'NDCG': 0.9756602994541531}\n",
      "INFO:tensorflow:Using MirroredStrategy with devices ('/job:localhost/replica:0/task:0/device:GPU:0', '/job:localhost/replica:0/task:0/device:GPU:1', '/job:localhost/replica:0/task:0/device:GPU:2', '/job:localhost/replica:0/task:0/device:GPU:3')\n",
      "Epoch 1/100\n",
      "937/937 [==============================] - 71s 75ms/step - loss: 0.0415 - val_loss: 0.0220\n",
      "Epoch 2/100\n",
      "937/937 [==============================] - 67s 72ms/step - loss: 0.0203 - val_loss: 0.0190\n",
      "Epoch 3/100\n",
      "937/937 [==============================] - 67s 72ms/step - loss: 0.0178 - val_loss: 0.0172\n",
      "Epoch 4/100\n",
      "937/937 [==============================] - 67s 71ms/step - loss: 0.0165 - val_loss: 0.0163\n",
      "Epoch 5/100\n",
      "937/937 [==============================] - 67s 71ms/step - loss: 0.0157 - val_loss: 0.0159\n",
      "Epoch 6/100\n",
      "937/937 [==============================] - 67s 71ms/step - loss: 0.0151 - val_loss: 0.0157\n",
      "Epoch 7/100\n",
      "937/937 [==============================] - 67s 71ms/step - loss: 0.0146 - val_loss: 0.0156\n",
      "Epoch 8/100\n",
      "937/937 [==============================] - 67s 72ms/step - loss: 0.0141 - val_loss: 0.0155\n",
      "Epoch 9/100\n",
      "937/937 [==============================] - 67s 71ms/step - loss: 0.0137 - val_loss: 0.0152\n",
      "Epoch 10/100\n",
      "937/937 [==============================] - 67s 71ms/step - loss: 0.0134 - val_loss: 0.0151\n",
      "Epoch 11/100\n",
      "937/937 [==============================] - 66s 70ms/step - loss: 0.0131 - val_loss: 0.0154\n",
      "Epoch 12/100\n",
      "937/937 [==============================] - 67s 72ms/step - loss: 0.0129 - val_loss: 0.0151\n",
      "Epoch 13/100\n",
      "937/937 [==============================] - 66s 70ms/step - loss: 0.0126 - val_loss: 0.0153\n",
      "Epoch 14/100\n",
      "937/937 [==============================] - 66s 70ms/step - loss: 0.0124 - val_loss: 0.0152\n",
      "Epoch 15/100\n",
      "937/937 [==============================] - 66s 70ms/step - loss: 0.0121 - val_loss: 0.0154\n",
      "Epoch 16/100\n",
      "937/937 [==============================] - 66s 70ms/step - loss: 0.0120 - val_loss: 0.0153\n",
      "Epoch 17/100\n",
      "937/937 [==============================] - ETA: 0s - loss: 0.0118Restoring model weights from the end of the best epoch.\n",
      "937/937 [==============================] - 68s 73ms/step - loss: 0.0118 - val_loss: 0.0155\n",
      "Epoch 00017: early stopping\n",
      "235/235 [==============================] - 5s 22ms/step\n",
      "{'accuracy': 0.683885710473204, 'F1 (macro)': 0.59073924610004, 'F1 (micro)': 0.8914903744446795, 'LRAP': 0.9592540105866715, 'NDCG': 0.9751416332744892}\n",
      "INFO:tensorflow:Using MirroredStrategy with devices ('/job:localhost/replica:0/task:0/device:GPU:0', '/job:localhost/replica:0/task:0/device:GPU:1', '/job:localhost/replica:0/task:0/device:GPU:2', '/job:localhost/replica:0/task:0/device:GPU:3')\n",
      "Epoch 1/100\n",
      "937/937 [==============================] - 71s 75ms/step - loss: 0.0422 - val_loss: 0.0226\n",
      "Epoch 2/100\n",
      "937/937 [==============================] - 67s 72ms/step - loss: 0.0206 - val_loss: 0.0187\n",
      "Epoch 3/100\n",
      "937/937 [==============================] - 67s 71ms/step - loss: 0.0180 - val_loss: 0.0172\n",
      "Epoch 4/100\n",
      "937/937 [==============================] - 67s 72ms/step - loss: 0.0167 - val_loss: 0.0164\n",
      "Epoch 5/100\n",
      "937/937 [==============================] - 67s 72ms/step - loss: 0.0159 - val_loss: 0.0164\n",
      "Epoch 6/100\n",
      "937/937 [==============================] - 67s 72ms/step - loss: 0.0152 - val_loss: 0.0158\n",
      "Epoch 7/100\n",
      "937/937 [==============================] - 67s 71ms/step - loss: 0.0147 - val_loss: 0.0156\n",
      "Epoch 8/100\n",
      "937/937 [==============================] - 67s 72ms/step - loss: 0.0142 - val_loss: 0.0152\n",
      "Epoch 9/100\n",
      "937/937 [==============================] - 66s 70ms/step - loss: 0.0139 - val_loss: 0.0154\n",
      "Epoch 10/100\n",
      "937/937 [==============================] - 67s 72ms/step - loss: 0.0135 - val_loss: 0.0152\n",
      "Epoch 11/100\n",
      "937/937 [==============================] - 66s 70ms/step - loss: 0.0132 - val_loss: 0.0154\n",
      "Epoch 12/100\n",
      "937/937 [==============================] - 66s 70ms/step - loss: 0.0130 - val_loss: 0.0153\n",
      "Epoch 13/100\n",
      "937/937 [==============================] - 66s 70ms/step - loss: 0.0127 - val_loss: 0.0153\n",
      "Epoch 14/100\n",
      "937/937 [==============================] - 66s 71ms/step - loss: 0.0124 - val_loss: 0.0153\n",
      "Epoch 15/100\n",
      "937/937 [==============================] - ETA: 0s - loss: 0.0122Restoring model weights from the end of the best epoch.\n",
      "937/937 [==============================] - 68s 73ms/step - loss: 0.0122 - val_loss: 0.0153\n",
      "Epoch 00015: early stopping\n",
      "235/235 [==============================] - 5s 22ms/step\n",
      "{'accuracy': 0.6892313337002385, 'F1 (macro)': 0.5769756954251424, 'F1 (micro)': 0.8908249996008325, 'LRAP': 0.9574913607734222, 'NDCG': 0.977724617969515}\n",
      "INFO:tensorflow:Using MirroredStrategy with devices ('/job:localhost/replica:0/task:0/device:GPU:0', '/job:localhost/replica:0/task:0/device:GPU:1', '/job:localhost/replica:0/task:0/device:GPU:2', '/job:localhost/replica:0/task:0/device:GPU:3')\n",
      "Epoch 1/100\n",
      "937/937 [==============================] - 71s 75ms/step - loss: 0.0421 - val_loss: 0.0227\n",
      "Epoch 2/100\n",
      "937/937 [==============================] - 67s 71ms/step - loss: 0.0206 - val_loss: 0.0184\n",
      "Epoch 3/100\n",
      "937/937 [==============================] - 67s 71ms/step - loss: 0.0179 - val_loss: 0.0174\n",
      "Epoch 4/100\n",
      "937/937 [==============================] - 67s 71ms/step - loss: 0.0166 - val_loss: 0.0165\n",
      "Epoch 5/100\n",
      "937/937 [==============================] - 67s 71ms/step - loss: 0.0158 - val_loss: 0.0162\n",
      "Epoch 6/100\n",
      "937/937 [==============================] - 67s 71ms/step - loss: 0.0151 - val_loss: 0.0158\n",
      "Epoch 7/100\n",
      "937/937 [==============================] - 66s 70ms/step - loss: 0.0146 - val_loss: 0.0158\n",
      "Epoch 8/100\n",
      "937/937 [==============================] - 66s 70ms/step - loss: 0.0142 - val_loss: 0.0158\n",
      "Epoch 9/100\n",
      "937/937 [==============================] - 67s 71ms/step - loss: 0.0138 - val_loss: 0.0156\n",
      "Epoch 10/100\n",
      "937/937 [==============================] - 67s 71ms/step - loss: 0.0135 - val_loss: 0.0154\n",
      "Epoch 11/100\n",
      "937/937 [==============================] - 66s 70ms/step - loss: 0.0132 - val_loss: 0.0156\n",
      "Epoch 12/100\n",
      "937/937 [==============================] - 71s 76ms/step - loss: 0.0129 - val_loss: 0.0155\n",
      "Epoch 13/100\n",
      "937/937 [==============================] - 67s 71ms/step - loss: 0.0126 - val_loss: 0.0154\n",
      "Epoch 14/100\n",
      "937/937 [==============================] - 66s 70ms/step - loss: 0.0124 - val_loss: 0.0155\n",
      "Epoch 15/100\n",
      "937/937 [==============================] - 66s 70ms/step - loss: 0.0122 - val_loss: 0.0157\n",
      "Epoch 16/100\n",
      "937/937 [==============================] - 66s 70ms/step - loss: 0.0120 - val_loss: 0.0157\n",
      "Epoch 17/100\n",
      "937/937 [==============================] - 66s 70ms/step - loss: 0.0118 - val_loss: 0.0156\n",
      "Epoch 18/100\n",
      "937/937 [==============================] - ETA: 0s - loss: 0.0116Restoring model weights from the end of the best epoch.\n",
      "937/937 [==============================] - 69s 73ms/step - loss: 0.0116 - val_loss: 0.0158\n",
      "Epoch 00018: early stopping\n",
      "235/235 [==============================] - 5s 22ms/step\n",
      "{'accuracy': 0.6837355928810902, 'F1 (macro)': 0.5908180714279215, 'F1 (micro)': 0.8906634977223213, 'LRAP': 0.9587391384866483, 'NDCG': 0.9754969428738423}\n",
      "INFO:tensorflow:Using MirroredStrategy with devices ('/job:localhost/replica:0/task:0/device:GPU:0', '/job:localhost/replica:0/task:0/device:GPU:1', '/job:localhost/replica:0/task:0/device:GPU:2', '/job:localhost/replica:0/task:0/device:GPU:3')\n",
      "Epoch 1/100\n",
      "937/937 [==============================] - 74s 79ms/step - loss: 0.0414 - val_loss: 0.0220\n",
      "Epoch 2/100\n",
      "937/937 [==============================] - 67s 72ms/step - loss: 0.0203 - val_loss: 0.0184\n",
      "Epoch 3/100\n",
      "937/937 [==============================] - 67s 72ms/step - loss: 0.0178 - val_loss: 0.0170\n",
      "Epoch 4/100\n",
      "937/937 [==============================] - 67s 72ms/step - loss: 0.0165 - val_loss: 0.0165\n",
      "Epoch 5/100\n",
      "937/937 [==============================] - 67s 72ms/step - loss: 0.0157 - val_loss: 0.0161\n",
      "Epoch 6/100\n",
      "937/937 [==============================] - 67s 72ms/step - loss: 0.0151 - val_loss: 0.0161\n",
      "Epoch 7/100\n",
      "937/937 [==============================] - 67s 72ms/step - loss: 0.0146 - val_loss: 0.0155\n",
      "Epoch 8/100\n",
      "937/937 [==============================] - 66s 70ms/step - loss: 0.0142 - val_loss: 0.0155\n",
      "Epoch 9/100\n",
      "937/937 [==============================] - 66s 70ms/step - loss: 0.0138 - val_loss: 0.0157\n",
      "Epoch 10/100\n",
      "937/937 [==============================] - 67s 71ms/step - loss: 0.0134 - val_loss: 0.0154\n",
      "Epoch 11/100\n",
      "937/937 [==============================] - 67s 72ms/step - loss: 0.0131 - val_loss: 0.0156\n",
      "Epoch 12/100\n",
      "937/937 [==============================] - 66s 70ms/step - loss: 0.0128 - val_loss: 0.0155\n",
      "Epoch 13/100\n",
      "937/937 [==============================] - 66s 70ms/step - loss: 0.0126 - val_loss: 0.0155\n",
      "Epoch 14/100\n",
      "937/937 [==============================] - 66s 70ms/step - loss: 0.0124 - val_loss: 0.0154\n",
      "Epoch 15/100\n",
      "937/937 [==============================] - ETA: 0s - loss: 0.0122Restoring model weights from the end of the best epoch.\n",
      "937/937 [==============================] - 69s 73ms/step - loss: 0.0122 - val_loss: 0.0156\n",
      "Epoch 00015: early stopping\n",
      "235/235 [==============================] - 5s 22ms/step\n",
      "{'accuracy': 0.6859206378329692, 'F1 (macro)': 0.5885870434270981, 'F1 (micro)': 0.890565897501918, 'LRAP': 0.9573505346267526, 'NDCG': 0.9757838932387786}\n"
     ]
    },
    {
     "data": {
      "text/html": [
       "<div>\n",
       "<style scoped>\n",
       "    .dataframe tbody tr th:only-of-type {\n",
       "        vertical-align: middle;\n",
       "    }\n",
       "\n",
       "    .dataframe tbody tr th {\n",
       "        vertical-align: top;\n",
       "    }\n",
       "\n",
       "    .dataframe thead th {\n",
       "        text-align: right;\n",
       "    }\n",
       "</style>\n",
       "<table border=\"1\" class=\"dataframe\">\n",
       "  <thead>\n",
       "    <tr style=\"text-align: right;\">\n",
       "      <th></th>\n",
       "      <th>accuracy</th>\n",
       "      <th>F1 (macro)</th>\n",
       "      <th>F1 (micro)</th>\n",
       "      <th>LRAP</th>\n",
       "      <th>NDCG</th>\n",
       "    </tr>\n",
       "  </thead>\n",
       "  <tbody>\n",
       "    <tr>\n",
       "      <th>0</th>\n",
       "      <td>0.687689</td>\n",
       "      <td>0.599925</td>\n",
       "      <td>0.891609</td>\n",
       "      <td>0.958868</td>\n",
       "      <td>0.975660</td>\n",
       "    </tr>\n",
       "    <tr>\n",
       "      <th>1</th>\n",
       "      <td>0.683886</td>\n",
       "      <td>0.590739</td>\n",
       "      <td>0.891490</td>\n",
       "      <td>0.959254</td>\n",
       "      <td>0.975142</td>\n",
       "    </tr>\n",
       "    <tr>\n",
       "      <th>2</th>\n",
       "      <td>0.689231</td>\n",
       "      <td>0.576976</td>\n",
       "      <td>0.890825</td>\n",
       "      <td>0.957491</td>\n",
       "      <td>0.977725</td>\n",
       "    </tr>\n",
       "    <tr>\n",
       "      <th>3</th>\n",
       "      <td>0.683736</td>\n",
       "      <td>0.590818</td>\n",
       "      <td>0.890663</td>\n",
       "      <td>0.958739</td>\n",
       "      <td>0.975497</td>\n",
       "    </tr>\n",
       "    <tr>\n",
       "      <th>4</th>\n",
       "      <td>0.685921</td>\n",
       "      <td>0.588587</td>\n",
       "      <td>0.890566</td>\n",
       "      <td>0.957351</td>\n",
       "      <td>0.975784</td>\n",
       "    </tr>\n",
       "  </tbody>\n",
       "</table>\n",
       "</div>"
      ],
      "text/plain": [
       "   accuracy  F1 (macro)  F1 (micro)      LRAP      NDCG\n",
       "0  0.687689    0.599925    0.891609  0.958868  0.975660\n",
       "1  0.683886    0.590739    0.891490  0.959254  0.975142\n",
       "2  0.689231    0.576976    0.890825  0.957491  0.977725\n",
       "3  0.683736    0.590818    0.890663  0.958739  0.975497\n",
       "4  0.685921    0.588587    0.890566  0.957351  0.975784"
      ]
     },
     "metadata": {},
     "output_type": "display_data"
    },
    {
     "name": "stdout",
     "output_type": "stream",
     "text": [
      "accuracy      0.686092\n",
      "F1 (macro)    0.589409\n",
      "F1 (micro)    0.891031\n",
      "LRAP          0.958341\n",
      "NDCG          0.975961\n",
      "dtype: float64\n"
     ]
    }
   ],
   "source": [
    "reset_seed()\n",
    "cross_evaluate(models.cnn_bi_lstm_1, model_params={\n",
    "    \"filters_1\": 400, \"filters_2\": 500, \"loss\": \"binary_crossentropy\",\n",
    "    \"embedding_matrix\": w2v_embedding_matrix})"
   ]
  },
  {
   "cell_type": "code",
   "execution_count": 47,
   "metadata": {},
   "outputs": [
    {
     "name": "stdout",
     "output_type": "stream",
     "text": [
      "INFO:tensorflow:Using MirroredStrategy with devices ('/job:localhost/replica:0/task:0/device:GPU:0', '/job:localhost/replica:0/task:0/device:GPU:1', '/job:localhost/replica:0/task:0/device:GPU:2', '/job:localhost/replica:0/task:0/device:GPU:3')\n",
      "Model: \"sequential_13\"\n",
      "_________________________________________________________________\n",
      "Layer (type)                 Output Shape              Param #   \n",
      "=================================================================\n",
      "embedding_21 (Embedding)     (None, 768, 300)          198020100 \n",
      "_________________________________________________________________\n",
      "conv1d_42 (Conv1D)           (None, 767, 400)          240400    \n",
      "_________________________________________________________________\n",
      "batch_normalization_42 (Batc (None, 767, 400)          1600      \n",
      "_________________________________________________________________\n",
      "re_lu_42 (ReLU)              (None, 767, 400)          0         \n",
      "_________________________________________________________________\n",
      "max_pooling1d_42 (MaxPooling (None, 383, 400)          0         \n",
      "_________________________________________________________________\n",
      "dropout_42 (Dropout)         (None, 383, 400)          0         \n",
      "_________________________________________________________________\n",
      "conv1d_43 (Conv1D)           (None, 382, 500)          400500    \n",
      "_________________________________________________________________\n",
      "batch_normalization_43 (Batc (None, 382, 500)          2000      \n",
      "_________________________________________________________________\n",
      "re_lu_43 (ReLU)              (None, 382, 500)          0         \n",
      "_________________________________________________________________\n",
      "max_pooling1d_43 (MaxPooling (None, 191, 500)          0         \n",
      "_________________________________________________________________\n",
      "dropout_43 (Dropout)         (None, 191, 500)          0         \n",
      "_________________________________________________________________\n",
      "bidirectional_19 (Bidirectio (None, 512)               1550336   \n",
      "_________________________________________________________________\n",
      "dense_17 (Dense)             (None, 126)               64638     \n",
      "=================================================================\n",
      "Total params: 200,279,574\n",
      "Trainable params: 2,257,674\n",
      "Non-trainable params: 198,021,900\n",
      "_________________________________________________________________\n",
      "INFO:tensorflow:Using MirroredStrategy with devices ('/job:localhost/replica:0/task:0/device:GPU:0', '/job:localhost/replica:0/task:0/device:GPU:1', '/job:localhost/replica:0/task:0/device:GPU:2', '/job:localhost/replica:0/task:0/device:GPU:3')\n",
      "Epoch 1/100\n",
      "937/937 [==============================] - 70s 75ms/step - loss: 0.0113 - val_loss: 0.0064\n",
      "Epoch 2/100\n",
      "937/937 [==============================] - 67s 71ms/step - loss: 0.0058 - val_loss: 0.0052\n",
      "Epoch 3/100\n",
      "937/937 [==============================] - 67s 71ms/step - loss: 0.0050 - val_loss: 0.0048\n",
      "Epoch 4/100\n",
      "937/937 [==============================] - 67s 71ms/step - loss: 0.0046 - val_loss: 0.0047\n",
      "Epoch 5/100\n",
      "937/937 [==============================] - 67s 72ms/step - loss: 0.0044 - val_loss: 0.0045\n",
      "Epoch 6/100\n",
      "937/937 [==============================] - 67s 71ms/step - loss: 0.0043 - val_loss: 0.0044\n",
      "Epoch 7/100\n",
      "937/937 [==============================] - 67s 71ms/step - loss: 0.0041 - val_loss: 0.0043\n",
      "Epoch 8/100\n",
      "937/937 [==============================] - 66s 70ms/step - loss: 0.0040 - val_loss: 0.0043\n",
      "Epoch 9/100\n",
      "937/937 [==============================] - 66s 70ms/step - loss: 0.0039 - val_loss: 0.0043\n",
      "Epoch 10/100\n",
      "937/937 [==============================] - 67s 71ms/step - loss: 0.0038 - val_loss: 0.0043\n",
      "Epoch 11/100\n",
      "937/937 [==============================] - 66s 70ms/step - loss: 0.0037 - val_loss: 0.0043\n",
      "Epoch 12/100\n",
      "937/937 [==============================] - 67s 71ms/step - loss: 0.0037 - val_loss: 0.0042\n",
      "Epoch 13/100\n",
      "937/937 [==============================] - 66s 70ms/step - loss: 0.0036 - val_loss: 0.0042\n",
      "Epoch 14/100\n",
      "937/937 [==============================] - 67s 72ms/step - loss: 0.0036 - val_loss: 0.0042\n",
      "Epoch 15/100\n",
      "937/937 [==============================] - 66s 70ms/step - loss: 0.0035 - val_loss: 0.0043\n",
      "Epoch 16/100\n",
      "937/937 [==============================] - 66s 70ms/step - loss: 0.0034 - val_loss: 0.0043\n",
      "Epoch 17/100\n",
      "937/937 [==============================] - 66s 70ms/step - loss: 0.0034 - val_loss: 0.0043\n",
      "Epoch 18/100\n",
      "937/937 [==============================] - 66s 70ms/step - loss: 0.0033 - val_loss: 0.0043\n",
      "Epoch 19/100\n",
      "937/937 [==============================] - ETA: 0s - loss: 0.0033Restoring model weights from the end of the best epoch.\n",
      "937/937 [==============================] - 69s 73ms/step - loss: 0.0033 - val_loss: 0.0042\n",
      "Epoch 00019: early stopping\n",
      "235/235 [==============================] - 5s 22ms/step\n",
      "{'accuracy': 0.6916084266008373, 'F1 (macro)': 0.5799627240704491, 'F1 (micro)': 0.8921506739588251, 'LRAP': 0.956311472927769, 'NDCG': 0.9743929078723703}\n",
      "INFO:tensorflow:Using MirroredStrategy with devices ('/job:localhost/replica:0/task:0/device:GPU:0', '/job:localhost/replica:0/task:0/device:GPU:1', '/job:localhost/replica:0/task:0/device:GPU:2', '/job:localhost/replica:0/task:0/device:GPU:3')\n",
      "Epoch 1/100\n",
      "937/937 [==============================] - 71s 75ms/step - loss: 0.0111 - val_loss: 0.0064\n",
      "Epoch 2/100\n",
      "937/937 [==============================] - 67s 71ms/step - loss: 0.0058 - val_loss: 0.0052\n",
      "Epoch 3/100\n",
      "937/937 [==============================] - 67s 71ms/step - loss: 0.0050 - val_loss: 0.0049\n",
      "Epoch 4/100\n",
      "937/937 [==============================] - 67s 71ms/step - loss: 0.0047 - val_loss: 0.0047\n",
      "Epoch 5/100\n",
      "937/937 [==============================] - 67s 71ms/step - loss: 0.0044 - val_loss: 0.0045\n",
      "Epoch 6/100\n",
      "937/937 [==============================] - 67s 71ms/step - loss: 0.0043 - val_loss: 0.0044\n",
      "Epoch 7/100\n",
      "937/937 [==============================] - 66s 70ms/step - loss: 0.0041 - val_loss: 0.0045\n",
      "Epoch 8/100\n",
      "937/937 [==============================] - 67s 71ms/step - loss: 0.0040 - val_loss: 0.0043\n",
      "Epoch 9/100\n",
      "937/937 [==============================] - 66s 70ms/step - loss: 0.0039 - val_loss: 0.0043\n",
      "Epoch 10/100\n",
      "937/937 [==============================] - 67s 71ms/step - loss: 0.0038 - val_loss: 0.0043\n",
      "Epoch 11/100\n",
      "937/937 [==============================] - 65s 70ms/step - loss: 0.0038 - val_loss: 0.0043\n",
      "Epoch 12/100\n",
      "937/937 [==============================] - 67s 71ms/step - loss: 0.0037 - val_loss: 0.0042\n",
      "Epoch 13/100\n",
      "937/937 [==============================] - 66s 70ms/step - loss: 0.0036 - val_loss: 0.0042\n",
      "Epoch 14/100\n",
      "937/937 [==============================] - 66s 70ms/step - loss: 0.0035 - val_loss: 0.0043\n",
      "Epoch 15/100\n",
      "937/937 [==============================] - 66s 70ms/step - loss: 0.0035 - val_loss: 0.0043\n",
      "Epoch 16/100\n",
      "937/937 [==============================] - 66s 70ms/step - loss: 0.0034 - val_loss: 0.0042\n",
      "Epoch 17/100\n",
      "937/937 [==============================] - ETA: 0s - loss: 0.0034Restoring model weights from the end of the best epoch.\n",
      "937/937 [==============================] - 68s 73ms/step - loss: 0.0034 - val_loss: 0.0043\n",
      "Epoch 00017: early stopping\n",
      "235/235 [==============================] - 5s 22ms/step\n",
      "{'accuracy': 0.6892065451270162, 'F1 (macro)': 0.5719609106944802, 'F1 (micro)': 0.890860530954543, 'LRAP': 0.9557170618977122, 'NDCG': 0.973186432714401}\n",
      "INFO:tensorflow:Using MirroredStrategy with devices ('/job:localhost/replica:0/task:0/device:GPU:0', '/job:localhost/replica:0/task:0/device:GPU:1', '/job:localhost/replica:0/task:0/device:GPU:2', '/job:localhost/replica:0/task:0/device:GPU:3')\n",
      "Epoch 1/100\n",
      "937/937 [==============================] - 71s 75ms/step - loss: 0.0111 - val_loss: 0.0062\n",
      "Epoch 2/100\n",
      "937/937 [==============================] - 67s 71ms/step - loss: 0.0057 - val_loss: 0.0052\n",
      "Epoch 3/100\n",
      "937/937 [==============================] - 67s 71ms/step - loss: 0.0050 - val_loss: 0.0047\n",
      "Epoch 4/100\n",
      "937/937 [==============================] - 67s 71ms/step - loss: 0.0046 - val_loss: 0.0046\n",
      "Epoch 5/100\n",
      "937/937 [==============================] - 67s 71ms/step - loss: 0.0044 - val_loss: 0.0045\n",
      "Epoch 6/100\n",
      "937/937 [==============================] - 67s 71ms/step - loss: 0.0043 - val_loss: 0.0044\n",
      "Epoch 7/100\n",
      "937/937 [==============================] - 67s 71ms/step - loss: 0.0041 - val_loss: 0.0044\n",
      "Epoch 8/100\n",
      "937/937 [==============================] - 67s 71ms/step - loss: 0.0040 - val_loss: 0.0043\n",
      "Epoch 9/100\n",
      "937/937 [==============================] - 66s 70ms/step - loss: 0.0039 - val_loss: 0.0043\n",
      "Epoch 10/100\n",
      "937/937 [==============================] - 67s 71ms/step - loss: 0.0038 - val_loss: 0.0042\n",
      "Epoch 11/100\n",
      "937/937 [==============================] - 67s 71ms/step - loss: 0.0037 - val_loss: 0.0042\n",
      "Epoch 12/100\n",
      "937/937 [==============================] - 67s 71ms/step - loss: 0.0037 - val_loss: 0.0042\n",
      "Epoch 13/100\n",
      "937/937 [==============================] - 67s 71ms/step - loss: 0.0036 - val_loss: 0.0042\n",
      "Epoch 14/100\n",
      "937/937 [==============================] - 66s 70ms/step - loss: 0.0035 - val_loss: 0.0042\n",
      "Epoch 15/100\n",
      "937/937 [==============================] - 67s 71ms/step - loss: 0.0035 - val_loss: 0.0042\n",
      "Epoch 16/100\n",
      "937/937 [==============================] - 66s 70ms/step - loss: 0.0034 - val_loss: 0.0042\n",
      "Epoch 17/100\n",
      "937/937 [==============================] - 66s 70ms/step - loss: 0.0034 - val_loss: 0.0042\n",
      "Epoch 18/100\n",
      "937/937 [==============================] - 66s 71ms/step - loss: 0.0033 - val_loss: 0.0042\n",
      "Epoch 19/100\n",
      "937/937 [==============================] - 66s 70ms/step - loss: 0.0033 - val_loss: 0.0042\n",
      "Epoch 20/100\n",
      "937/937 [==============================] - ETA: 0s - loss: 0.0032Restoring model weights from the end of the best epoch.\n",
      "937/937 [==============================] - 72s 77ms/step - loss: 0.0032 - val_loss: 0.0042\n",
      "Epoch 00020: early stopping\n",
      "235/235 [==============================] - 5s 22ms/step\n",
      "{'accuracy': 0.6948016210536849, 'F1 (macro)': 0.5827138380652194, 'F1 (micro)': 0.8931531210150386, 'LRAP': 0.9558124373620458, 'NDCG': 0.9767469254140364}\n",
      "INFO:tensorflow:Using MirroredStrategy with devices ('/job:localhost/replica:0/task:0/device:GPU:0', '/job:localhost/replica:0/task:0/device:GPU:1', '/job:localhost/replica:0/task:0/device:GPU:2', '/job:localhost/replica:0/task:0/device:GPU:3')\n",
      "Epoch 1/100\n",
      "937/937 [==============================] - 70s 75ms/step - loss: 0.0114 - val_loss: 0.0066\n",
      "Epoch 2/100\n",
      "937/937 [==============================] - 67s 71ms/step - loss: 0.0059 - val_loss: 0.0052\n",
      "Epoch 3/100\n",
      "937/937 [==============================] - 67s 71ms/step - loss: 0.0051 - val_loss: 0.0049\n",
      "Epoch 4/100\n",
      "937/937 [==============================] - 67s 71ms/step - loss: 0.0047 - val_loss: 0.0047\n",
      "Epoch 5/100\n",
      "937/937 [==============================] - 66s 71ms/step - loss: 0.0044 - val_loss: 0.0045\n",
      "Epoch 6/100\n",
      "937/937 [==============================] - 67s 71ms/step - loss: 0.0043 - val_loss: 0.0045\n",
      "Epoch 7/100\n",
      "937/937 [==============================] - 67s 71ms/step - loss: 0.0041 - val_loss: 0.0044\n",
      "Epoch 8/100\n",
      "937/937 [==============================] - 66s 70ms/step - loss: 0.0040 - val_loss: 0.0044\n",
      "Epoch 9/100\n",
      "937/937 [==============================] - 67s 71ms/step - loss: 0.0039 - val_loss: 0.0043\n",
      "Epoch 10/100\n",
      "937/937 [==============================] - 67s 71ms/step - loss: 0.0038 - val_loss: 0.0043\n",
      "Epoch 11/100\n",
      "937/937 [==============================] - 66s 70ms/step - loss: 0.0037 - val_loss: 0.0043\n",
      "Epoch 12/100\n",
      "937/937 [==============================] - 67s 71ms/step - loss: 0.0037 - val_loss: 0.0043\n",
      "Epoch 13/100\n",
      "937/937 [==============================] - 65s 70ms/step - loss: 0.0036 - val_loss: 0.0043\n",
      "Epoch 14/100\n",
      "937/937 [==============================] - 67s 71ms/step - loss: 0.0035 - val_loss: 0.0043\n",
      "Epoch 15/100\n",
      "937/937 [==============================] - 65s 70ms/step - loss: 0.0035 - val_loss: 0.0043\n",
      "Epoch 16/100\n",
      "937/937 [==============================] - 65s 70ms/step - loss: 0.0034 - val_loss: 0.0043\n",
      "Epoch 17/100\n",
      "937/937 [==============================] - 66s 71ms/step - loss: 0.0034 - val_loss: 0.0042\n",
      "Epoch 18/100\n",
      "937/937 [==============================] - 65s 70ms/step - loss: 0.0033 - val_loss: 0.0043\n",
      "Epoch 19/100\n",
      "937/937 [==============================] - 66s 71ms/step - loss: 0.0033 - val_loss: 0.0043\n",
      "Epoch 20/100\n",
      "937/937 [==============================] - 66s 70ms/step - loss: 0.0033 - val_loss: 0.0042\n",
      "Epoch 21/100\n",
      "937/937 [==============================] - 67s 71ms/step - loss: 0.0032 - val_loss: 0.0042\n",
      "Epoch 22/100\n",
      "937/937 [==============================] - 66s 70ms/step - loss: 0.0032 - val_loss: 0.0043\n",
      "Epoch 23/100\n",
      "937/937 [==============================] - 66s 70ms/step - loss: 0.0031 - val_loss: 0.0043\n",
      "Epoch 24/100\n",
      "937/937 [==============================] - 66s 70ms/step - loss: 0.0031 - val_loss: 0.0043\n",
      "Epoch 25/100\n",
      "937/937 [==============================] - 66s 70ms/step - loss: 0.0031 - val_loss: 0.0043\n",
      "Epoch 26/100\n",
      "937/937 [==============================] - ETA: 0s - loss: 0.0030Restoring model weights from the end of the best epoch.\n",
      "937/937 [==============================] - 69s 73ms/step - loss: 0.0030 - val_loss: 0.0043\n",
      "Epoch 00026: early stopping\n",
      "235/235 [==============================] - 5s 22ms/step\n",
      "{'accuracy': 0.6932597201140893, 'F1 (macro)': 0.5928809852157991, 'F1 (micro)': 0.8925406576369458, 'LRAP': 0.9567144119227947, 'NDCG': 0.974220369958567}\n",
      "INFO:tensorflow:Using MirroredStrategy with devices ('/job:localhost/replica:0/task:0/device:GPU:0', '/job:localhost/replica:0/task:0/device:GPU:1', '/job:localhost/replica:0/task:0/device:GPU:2', '/job:localhost/replica:0/task:0/device:GPU:3')\n",
      "Epoch 1/100\n",
      "937/937 [==============================] - 71s 75ms/step - loss: 0.0111 - val_loss: 0.0063\n",
      "Epoch 2/100\n",
      "937/937 [==============================] - 67s 71ms/step - loss: 0.0057 - val_loss: 0.0052\n",
      "Epoch 3/100\n",
      "937/937 [==============================] - 67s 71ms/step - loss: 0.0050 - val_loss: 0.0048\n",
      "Epoch 4/100\n",
      "937/937 [==============================] - 67s 71ms/step - loss: 0.0047 - val_loss: 0.0047\n",
      "Epoch 5/100\n",
      "937/937 [==============================] - 67s 71ms/step - loss: 0.0044 - val_loss: 0.0045\n",
      "Epoch 6/100\n",
      "937/937 [==============================] - 67s 71ms/step - loss: 0.0043 - val_loss: 0.0045\n",
      "Epoch 7/100\n",
      "937/937 [==============================] - 67s 71ms/step - loss: 0.0041 - val_loss: 0.0044\n",
      "Epoch 8/100\n",
      "937/937 [==============================] - 67s 71ms/step - loss: 0.0040 - val_loss: 0.0043\n",
      "Epoch 9/100\n",
      "937/937 [==============================] - 67s 71ms/step - loss: 0.0039 - val_loss: 0.0043\n",
      "Epoch 10/100\n",
      "937/937 [==============================] - 67s 71ms/step - loss: 0.0038 - val_loss: 0.0043\n",
      "Epoch 11/100\n",
      "937/937 [==============================] - 66s 70ms/step - loss: 0.0038 - val_loss: 0.0043\n",
      "Epoch 12/100\n",
      "937/937 [==============================] - 66s 70ms/step - loss: 0.0037 - val_loss: 0.0043\n",
      "Epoch 13/100\n",
      "937/937 [==============================] - 67s 71ms/step - loss: 0.0036 - val_loss: 0.0042\n",
      "Epoch 14/100\n",
      "937/937 [==============================] - 66s 70ms/step - loss: 0.0036 - val_loss: 0.0043\n",
      "Epoch 15/100\n",
      "937/937 [==============================] - 66s 70ms/step - loss: 0.0035 - val_loss: 0.0042\n",
      "Epoch 16/100\n",
      "937/937 [==============================] - 66s 70ms/step - loss: 0.0035 - val_loss: 0.0042\n",
      "Epoch 17/100\n",
      "937/937 [==============================] - 66s 70ms/step - loss: 0.0034 - val_loss: 0.0042\n",
      "Epoch 18/100\n",
      "937/937 [==============================] - 67s 71ms/step - loss: 0.0034 - val_loss: 0.0042\n",
      "Epoch 19/100\n",
      "937/937 [==============================] - 66s 70ms/step - loss: 0.0033 - val_loss: 0.0043\n",
      "Epoch 20/100\n",
      "937/937 [==============================] - 66s 70ms/step - loss: 0.0033 - val_loss: 0.0043\n",
      "Epoch 21/100\n",
      "937/937 [==============================] - 66s 70ms/step - loss: 0.0032 - val_loss: 0.0042\n",
      "Epoch 22/100\n",
      "937/937 [==============================] - 66s 70ms/step - loss: 0.0032 - val_loss: 0.0042\n",
      "Epoch 23/100\n",
      "937/937 [==============================] - ETA: 0s - loss: 0.0032Restoring model weights from the end of the best epoch.\n",
      "937/937 [==============================] - 69s 73ms/step - loss: 0.0032 - val_loss: 0.0043\n",
      "Epoch 00023: early stopping\n",
      "235/235 [==============================] - 5s 22ms/step\n",
      "{'accuracy': 0.6987473520924724, 'F1 (macro)': 0.5924234590213148, 'F1 (micro)': 0.8932903212114137, 'LRAP': 0.9558369108871984, 'NDCG': 0.9747912309731211}\n"
     ]
    },
    {
     "data": {
      "text/html": [
       "<div>\n",
       "<style scoped>\n",
       "    .dataframe tbody tr th:only-of-type {\n",
       "        vertical-align: middle;\n",
       "    }\n",
       "\n",
       "    .dataframe tbody tr th {\n",
       "        vertical-align: top;\n",
       "    }\n",
       "\n",
       "    .dataframe thead th {\n",
       "        text-align: right;\n",
       "    }\n",
       "</style>\n",
       "<table border=\"1\" class=\"dataframe\">\n",
       "  <thead>\n",
       "    <tr style=\"text-align: right;\">\n",
       "      <th></th>\n",
       "      <th>accuracy</th>\n",
       "      <th>F1 (macro)</th>\n",
       "      <th>F1 (micro)</th>\n",
       "      <th>LRAP</th>\n",
       "      <th>NDCG</th>\n",
       "    </tr>\n",
       "  </thead>\n",
       "  <tbody>\n",
       "    <tr>\n",
       "      <th>0</th>\n",
       "      <td>0.691608</td>\n",
       "      <td>0.579963</td>\n",
       "      <td>0.892151</td>\n",
       "      <td>0.956311</td>\n",
       "      <td>0.974393</td>\n",
       "    </tr>\n",
       "    <tr>\n",
       "      <th>1</th>\n",
       "      <td>0.689207</td>\n",
       "      <td>0.571961</td>\n",
       "      <td>0.890861</td>\n",
       "      <td>0.955717</td>\n",
       "      <td>0.973186</td>\n",
       "    </tr>\n",
       "    <tr>\n",
       "      <th>2</th>\n",
       "      <td>0.694802</td>\n",
       "      <td>0.582714</td>\n",
       "      <td>0.893153</td>\n",
       "      <td>0.955812</td>\n",
       "      <td>0.976747</td>\n",
       "    </tr>\n",
       "    <tr>\n",
       "      <th>3</th>\n",
       "      <td>0.693260</td>\n",
       "      <td>0.592881</td>\n",
       "      <td>0.892541</td>\n",
       "      <td>0.956714</td>\n",
       "      <td>0.974220</td>\n",
       "    </tr>\n",
       "    <tr>\n",
       "      <th>4</th>\n",
       "      <td>0.698747</td>\n",
       "      <td>0.592423</td>\n",
       "      <td>0.893290</td>\n",
       "      <td>0.955837</td>\n",
       "      <td>0.974791</td>\n",
       "    </tr>\n",
       "  </tbody>\n",
       "</table>\n",
       "</div>"
      ],
      "text/plain": [
       "   accuracy  F1 (macro)  F1 (micro)      LRAP      NDCG\n",
       "0  0.691608    0.579963    0.892151  0.956311  0.974393\n",
       "1  0.689207    0.571961    0.890861  0.955717  0.973186\n",
       "2  0.694802    0.582714    0.893153  0.955812  0.976747\n",
       "3  0.693260    0.592881    0.892541  0.956714  0.974220\n",
       "4  0.698747    0.592423    0.893290  0.955837  0.974791"
      ]
     },
     "metadata": {},
     "output_type": "display_data"
    },
    {
     "name": "stdout",
     "output_type": "stream",
     "text": [
      "accuracy      0.693525\n",
      "F1 (macro)    0.583988\n",
      "F1 (micro)    0.892399\n",
      "LRAP          0.956078\n",
      "NDCG          0.974668\n",
      "dtype: float64\n"
     ]
    }
   ],
   "source": [
    "reset_seed()\n",
    "cross_evaluate(models.cnn_bi_lstm_1, model_params={\n",
    "    \"filters_1\": 400, \"filters_2\": 500, \"loss\": \"mean_squared_error\",\n",
    "    \"embedding_matrix\": w2v_embedding_matrix})"
   ]
  }
 ],
 "metadata": {
  "kernelspec": {
   "display_name": "Python 3",
   "language": "python",
   "name": "python3"
  },
  "language_info": {
   "codemirror_mode": {
    "name": "ipython",
    "version": 3
   },
   "file_extension": ".py",
   "mimetype": "text/x-python",
   "name": "python",
   "nbconvert_exporter": "python",
   "pygments_lexer": "ipython3",
   "version": "3.7.3"
  }
 },
 "nbformat": 4,
 "nbformat_minor": 2
}
