{
 "cells": [
  {
   "cell_type": "code",
   "execution_count": 1,
   "metadata": {
    "pycharm": {
     "name": "#%%\n"
    }
   },
   "outputs": [],
   "source": [
    "import io\n",
    "import os\n",
    "import pickle\n",
    "import random as rn\n",
    "import warnings\n",
    "from datetime import datetime\n",
    "from importlib import reload\n",
    "from multiprocessing import cpu_count\n",
    "\n",
    "warnings.filterwarnings(\"ignore\")\n",
    "\n",
    "import matplotlib.pyplot as plt\n",
    "import numpy as np\n",
    "import pandas as pd\n",
    "import seaborn as sns\n",
    "import tensorflow as tf\n",
    "from gensim.models import Word2Vec\n",
    "from gensim.models.fasttext import FastText\n",
    "from IPython.display import display\n",
    "from iterstrat.ml_stratifiers import MultilabelStratifiedKFold\n",
    "from sklearn.metrics import accuracy_score, f1_score, ndcg_score, \\\n",
    "        label_ranking_average_precision_score\n",
    "from sklearn.model_selection import train_test_split\n",
    "from sklearn.utils import shuffle\n",
    "from tensorflow.keras.callbacks import EarlyStopping\n",
    "from tensorflow.keras.preprocessing.text import Tokenizer\n",
    "from tensorflow.keras.preprocessing.sequence import pad_sequences\n",
    "from tensorflow.keras.utils import plot_model\n",
    "\n",
    "import data\n",
    "import models\n",
    "import preprocessing\n",
    "\n",
    "seed = 42\n",
    "sns.set()\n",
    "\n",
    "def reset_seed():\n",
    "    os.environ[\"PYTHONHASHSEED\"] = str(seed)\n",
    "    os.environ[\"TF_DETERMINISTIC_OPS\"] = \"1\"\n",
    "    np.random.seed(seed)\n",
    "    rn.seed(seed)\n",
    "    tf.random.set_seed(seed)"
   ]
  },
  {
   "cell_type": "markdown",
   "metadata": {},
   "source": [
    "## Choose notebook version"
   ]
  },
  {
   "cell_type": "code",
   "execution_count": 2,
   "metadata": {},
   "outputs": [],
   "source": [
    "version = \"tokenized_cased\"\n",
    "# version = \"tokenized_no_sw_no_punct\"\n",
    "# version = \"tokenized_lemmatized_no_sw_no_punct\""
   ]
  },
  {
   "cell_type": "markdown",
   "metadata": {
    "pycharm": {
     "name": "#%% md\n"
    }
   },
   "source": [
    "## Extracting the data"
   ]
  },
  {
   "cell_type": "code",
   "execution_count": 3,
   "metadata": {
    "pycharm": {
     "name": "#%%\n"
    }
   },
   "outputs": [
    {
     "name": "stdout",
     "output_type": "stream",
     "text": [
      "(299773,)\n",
      "(299773, 126)\n",
      "Toronto stocks end higher after volatile session. CHANGE\t\t\t\t    CHANGE TSE\t  5900.37    +50.15   HI 5900.37\t    LO  5840.29 DJI\t  6611.05    +27.57   GOLD (LONDON)   US$350.00 +1.90 FTSE100    4248.10    -64.80   GOLD (NY-COMEX) US$354.80 +0.70 NIKKEI    17869.59   -133.81   LME CASH NICKEL US$7659   +99.0 CANDLR\t1.3883\t\t LME CASH ALUM   US$1602.0  -4.0 CAN 30-YR   107.41     -0.15   BRENT CRUDE     US$19.09  -0.27 --------------------MARKET COMMENT---------------------------- * Toronto stocks ended higher on Tuesday, buoyed by strength in golds and banking * Computer problems due to heavy trading in Bre-X Minerals hampered session * 84 million shares traded Toronto's key stock index ended higher on Tuesday as the saga of Bre-X Minerals Ltd and its Indonesian gold find continued to dominate Canada's biggest stock market. The TSE 300 Index climbed 50.15 points to close at 5900.37 in heavy turnover of 84.07 million shares worth C$1.4 billion. But the overall market was mixed with declining issues narrowly outpacing advances 476 to 464. 298 issues were flat. Frantic trading in Bre-X collapsed the TSE's computer trading system earlier in the day, forcing the exchange to halt trading in the stock before the market closed. Shares in the Calgary-based gold prospector were halted for a statement by the company this morning. When it resumed, a whopping 7.7 million shares changed hands in the first 22 minutes of trading before the system crashed. Bre-X closed up 1.35 at 3.85. It was the first time Bre-X traded since investors lopped nearly C$3 billion off its stock market value last Thursday. TSE officials said the trading problems were due to old technology which will be replaced. On the Montreal Exchange, Bre-X closed up 0.81 at 3.50 on 9.8 million shares. Analysts predicted more volatility for Bre-X shares this week. \"The question of what Bre-X will release over the next few days will be important to the market,\" said Josef Schachter, of Schachter Asset Management Inc. The gold sector rose nearly 136 points, leading 12 of 14 sub-indices higher. Other strong groups included financial services, consumer products, energy and transportation. The TSE posted minor losses in forestry and real estate. --- HOT STOCKS --- * Among bank shares, Bank of Nova Scotia rose 0.65 to 51.50 on 2.1 million shares, while Canadian Imperial Bank of Commerce added 0.50 to 31.80 on 2.1 million shares. ((Reuters Toronto Bureau (416) 941-8100))\n",
      "[0 0 0 0 0 0 0 0 0 0 0 0 0 0 0 0 0 0 0 0 0 0 0 0 0 0 0 0 0 0 0 0 0 0 0 0 0\n",
      " 0 0 0 0 0 0 0 0 0 0 0 0 0 0 0 0 0 0 0 0 0 0 0 0 0 0 0 0 0 0 0 0 0 0 0 0 0\n",
      " 0 0 0 0 0 0 0 0 0 0 0 0 0 0 0 0 0 0 0 0 0 0 0 0 0 0 0 0 0 0 0 0 0 0 0 0 0\n",
      " 0 0 0 1 0 0 0 0 0 0 0 0 1 0 0]\n"
     ]
    }
   ],
   "source": [
    "# data.extract_data(extraction_dir=\"train\",\n",
    "#                   data_dir=\"data\",\n",
    "#                   data_zip_name=\"reuters-training-corpus.zip\")\n",
    "\n",
    "train_df = pd.read_pickle(\"train/data.pkl\")\n",
    "\n",
    "# train_df = data.get_docs_labels(\"train/REUTERS_CORPUS_2\")\n",
    "# train_df.to_pickle(\"train/data.pkl\")\n",
    "\n",
    "train_docs = train_df[\"doc\"].values\n",
    "n_train = train_docs.shape[0]\n",
    "train_labels = np.array(train_df[\"labels\"].tolist())\n",
    "n_labels = len(data.CODEMAP)\n",
    "\n",
    "print(train_docs.shape)\n",
    "print(train_labels.shape)\n",
    "print(train_docs[2])\n",
    "print(train_labels[2])"
   ]
  },
  {
   "cell_type": "code",
   "execution_count": 4,
   "metadata": {},
   "outputs": [
    {
     "name": "stdout",
     "output_type": "stream",
     "text": [
      "(33142,)\n",
      "OFFICIAL JOURNAL CONTENTS - OJ L 94 OF APRIL 9, 1997. * (Note - contents are displayed in reverse order to that in the printed Journal) * COMMISSION DECISION of 14 March 1997 amending the list of declining industrial areas concerned by Objective 2 as defined by Council Regulation (EEC) No 2052/88 (97/237/EC) COMMISSION DECISION of 13 March 1997 authorizing the grant by Finland of national aid in the reindeer sector (Only the Finnish and Swedish texts are authentic) (97/236/EC) COMMISSION DECISION of 6 March 1997 approving a modification to the single programming document for Community structural measures for improving the processing and marketing conditions for agricultural products in the Grand Duchy of Luxembourg, in respect of Objective 5 (a), covering the period between 1994 and 1999 (Only the French text is authentic) (97/235/EC) COMMISSION DECISION of 3 March 1997 amending Decision 96/233/EC establishing the list of approved fish farms in Denmark (Text with EEA relevance) (97/234/EC) COMMISSION REGULATION (EC) No 619/97 of 8 April 1997 amending representative prices and additional duties for the import of certain products in the sugar sector COMMISSION REGULATION (EC) No 618/97 of 8 April 1997 establishing the standard import values for determining the entry price of certain fruit and vegetables COMMISSION REGULATION (EC) No 617/97 of 8 April 1997 suspending the preferential customs duties and re-establishing the Common Customs Tariff duty on imports of uniflorous (standard) carnations originating in Israel COMMISSION REGULATION (EC) No 616/97 of 8 April 1997 amending Regulation (EEC) No 3886/92 laying down detailed rules for the application of premium schemes in the beef and veal sector COMMISSION REGULATION (EC) No 615/97 of 8 April 1997 authorizing on a temporary basis the conclusion of direct contracts between producers who are members of producer organizations and processing undertakings in the fruit and vegetable sector under Council Regulation (EC) No 2200/96 COMMISSION REGULATION (EC) No 614/97 of 8 April 1997 adjusting the total quantities set in Article 3 of Council Regulation (EEC) No 3950/92 establishing an additional levy in the milk and milk products sector COMMISSION REGULATION (EC) No 613/97 of 8 April 1997 laying down rules for the application of Council Regulation (EC) No 3072/95 as regards the conditions for granting compensatory payments under the aid scheme for rice producers END OF DOCUMENT.\n"
     ]
    }
   ],
   "source": [
    "test_df = pd.read_pickle(\"test/data.pkl\")\n",
    "\n",
    "# test_df = data.get_docs_labels(\"test/text-test-corpus-STRIPPED\")\n",
    "# test_df.to_pickle(\"test/data.pkl\")\n",
    "\n",
    "test_docs = test_df[\"doc\"].values\n",
    "\n",
    "print(test_docs.shape)\n",
    "print(test_docs[2])"
   ]
  },
  {
   "cell_type": "markdown",
   "metadata": {
    "pycharm": {
     "name": "#%% md\n"
    }
   },
   "source": [
    "## Preprocessing the documents"
   ]
  },
  {
   "cell_type": "code",
   "execution_count": 5,
   "metadata": {
    "pycharm": {
     "name": "#%%\n"
    }
   },
   "outputs": [
    {
     "name": "stdout",
     "output_type": "stream",
     "text": [
      "Toronto stocks end higher after volatile session . CHANGE CHANGE TSE 5900.37 +50.15 HI 5900.37 LO 5840.29 DJI 6611.05 +27.57 GOLD ( LONDON ) US$ 350.00 +1.90 FTSE100 4248.10 -64.80 GOLD ( NY - COMEX ) US$ 354.80 +0.70 NIKKEI 17869.59 -133.81 LME CASH NICKEL US$ 7659 +99.0 CANDLR 1.3883 LME CASH ALUM US$ 1602.0 -4.0 CAN 30-YR 107.41 -0.15 BRENT CRUDE US$ 19.09 -0.27 --------------------MARKET COMMENT---------------------------- * Toronto stocks ended higher on Tuesday , buoyed by strength in golds and banking * Computer problems due to heavy trading in Bre - X Minerals hampered session * 84 million shares traded Toronto 's key stock index ended higher on Tuesday as the saga of Bre - X Minerals Ltd and its Indonesian gold find continued to dominate Canada 's biggest stock market . The TSE 300 Index climbed 50.15 points to close at 5900.37 in heavy turnover of 84.07 million shares worth C$ 1.4 billion . But the overall market was mixed with declining issues narrowly outpacing advances 476 to 464 . 298 issues were flat . Frantic trading in Bre - X collapsed the TSE 's computer trading system earlier in the day , forcing the exchange to halt trading in the stock before the market closed . Shares in the Calgary - based gold prospector were halted for a statement by the company this morning . When it resumed , a whopping 7.7 million shares changed hands in the first 22 minutes of trading before the system crashed . Bre - X closed up 1.35 at 3.85 . It was the first time Bre - X traded since investors lopped nearly C$ 3 billion off its stock market value last Thursday . TSE officials said the trading problems were due to old technology which will be replaced . On the Montreal Exchange , Bre - X closed up 0.81 at 3.50 on 9.8 million shares . Analysts predicted more volatility for Bre - X shares this week . \" The question of what Bre - X will release over the next few days will be important to the market , \" said Josef Schachter , of Schachter Asset Management Inc. The gold sector rose nearly 136 points , leading 12 of 14 sub - indices higher . Other strong groups included financial services , consumer products , energy and transportation . The TSE posted minor losses in forestry and real estate . --- HOT STOCKS --- * Among bank shares , Bank of Nova Scotia rose 0.65 to 51.50 on 2.1 million shares , while Canadian Imperial Bank of Commerce added 0.50 to 31.80 on 2.1 million shares . ( ( Reuters Toronto Bureau ( 416 ) 941 - 8100 ) )\n"
     ]
    }
   ],
   "source": [
    "path_to_preprocessed_train_docs = f\"train/preprocessed_docs_{version}.pkl\"\n",
    "\n",
    "try:\n",
    "    with open(path_to_preprocessed_train_docs, \"rb\") as f:\n",
    "        preprocessed_train_docs = pickle.load(f)\n",
    "except:\n",
    "    preprocessed_train_docs = preprocessing.preprocess_corpus(train_docs)\n",
    "    with open(path_to_preprocessed_train_docs, \"wb\") as f:\n",
    "        pickle.dump(preprocessed_train_docs, f)\n",
    "\n",
    "print(preprocessed_train_docs[2])"
   ]
  },
  {
   "cell_type": "code",
   "execution_count": 6,
   "metadata": {},
   "outputs": [
    {
     "name": "stdout",
     "output_type": "stream",
     "text": [
      "OFFICIAL JOURNAL CONTENTS - OJ L 94 OF APRIL 9 , 1997 . * ( Note - contents are displayed in reverse order to that in the printed Journal ) * COMMISSION DECISION of 14 March 1997 amending the list of declining industrial areas concerned by Objective 2 as defined by Council Regulation ( EEC ) No 2052/88 ( 97/237 / EC ) COMMISSION DECISION of 13 March 1997 authorizing the grant by Finland of national aid in the reindeer sector ( Only the Finnish and Swedish texts are authentic ) ( 97/236 / EC ) COMMISSION DECISION of 6 March 1997 approving a modification to the single programming document for Community structural measures for improving the processing and marketing conditions for agricultural products in the Grand Duchy of Luxembourg , in respect of Objective 5 ( a ) , covering the period between 1994 and 1999 ( Only the French text is authentic ) ( 97/235 / EC ) COMMISSION DECISION of 3 March 1997 amending Decision 96/233 / EC establishing the list of approved fish farms in Denmark ( Text with EEA relevance ) ( 97/234 / EC ) COMMISSION REGULATION ( EC ) No 619/97 of 8 April 1997 amending representative prices and additional duties for the import of certain products in the sugar sector COMMISSION REGULATION ( EC ) No 618/97 of 8 April 1997 establishing the standard import values for determining the entry price of certain fruit and vegetables COMMISSION REGULATION ( EC ) No 617/97 of 8 April 1997 suspending the preferential customs duties and re - establishing the Common Customs Tariff duty on imports of uniflorous ( standard ) carnations originating in Israel COMMISSION REGULATION ( EC ) No 616/97 of 8 April 1997 amending Regulation ( EEC ) No 3886/92 laying down detailed rules for the application of premium schemes in the beef and veal sector COMMISSION REGULATION ( EC ) No 615/97 of 8 April 1997 authorizing on a temporary basis the conclusion of direct contracts between producers who are members of producer organizations and processing undertakings in the fruit and vegetable sector under Council Regulation ( EC ) No 2200/96 COMMISSION REGULATION ( EC ) No 614/97 of 8 April 1997 adjusting the total quantities set in Article 3 of Council Regulation ( EEC ) No 3950/92 establishing an additional levy in the milk and milk products sector COMMISSION REGULATION ( EC ) No 613/97 of 8 April 1997 laying down rules for the application of Council Regulation ( EC ) No 3072/95 as regards the conditions for granting compensatory payments under the aid scheme for rice producers END OF DOCUMENT .\n"
     ]
    }
   ],
   "source": [
    "path_to_preprocessed_test_docs = f\"test/preprocessed_docs_{version}.pkl\"\n",
    "\n",
    "try:\n",
    "    with open(path_to_preprocessed_test_docs, \"rb\") as f:\n",
    "        preprocessed_test_docs = pickle.load(f)\n",
    "except:\n",
    "    preprocessed_test_docs = preprocessing.preprocess_corpus(test_docs)\n",
    "    with open(path_to_preprocessed_test_docs, \"wb\") as f:\n",
    "        pickle.dump(preprocessed_test_docs, f)\n",
    "\n",
    "print(preprocessed_test_docs[2])"
   ]
  },
  {
   "cell_type": "markdown",
   "metadata": {},
   "source": [
    "## Representing the documents as token index sequences"
   ]
  },
  {
   "cell_type": "code",
   "execution_count": 7,
   "metadata": {},
   "outputs": [],
   "source": [
    "docs = preprocessed_train_docs + preprocessed_test_docs\n",
    "n_vocabulary = None"
   ]
  },
  {
   "cell_type": "code",
   "execution_count": 8,
   "metadata": {
    "pycharm": {
     "name": "#%%\n"
    }
   },
   "outputs": [
    {
     "name": "stdout",
     "output_type": "stream",
     "text": [
      "762712\n"
     ]
    }
   ],
   "source": [
    "tokenizer = Tokenizer(num_words=n_vocabulary, filters=\"\", lower=False)\n",
    "tokenizer.fit_on_texts(docs)\n",
    "word_idx = tokenizer.word_index\n",
    "if n_vocabulary is None:\n",
    "    n_vocabulary = len(word_idx) + 1 # use index 0 for padding\n",
    "\n",
    "print(n_vocabulary)"
   ]
  },
  {
   "cell_type": "code",
   "execution_count": 9,
   "metadata": {
    "pycharm": {
     "name": "#%%\n"
    }
   },
   "outputs": [
    {
     "name": "stdout",
     "output_type": "stream",
     "text": [
      "1536\n",
      "(332915, 1536)\n",
      "[  2095    215    136    146     52   2659    588      2   3697   3697\n",
      "   9427 235954 398775   8385 235954   8889 398776  29489 180421 287072\n",
      "   4768     14   2997     13    582  22120 130920  55161 398777 398778\n",
      "   4768     14   3289      7   3307     13    582 235955  66216  14981\n",
      " 398779 202329   1638   5552  16603    582 398780 398781  23709 163462\n",
      "   1638   5552  23013    582 398782  14921   1753  11613 123030  33682\n",
      "  15599  12721    582  41671  47418  31933  36245     38   2095    215\n",
      "    225    146     12     84      3   5798     23   1048      6  11356\n",
      "      9    819     38   3286    701    167      4    891    179      6\n",
      "   3606      7   1957   6700   9271    588     38   4184     31     75]\n"
     ]
    }
   ],
   "source": [
    "n_sequence = 1536\n",
    "\n",
    "sequences = tokenizer.texts_to_sequences(docs)\n",
    "if n_sequence is None:\n",
    "    n_sequence = max([len(s) for s in sequences])\n",
    "sequence_lengths = [min(len(s), n_sequence) for s in sequences]\n",
    "sequences = pad_sequences(sequences,\n",
    "                          maxlen=n_sequence,\n",
    "                          padding=\"post\",\n",
    "                          truncating=\"post\")\n",
    "\n",
    "print(n_sequence)\n",
    "print(sequences.shape)\n",
    "print(sequences[2][:100])"
   ]
  },
  {
   "cell_type": "code",
   "execution_count": 10,
   "metadata": {
    "pycharm": {
     "name": "#%%\n"
    }
   },
   "outputs": [
    {
     "data": {
      "image/png": "[encoded data removed]",
      "text/plain": [
       "<Figure size 432x288 with 1 Axes>"
      ]
     },
     "metadata": {},
     "output_type": "display_data"
    }
   ],
   "source": [
    "doc_lengths = [len(doc.split()) for doc in docs]\n",
    "\n",
    "sns.distplot(doc_lengths,\n",
    "             bins=np.arange(0, 2500, 25),\n",
    "             kde=False,\n",
    "             label=\"documents\")\n",
    "sns.distplot(sequence_lengths,\n",
    "             bins=np.arange(0, 2500, 25),\n",
    "             kde=False,\n",
    "             label=\"sequences\")\n",
    "total_word_coverage = np.round(np.sum(sequence_lengths) / np.sum(doc_lengths), 3)\n",
    "plt.title(f\"n_vocabulary={n_vocabulary}, n_sequence={n_sequence},\\n\"\n",
    "          f\"total_word_coverage={total_word_coverage}\")\n",
    "plt.xlim(0, 1550)\n",
    "plt.xlabel(\"length\")\n",
    "plt.legend()\n",
    "plt.tight_layout()\n",
    "plt.show()"
   ]
  },
  {
   "cell_type": "markdown",
   "metadata": {},
   "source": [
    "## Word embeddings"
   ]
  },
  {
   "cell_type": "code",
   "execution_count": 11,
   "metadata": {
    "pycharm": {
     "name": "#%%\n"
    }
   },
   "outputs": [],
   "source": [
    "n_embedding = 300 # 300 required by pretrained embeddings"
   ]
  },
  {
   "cell_type": "markdown",
   "metadata": {},
   "source": [
    "### FastText"
   ]
  },
  {
   "cell_type": "code",
   "execution_count": 12,
   "metadata": {},
   "outputs": [
    {
     "name": "stdout",
     "output_type": "stream",
     "text": [
      "762711\n",
      "['the', '.', ',', 'to', 'of', 'in', '-', 'a', 'and', '\"', 'said', 'on', ')', '(', \"'s\", 'for', 'The', 'at', 'was', '$', 'that', 'is', 'by', 'with', 'from', 'percent', 'it', 'be', '/', 'as', 'million', 'its', 'will', 'has', '--', 'were', 'not', '*', 'would', 'year', 'are', 'have', 'an', 'he', 'which', ':', 'had', 'market', 'up', 'A', 'but', 'after', 'this', 'N', 'company', 'one', 'U.S.', 'been', 'billion', 'also', 'government', 'last', 'or', '1997', 'two', 'their', 'they', 'first', 'over', 'new', '1', 'his', 'more', 'June', 'shares', 'about', 'week', 'It', 'than', 'Bank', 'I', 'share', 'who', 'Tuesday', '1996', '%', 'per', 'Wednesday', 'May', 'we', 'Thursday', 'expected', 'July', 'Monday', 'We', 'some', 'Friday', 'down', 'could', 'three']\n"
     ]
    }
   ],
   "source": [
    "reset_seed()\n",
    "\n",
    "ft_path = f\"data/fasttext_{version}.model\"\n",
    "# ft_path = f\"train/fasttext_{version}.model\"\n",
    "\n",
    "try:\n",
    "    ft = FastText.load(ft_path)\n",
    "except:\n",
    "    ft = FastText(sentences=[doc.split() for doc in docs], size=n_embedding,\n",
    "                  min_count=1, workers=cpu_count(), seed=seed)\n",
    "    ft.save(ft_path)\n",
    "\n",
    "print(len(list(ft.wv.vocab)))\n",
    "print(ft.wv.index2entity[:100])"
   ]
  },
  {
   "cell_type": "markdown",
   "metadata": {},
   "source": [
    "### Word2Vec"
   ]
  },
  {
   "cell_type": "code",
   "execution_count": 13,
   "metadata": {
    "pycharm": {
     "name": "#%%\n"
    }
   },
   "outputs": [
    {
     "name": "stdout",
     "output_type": "stream",
     "text": [
      "762711\n",
      "['the', '.', ',', 'to', 'of', 'in', '-', 'a', 'and', '\"', 'said', 'on', ')', '(', \"'s\", 'for', 'The', 'at', 'was', '$', 'that', 'is', 'by', 'with', 'from', 'percent', 'it', 'be', '/', 'as', 'million', 'its', 'will', 'has', '--', 'were', 'not', '*', 'would', 'year', 'are', 'have', 'an', 'he', 'which', ':', 'had', 'market', 'up', 'A', 'but', 'after', 'this', 'N', 'company', 'one', 'U.S.', 'been', 'billion', 'also', 'government', 'last', 'or', '1997', 'two', 'their', 'they', 'first', 'over', 'new', '1', 'his', 'more', 'June', 'shares', 'about', 'week', 'It', 'than', 'Bank', 'I', 'share', 'who', 'Tuesday', '1996', '%', 'per', 'Wednesday', 'May', 'we', 'Thursday', 'expected', 'July', 'Monday', 'We', 'some', 'Friday', 'down', 'could', 'three']\n"
     ]
    }
   ],
   "source": [
    "reset_seed()\n",
    "\n",
    "w2v_path = f\"data/w2v_{version}.model\"\n",
    "# w2v_path = f\"train/w2v_{version}.model\"\n",
    "\n",
    "try:\n",
    "    w2v = Word2Vec.load(w2v_path)\n",
    "except:\n",
    "    w2v = Word2Vec(sentences=[doc.split() for doc in docs], size=n_embedding,\n",
    "                   min_count=1, workers=cpu_count(), seed=seed)\n",
    "    w2v.save(w2v_path)\n",
    "\n",
    "print(len(list(w2v.wv.vocab)))\n",
    "print(w2v.wv.index2entity[:100])"
   ]
  },
  {
   "cell_type": "markdown",
   "metadata": {},
   "source": [
    "### Pre-trained FastText"
   ]
  },
  {
   "cell_type": "code",
   "execution_count": 14,
   "metadata": {},
   "outputs": [],
   "source": [
    "def load_embeddings(fname, skip_first):\n",
    "    embedding_idx = {}\n",
    "    with open(fname, \"r\", encoding=\"utf-8\", errors=\"ignore\") as f:\n",
    "        for i, line in enumerate(f):\n",
    "            if i == 0 and skip_first:\n",
    "                continue\n",
    "            vals = line.rstrip().split()\n",
    "            token = \"\".join(vals[:-300])\n",
    "            embedding = np.array(vals[-300:], dtype=np.float32)\n",
    "            embedding_idx[token] = embedding\n",
    "    return embedding_idx"
   ]
  },
  {
   "cell_type": "code",
   "execution_count": 15,
   "metadata": {},
   "outputs": [
    {
     "name": "stdout",
     "output_type": "stream",
     "text": [
      "[',', 'the', '.', 'and', 'to', 'of', 'a', 'in', 'is', 'for', 'that', 'I', 'it', 'on', 'with', ')', ':', '\"', '(', 'The', 'you', 'was', 'are', 'or', 'this', 'as', 'have', 'at', 'from', '!', \"'s\", 'but', 'by', 'not', '?', 'your', 'all', '/', 'be', 'we', 'my', 'one', '-', 'will', 'they', 'so', 'which', '”', '“', 'has', '...', 'just', 'he', 'their', 'can', 'about', 'his', 'our', ';', 'when', 'more', 'had', 'do', 'some', 'time', 'like', 'also', 'there', 'them', 'get', 'what', 'out', \"'\", 'me', 'her', 'an', 'were', 'This', 'It', 'up', 'would', 'if', 'who', 'new', 'only', 'A', '–', 'people', 'any', 'We', 'make', 'other', 'In', 'then', 'its', 'use', 'said', 'now', 'no', 'first']\n"
     ]
    }
   ],
   "source": [
    "ft_pretrained = load_embeddings(\"data/crawl-300d-2M.vec\", skip_first=True)\n",
    "\n",
    "token_iter = iter(ft_pretrained)\n",
    "print([next(token_iter) for i in range(100)])"
   ]
  },
  {
   "cell_type": "markdown",
   "metadata": {},
   "source": [
    "### Pre-trained GloVe"
   ]
  },
  {
   "cell_type": "code",
   "execution_count": 16,
   "metadata": {},
   "outputs": [
    {
     "name": "stdout",
     "output_type": "stream",
     "text": [
      "[',', '.', 'the', 'and', 'to', 'of', 'a', 'in', '\"', ':', 'is', 'for', 'I', ')', '(', 'that', '-', 'on', 'you', 'with', \"'s\", 'it', 'The', 'are', 'by', 'at', 'be', 'this', 'as', 'from', 'was', 'have', 'or', '...', 'your', 'not', '!', '?', 'will', 'an', \"n't\", 'can', 'but', 'all', 'my', 'has', '|', 'do', 'we', 'they', 'more', 'one', 'about', 'he', ';', \"'\", 'out', '$', 'their', 'so', 'his', 'up', 'It', '&', 'like', '/', '1', 'which', 'if', 'would', 'our', '[', ']', 'me', 'who', 'just', 'This', 'time', 'what', 'A', '2', 'had', 'when', 'there', 'been', 'some', 'get', 'were', 'other', 'also', 'In', 'her', 'them', 'You', 'new', 'We', 'no', 'any', '>', 'people']\n"
     ]
    }
   ],
   "source": [
    "if version == \"tokenized_cased\":\n",
    "    glove_pretrained = load_embeddings(\"data/glove.840B.300d.txt\", skip_first=False)\n",
    "else:\n",
    "    glove_pretrained = load_embeddings(\"data/glove.42B.300d.txt\", skip_first=False)\n",
    "    \n",
    "token_iter = iter(glove_pretrained)\n",
    "print([next(token_iter) for i in range(100)])"
   ]
  },
  {
   "cell_type": "markdown",
   "metadata": {},
   "source": [
    "### Embedding matrices"
   ]
  },
  {
   "cell_type": "code",
   "execution_count": 17,
   "metadata": {
    "pycharm": {
     "name": "#%%\n"
    }
   },
   "outputs": [],
   "source": [
    "def create_embedding_matrix(embedding_model):\n",
    "    embedding_matrix = np.zeros((n_vocabulary, n_embedding))\n",
    "    unknown_token_count = 0\n",
    "    for token, i in word_idx.items():\n",
    "        if i >= n_vocabulary:\n",
    "            continue\n",
    "        if token in embedding_model:\n",
    "            embedding_matrix[i] = embedding_model[token]\n",
    "        else:\n",
    "            unknown_token_count += 1\n",
    "\n",
    "    print(unknown_token_count)\n",
    "    print(embedding_matrix.shape)\n",
    "    print(embedding_matrix[1][:20])\n",
    "\n",
    "    return embedding_matrix"
   ]
  },
  {
   "cell_type": "code",
   "execution_count": 18,
   "metadata": {},
   "outputs": [
    {
     "name": "stdout",
     "output_type": "stream",
     "text": [
      "0\n",
      "(762712, 300)\n",
      "[ 2.60082126  4.1615696   3.10287261  4.46255398  0.49275851 -3.08360028\n",
      "  5.75870943  3.70959353  0.92910308 -0.94961739  0.0122972   5.87578487\n",
      "  0.45075765 -3.08726764 -1.17578566  2.33939171 -0.92189437 -0.80971539\n",
      "  1.7391876  -2.2687695 ]\n"
     ]
    }
   ],
   "source": [
    "ft_embedding_matrix = create_embedding_matrix(ft)"
   ]
  },
  {
   "cell_type": "code",
   "execution_count": 19,
   "metadata": {},
   "outputs": [
    {
     "name": "stdout",
     "output_type": "stream",
     "text": [
      "0\n",
      "(762712, 300)\n",
      "[-0.63477027 -0.77177155 -0.5531857   1.17861974  0.95079625 -0.01210889\n",
      " -0.86642587 -0.2856015  -1.40522826  0.75717586 -1.6686604   2.61663437\n",
      " -2.13727951 -0.03661137 -1.20471513 -1.72690833  0.86653012  0.21646138\n",
      "  0.04978285 -0.05401069]\n"
     ]
    }
   ],
   "source": [
    "w2v_embedding_matrix = create_embedding_matrix(w2v)"
   ]
  },
  {
   "cell_type": "code",
   "execution_count": 20,
   "metadata": {},
   "outputs": [
    {
     "name": "stdout",
     "output_type": "stream",
     "text": [
      "499966\n",
      "(762712, 300)\n",
      "[ 0.0231      0.017       0.0157     -0.0773      0.1088      0.0031\n",
      " -0.1487     -0.26719999 -0.0357     -0.0487      0.0807      0.1532\n",
      " -0.0739     -0.0291     -0.0445     -0.0014      0.1014      0.0186\n",
      " -0.0253      0.02      ]\n"
     ]
    }
   ],
   "source": [
    "ft_pretrained_embedding_matrix = create_embedding_matrix(ft_pretrained)"
   ]
  },
  {
   "cell_type": "code",
   "execution_count": 21,
   "metadata": {},
   "outputs": [
    {
     "name": "stdout",
     "output_type": "stream",
     "text": [
      "463359\n",
      "(762712, 300)\n",
      "[ 0.27204001 -0.06203    -0.1884      0.023225   -0.018158    0.0067192\n",
      " -0.13877     0.17708001  0.17709     2.58820009 -0.35179001 -0.17312001\n",
      "  0.43285    -0.10708     0.15006    -0.19982    -0.19092999  1.18710005\n",
      " -0.16207001 -0.23537999]\n"
     ]
    }
   ],
   "source": [
    "glove_pretrained_embedding_matrix = create_embedding_matrix(glove_pretrained)"
   ]
  },
  {
   "cell_type": "markdown",
   "metadata": {},
   "source": [
    "## Shuffling the data"
   ]
  },
  {
   "cell_type": "code",
   "execution_count": 22,
   "metadata": {},
   "outputs": [],
   "source": [
    "n_samples = None\n",
    "x_train, y_train = shuffle(sequences[:n_train],\n",
    "                           train_labels,\n",
    "                           random_state=seed,\n",
    "                           n_samples=n_samples)\n",
    "x_test = sequences[n_train:]"
   ]
  },
  {
   "cell_type": "markdown",
   "metadata": {},
   "source": [
    "## Cross-evaluating the models"
   ]
  },
  {
   "cell_type": "code",
   "execution_count": 25,
   "metadata": {},
   "outputs": [],
   "source": [
    "def cross_evaluate(model_initializer, batch_size=256, model_params={}):\n",
    "    model = model_initializer(n_vocabulary, n_embedding, n_sequence, n_labels,\n",
    "                      **model_params)\n",
    "    model.summary()\n",
    "    plot_model(model, to_file=f\"model_plots/{model_initializer.__name__}_{version}.png\",\n",
    "               show_shapes=True)\n",
    "\n",
    "    cv_scores = []\n",
    "    mskf = MultilabelStratifiedKFold(n_splits=5, random_state=seed)\n",
    "    for train, val in mskf.split(x_train, y_train):\n",
    "        model = model_initializer(n_vocabulary, n_embedding, n_sequence, n_labels,\n",
    "                                  **model_params)\n",
    "        es = EarlyStopping(patience=10, verbose=1, restore_best_weights=True)\n",
    "        history = model.fit(x_train[train],\n",
    "                            y_train[train],\n",
    "                            batch_size=batch_size,\n",
    "                            epochs=100,\n",
    "                            verbose=1,\n",
    "                            validation_data=(x_train[val], y_train[val]),\n",
    "                            callbacks=[es])\n",
    "\n",
    "        y_val_pred_prob = model.predict(x_train[val], batch_size=batch_size, verbose=1)\n",
    "        y_val_pred = np.round(y_val_pred_prob)\n",
    "\n",
    "        scores = {}\n",
    "        scores[\"accuracy\"] = accuracy_score(y_train[val], y_val_pred)\n",
    "        scores[\"F1 (macro)\"] = f1_score(y_train[val], y_val_pred, average=\"macro\")\n",
    "        scores[\"F1 (micro)\"] = f1_score(y_train[val], y_val_pred, average=\"micro\")\n",
    "        scores[\"LRAP\"] = label_ranking_average_precision_score(y_train[val],\n",
    "                                                               y_val_pred_prob)\n",
    "        scores[\"NDCG\"] = ndcg_score(y_train[val], y_val_pred_prob)\n",
    "        scores[\"timestamp\"] = round(datetime.timestamp(datetime.now()))\n",
    "        cv_scores.append(scores)\n",
    "        print(scores)\n",
    "\n",
    "        y_test_pred_prob = model.predict(x_test, batch_size=batch_size, verbose=1)\n",
    "        y_test_pred = np.round(y_test_pred_prob)\n",
    "        \n",
    "        np.savetxt(f\"test_results/{model_initializer.__name__}_{version}_\" +\n",
    "                   f\"{scores['timestamp']}_\" +\n",
    "                   f\"{np.round(scores['F1 (micro)'], 6)}.txt\", y_test_pred, fmt=\"%d\")\n",
    "\n",
    "    cv_scores_df = pd.DataFrame(cv_scores)\n",
    "    display(cv_scores_df)\n",
    "    print(cv_scores_df.drop(\"timestamp\", axis=1).mean())"
   ]
  },
  {
   "cell_type": "code",
   "execution_count": null,
   "metadata": {},
   "outputs": [
    {
     "name": "stdout",
     "output_type": "stream",
     "text": [
      "INFO:tensorflow:Using MirroredStrategy with devices ('/job:localhost/replica:0/task:0/device:GPU:0', '/job:localhost/replica:0/task:0/device:GPU:1', '/job:localhost/replica:0/task:0/device:GPU:2', '/job:localhost/replica:0/task:0/device:GPU:3')\n",
      "Model: \"sequential_8\"\n",
      "_________________________________________________________________\n",
      "Layer (type)                 Output Shape              Param #   \n",
      "=================================================================\n",
      "embedding_8 (Embedding)      (None, 1536, 300)         228813600 \n",
      "_________________________________________________________________\n",
      "bidirectional_16 (Bidirectio (None, 512)               1140736   \n",
      "_________________________________________________________________\n",
      "dense_8 (Dense)              (None, 126)               64638     \n",
      "=================================================================\n",
      "Total params: 230,018,974\n",
      "Trainable params: 1,205,374\n",
      "Non-trainable params: 228,813,600\n",
      "_________________________________________________________________\n",
      "INFO:tensorflow:Using MirroredStrategy with devices ('/job:localhost/replica:0/task:0/device:GPU:0', '/job:localhost/replica:0/task:0/device:GPU:1', '/job:localhost/replica:0/task:0/device:GPU:2', '/job:localhost/replica:0/task:0/device:GPU:3')\n",
      "Epoch 1/100\n",
      "937/937 [==============================] - 165s 177ms/step - loss: 0.0133 - val_loss: 0.0077\n",
      "Epoch 2/100\n",
      "937/937 [==============================] - 156s 167ms/step - loss: 0.0067 - val_loss: 0.0060\n",
      "Epoch 3/100\n",
      "937/937 [==============================] - 157s 167ms/step - loss: 0.0057 - val_loss: 0.0054\n",
      "Epoch 4/100\n",
      "937/937 [==============================] - 157s 168ms/step - loss: 0.0051 - val_loss: 0.0050\n",
      "Epoch 5/100\n",
      "937/937 [==============================] - 157s 167ms/step - loss: 0.0047 - val_loss: 0.0047\n",
      "Epoch 6/100\n",
      "937/937 [==============================] - 157s 167ms/step - loss: 0.0045 - val_loss: 0.0046\n",
      "Epoch 7/100\n",
      "937/937 [==============================] - 157s 167ms/step - loss: 0.0043 - val_loss: 0.0044\n",
      "Epoch 8/100\n",
      "937/937 [==============================] - 157s 168ms/step - loss: 0.0042 - val_loss: 0.0044\n",
      "Epoch 9/100\n",
      "937/937 [==============================] - 157s 167ms/step - loss: 0.0040 - val_loss: 0.0043\n",
      "Epoch 10/100\n",
      "937/937 [==============================] - 157s 167ms/step - loss: 0.0039 - val_loss: 0.0043\n",
      "Epoch 11/100\n",
      "937/937 [==============================] - 157s 167ms/step - loss: 0.0038 - val_loss: 0.0043\n",
      "Epoch 12/100\n",
      "937/937 [==============================] - 156s 167ms/step - loss: 0.0037 - val_loss: 0.0042\n",
      "Epoch 13/100\n",
      "937/937 [==============================] - 155s 166ms/step - loss: 0.0037 - val_loss: 0.0042\n",
      "Epoch 14/100\n",
      "937/937 [==============================] - 156s 166ms/step - loss: 0.0036 - val_loss: 0.0042\n",
      "Epoch 15/100\n",
      "937/937 [==============================] - 156s 167ms/step - loss: 0.0035 - val_loss: 0.0042\n",
      "Epoch 16/100\n",
      "851/937 [==========================>...] - ETA: 12s - loss: 0.0034"
     ]
    }
   ],
   "source": [
    "reset_seed()\n",
    "cross_evaluate(models.bi_lstm_1, model_params={\n",
    "    \"filters_1\": 400, \"filters_2\": 500, \"loss\": \"mean_squared_error\",\n",
    "    \"embedding_matrix\": ft_pretrained_embedding_matrix})"
   ]
  },
  {
   "cell_type": "code",
   "execution_count": 35,
   "metadata": {},
   "outputs": [
    {
     "name": "stdout",
     "output_type": "stream",
     "text": [
      "INFO:tensorflow:Using MirroredStrategy with devices ('/job:localhost/replica:0/task:0/device:GPU:0', '/job:localhost/replica:0/task:0/device:GPU:1', '/job:localhost/replica:0/task:0/device:GPU:2', '/job:localhost/replica:0/task:0/device:GPU:3')\n",
      "INFO:tensorflow:Reduce to /job:localhost/replica:0/task:0/device:CPU:0 then broadcast to ('/job:localhost/replica:0/task:0/device:CPU:0',).\n",
      "INFO:tensorflow:Reduce to /job:localhost/replica:0/task:0/device:CPU:0 then broadcast to ('/job:localhost/replica:0/task:0/device:CPU:0',).\n",
      "INFO:tensorflow:Reduce to /job:localhost/replica:0/task:0/device:CPU:0 then broadcast to ('/job:localhost/replica:0/task:0/device:CPU:0',).\n",
      "INFO:tensorflow:Reduce to /job:localhost/replica:0/task:0/device:CPU:0 then broadcast to ('/job:localhost/replica:0/task:0/device:CPU:0',).\n",
      "Model: \"sequential\"\n",
      "_________________________________________________________________\n",
      "Layer (type)                 Output Shape              Param #   \n",
      "=================================================================\n",
      "embedding (Embedding)        (None, 1536, 300)         228813600 \n",
      "_________________________________________________________________\n",
      "conv1d (Conv1D)              (None, 1535, 400)         240400    \n",
      "_________________________________________________________________\n",
      "batch_normalization (BatchNo (None, 1535, 400)         1600      \n",
      "_________________________________________________________________\n",
      "re_lu (ReLU)                 (None, 1535, 400)         0         \n",
      "_________________________________________________________________\n",
      "max_pooling1d (MaxPooling1D) (None, 767, 400)          0         \n",
      "_________________________________________________________________\n",
      "dropout (Dropout)            (None, 767, 400)          0         \n",
      "_________________________________________________________________\n",
      "conv1d_1 (Conv1D)            (None, 766, 500)          400500    \n",
      "_________________________________________________________________\n",
      "batch_normalization_1 (Batch (None, 766, 500)          2000      \n",
      "_________________________________________________________________\n",
      "re_lu_1 (ReLU)               (None, 766, 500)          0         \n",
      "_________________________________________________________________\n",
      "max_pooling1d_1 (MaxPooling1 (None, 383, 500)          0         \n",
      "_________________________________________________________________\n",
      "dropout_1 (Dropout)          (None, 383, 500)          0         \n",
      "_________________________________________________________________\n",
      "bidirectional (Bidirectional (None, 512)               1550336   \n",
      "_________________________________________________________________\n",
      "dense (Dense)                (None, 126)               64638     \n",
      "=================================================================\n",
      "Total params: 231,073,074\n",
      "Trainable params: 2,257,674\n",
      "Non-trainable params: 228,815,400\n",
      "_________________________________________________________________\n",
      "INFO:tensorflow:Using MirroredStrategy with devices ('/job:localhost/replica:0/task:0/device:GPU:0', '/job:localhost/replica:0/task:0/device:GPU:1', '/job:localhost/replica:0/task:0/device:GPU:2', '/job:localhost/replica:0/task:0/device:GPU:3')\n",
      "INFO:tensorflow:Reduce to /job:localhost/replica:0/task:0/device:CPU:0 then broadcast to ('/job:localhost/replica:0/task:0/device:CPU:0',).\n",
      "INFO:tensorflow:Reduce to /job:localhost/replica:0/task:0/device:CPU:0 then broadcast to ('/job:localhost/replica:0/task:0/device:CPU:0',).\n",
      "INFO:tensorflow:Reduce to /job:localhost/replica:0/task:0/device:CPU:0 then broadcast to ('/job:localhost/replica:0/task:0/device:CPU:0',).\n",
      "INFO:tensorflow:Reduce to /job:localhost/replica:0/task:0/device:CPU:0 then broadcast to ('/job:localhost/replica:0/task:0/device:CPU:0',).\n",
      "Epoch 1/100\n",
      "INFO:tensorflow:batch_all_reduce: 16 all-reduces with algorithm = nccl, num_packs = 1\n",
      "INFO:tensorflow:Reduce to /job:localhost/replica:0/task:0/device:CPU:0 then broadcast to ('/job:localhost/replica:0/task:0/device:CPU:0',).\n",
      "INFO:tensorflow:Reduce to /job:localhost/replica:0/task:0/device:CPU:0 then broadcast to ('/job:localhost/replica:0/task:0/device:CPU:0',).\n",
      "INFO:tensorflow:batch_all_reduce: 16 all-reduces with algorithm = nccl, num_packs = 1\n",
      "937/937 [==============================] - 121s 129ms/step - loss: 0.0127 - val_loss: 0.0068\n",
      "Epoch 2/100\n",
      "937/937 [==============================] - 118s 126ms/step - loss: 0.0060 - val_loss: 0.0052\n",
      "Epoch 3/100\n",
      "937/937 [==============================] - 117s 125ms/step - loss: 0.0050 - val_loss: 0.0048\n",
      "Epoch 4/100\n",
      "937/937 [==============================] - 117s 125ms/step - loss: 0.0046 - val_loss: 0.0046\n",
      "Epoch 5/100\n",
      "937/937 [==============================] - 118s 125ms/step - loss: 0.0043 - val_loss: 0.0044\n",
      "Epoch 6/100\n",
      "937/937 [==============================] - 118s 126ms/step - loss: 0.0041 - val_loss: 0.0043\n",
      "Epoch 7/100\n",
      "937/937 [==============================] - 117s 125ms/step - loss: 0.0040 - val_loss: 0.0043\n",
      "Epoch 8/100\n",
      "937/937 [==============================] - 118s 126ms/step - loss: 0.0038 - val_loss: 0.0043\n",
      "Epoch 9/100\n",
      "937/937 [==============================] - 117s 125ms/step - loss: 0.0037 - val_loss: 0.0043\n",
      "Epoch 10/100\n",
      "937/937 [==============================] - 117s 125ms/step - loss: 0.0036 - val_loss: 0.0042\n",
      "Epoch 11/100\n",
      "937/937 [==============================] - 116s 124ms/step - loss: 0.0036 - val_loss: 0.0042\n",
      "Epoch 12/100\n",
      "937/937 [==============================] - 118s 126ms/step - loss: 0.0035 - val_loss: 0.0042\n",
      "Epoch 13/100\n",
      "937/937 [==============================] - 121s 129ms/step - loss: 0.0034 - val_loss: 0.0042\n",
      "Epoch 14/100\n",
      "937/937 [==============================] - 116s 124ms/step - loss: 0.0034 - val_loss: 0.0042\n",
      "Epoch 15/100\n",
      "937/937 [==============================] - 116s 124ms/step - loss: 0.0033 - val_loss: 0.0042\n",
      "Epoch 16/100\n",
      "937/937 [==============================] - 117s 125ms/step - loss: 0.0033 - val_loss: 0.0042\n",
      "Epoch 17/100\n",
      "937/937 [==============================] - 116s 124ms/step - loss: 0.0032 - val_loss: 0.0042\n",
      "Epoch 18/100\n",
      "937/937 [==============================] - 116s 123ms/step - loss: 0.0031 - val_loss: 0.0042\n",
      "Epoch 19/100\n",
      "937/937 [==============================] - 117s 124ms/step - loss: 0.0031 - val_loss: 0.0042\n",
      "Epoch 20/100\n",
      "937/937 [==============================] - 116s 124ms/step - loss: 0.0031 - val_loss: 0.0042\n",
      "Epoch 21/100\n",
      "937/937 [==============================] - 116s 124ms/step - loss: 0.0030 - val_loss: 0.0042\n",
      "Epoch 22/100\n",
      "937/937 [==============================] - ETA: 0s - loss: 0.0030Restoring model weights from the end of the best epoch.\n",
      "937/937 [==============================] - 119s 128ms/step - loss: 0.0030 - val_loss: 0.0042\n",
      "Epoch 00022: early stopping\n",
      "235/235 [==============================] - 9s 40ms/step\n",
      "{'accuracy': 0.6958450786449385, 'F1 (macro)': 0.5815655797116668, 'F1 (micro)': 0.893319812262408, 'LRAP': 0.9570028415750389, 'NDCG': 0.9745507346337073, 'timestamp': 1590751403}\n",
      "130/130 [==============================] - 5s 41ms/step\n",
      "INFO:tensorflow:Using MirroredStrategy with devices ('/job:localhost/replica:0/task:0/device:GPU:0', '/job:localhost/replica:0/task:0/device:GPU:1', '/job:localhost/replica:0/task:0/device:GPU:2', '/job:localhost/replica:0/task:0/device:GPU:3')\n",
      "Epoch 1/100\n",
      "INFO:tensorflow:batch_all_reduce: 16 all-reduces with algorithm = nccl, num_packs = 1\n",
      "INFO:tensorflow:batch_all_reduce: 16 all-reduces with algorithm = nccl, num_packs = 1\n",
      "937/937 [==============================] - 122s 130ms/step - loss: 0.0121 - val_loss: 0.0068\n",
      "Epoch 2/100\n",
      "937/937 [==============================] - 118s 126ms/step - loss: 0.0059 - val_loss: 0.0052\n",
      "Epoch 3/100\n",
      "937/937 [==============================] - 118s 126ms/step - loss: 0.0050 - val_loss: 0.0048\n",
      "Epoch 4/100\n",
      "937/937 [==============================] - 118s 126ms/step - loss: 0.0045 - val_loss: 0.0045\n",
      "Epoch 5/100\n",
      "937/937 [==============================] - 118s 126ms/step - loss: 0.0043 - val_loss: 0.0044\n",
      "Epoch 6/100\n",
      "937/937 [==============================] - 118s 126ms/step - loss: 0.0041 - val_loss: 0.0043\n",
      "Epoch 7/100\n",
      "937/937 [==============================] - 117s 125ms/step - loss: 0.0040 - val_loss: 0.0043\n",
      "Epoch 8/100\n",
      "937/937 [==============================] - 118s 126ms/step - loss: 0.0038 - val_loss: 0.0042\n",
      "Epoch 9/100\n",
      "937/937 [==============================] - 117s 124ms/step - loss: 0.0037 - val_loss: 0.0042\n",
      "Epoch 10/100\n",
      "937/937 [==============================] - 118s 126ms/step - loss: 0.0037 - val_loss: 0.0042\n",
      "Epoch 11/100\n",
      "937/937 [==============================] - 117s 124ms/step - loss: 0.0036 - val_loss: 0.0043\n",
      "Epoch 12/100\n",
      "937/937 [==============================] - 118s 126ms/step - loss: 0.0035 - val_loss: 0.0042\n",
      "Epoch 13/100\n",
      "937/937 [==============================] - 118s 126ms/step - loss: 0.0034 - val_loss: 0.0042\n",
      "Epoch 14/100\n",
      "937/937 [==============================] - 117s 125ms/step - loss: 0.0034 - val_loss: 0.0042\n",
      "Epoch 15/100\n",
      "937/937 [==============================] - 117s 125ms/step - loss: 0.0033 - val_loss: 0.0042\n",
      "Epoch 16/100\n",
      "937/937 [==============================] - 116s 124ms/step - loss: 0.0033 - val_loss: 0.0043\n",
      "Epoch 17/100\n",
      "937/937 [==============================] - 117s 124ms/step - loss: 0.0032 - val_loss: 0.0042\n",
      "Epoch 18/100\n",
      "937/937 [==============================] - 122s 130ms/step - loss: 0.0032 - val_loss: 0.0042\n",
      "Epoch 19/100\n",
      "937/937 [==============================] - 117s 124ms/step - loss: 0.0031 - val_loss: 0.0042\n",
      "Epoch 20/100\n",
      "937/937 [==============================] - 116s 124ms/step - loss: 0.0031 - val_loss: 0.0042\n",
      "Epoch 21/100\n",
      "937/937 [==============================] - 116s 124ms/step - loss: 0.0030 - val_loss: 0.0042\n",
      "Epoch 22/100\n",
      "937/937 [==============================] - 117s 125ms/step - loss: 0.0030 - val_loss: 0.0042\n",
      "Epoch 23/100\n",
      "937/937 [==============================] - ETA: 0s - loss: 0.0030Restoring model weights from the end of the best epoch.\n",
      "937/937 [==============================] - 120s 128ms/step - loss: 0.0030 - val_loss: 0.0043\n",
      "Epoch 00023: early stopping\n",
      "235/235 [==============================] - 9s 40ms/step\n",
      "{'accuracy': 0.695761679982653, 'F1 (macro)': 0.5816796773163075, 'F1 (micro)': 0.8933951764499138, 'LRAP': 0.9567783374197022, 'NDCG': 0.9736582839547232, 'timestamp': 1590754175}\n",
      "130/130 [==============================] - 5s 40ms/step\n",
      "INFO:tensorflow:Using MirroredStrategy with devices ('/job:localhost/replica:0/task:0/device:GPU:0', '/job:localhost/replica:0/task:0/device:GPU:1', '/job:localhost/replica:0/task:0/device:GPU:2', '/job:localhost/replica:0/task:0/device:GPU:3')\n",
      "Epoch 1/100\n",
      "INFO:tensorflow:batch_all_reduce: 16 all-reduces with algorithm = nccl, num_packs = 1\n",
      "INFO:tensorflow:batch_all_reduce: 16 all-reduces with algorithm = nccl, num_packs = 1\n",
      "937/937 [==============================] - 127s 136ms/step - loss: 0.0126 - val_loss: 0.0067\n",
      "Epoch 2/100\n",
      "937/937 [==============================] - 118s 126ms/step - loss: 0.0060 - val_loss: 0.0052\n",
      "Epoch 3/100\n",
      "937/937 [==============================] - 118s 126ms/step - loss: 0.0050 - val_loss: 0.0047\n",
      "Epoch 4/100\n",
      "937/937 [==============================] - 117s 125ms/step - loss: 0.0046 - val_loss: 0.0045\n",
      "Epoch 5/100\n",
      "937/937 [==============================] - 118s 125ms/step - loss: 0.0043 - val_loss: 0.0043\n",
      "Epoch 6/100\n",
      "937/937 [==============================] - 118s 125ms/step - loss: 0.0041 - val_loss: 0.0043\n",
      "Epoch 7/100\n",
      "937/937 [==============================] - 118s 126ms/step - loss: 0.0040 - val_loss: 0.0042\n",
      "Epoch 8/100\n",
      "937/937 [==============================] - 118s 126ms/step - loss: 0.0039 - val_loss: 0.0042\n",
      "Epoch 9/100\n",
      "937/937 [==============================] - 117s 125ms/step - loss: 0.0038 - val_loss: 0.0042\n",
      "Epoch 10/100\n",
      "937/937 [==============================] - 118s 126ms/step - loss: 0.0037 - val_loss: 0.0041\n",
      "Epoch 11/100\n",
      "937/937 [==============================] - 116s 124ms/step - loss: 0.0036 - val_loss: 0.0042\n",
      "Epoch 12/100\n",
      "937/937 [==============================] - 116s 124ms/step - loss: 0.0035 - val_loss: 0.0042\n",
      "Epoch 13/100\n",
      "937/937 [==============================] - 116s 124ms/step - loss: 0.0034 - val_loss: 0.0042\n",
      "Epoch 14/100\n",
      "937/937 [==============================] - 116s 124ms/step - loss: 0.0034 - val_loss: 0.0042\n",
      "Epoch 15/100\n",
      "937/937 [==============================] - 118s 126ms/step - loss: 0.0033 - val_loss: 0.0041\n",
      "Epoch 16/100\n",
      "937/937 [==============================] - 116s 124ms/step - loss: 0.0033 - val_loss: 0.0042\n",
      "Epoch 17/100\n",
      "937/937 [==============================] - 116s 124ms/step - loss: 0.0032 - val_loss: 0.0041\n",
      "Epoch 18/100\n",
      "937/937 [==============================] - 116s 124ms/step - loss: 0.0032 - val_loss: 0.0041\n",
      "Epoch 19/100\n",
      "937/937 [==============================] - 118s 125ms/step - loss: 0.0031 - val_loss: 0.0041\n",
      "Epoch 20/100\n",
      "937/937 [==============================] - 118s 126ms/step - loss: 0.0031 - val_loss: 0.0041\n",
      "Epoch 21/100\n",
      "937/937 [==============================] - 116s 124ms/step - loss: 0.0031 - val_loss: 0.0042\n",
      "Epoch 22/100\n",
      "937/937 [==============================] - 116s 124ms/step - loss: 0.0030 - val_loss: 0.0042\n",
      "Epoch 23/100\n",
      "937/937 [==============================] - 117s 124ms/step - loss: 0.0030 - val_loss: 0.0042\n",
      "Epoch 24/100\n",
      "937/937 [==============================] - 116s 124ms/step - loss: 0.0030 - val_loss: 0.0042\n",
      "Epoch 25/100\n",
      "937/937 [==============================] - 116s 124ms/step - loss: 0.0029 - val_loss: 0.0042\n",
      "Epoch 26/100\n",
      "937/937 [==============================] - 116s 124ms/step - loss: 0.0029 - val_loss: 0.0042\n",
      "Epoch 27/100\n",
      "937/937 [==============================] - 116s 124ms/step - loss: 0.0029 - val_loss: 0.0042\n",
      "Epoch 28/100\n",
      "937/937 [==============================] - 116s 124ms/step - loss: 0.0028 - val_loss: 0.0042\n",
      "Epoch 29/100\n",
      "937/937 [==============================] - ETA: 0s - loss: 0.0028Restoring model weights from the end of the best epoch.\n",
      "937/937 [==============================] - 120s 128ms/step - loss: 0.0028 - val_loss: 0.0043\n",
      "Epoch 00029: early stopping\n",
      "235/235 [==============================] - 9s 40ms/step\n",
      "{'accuracy': 0.7010556861960274, 'F1 (macro)': 0.5991152346587585, 'F1 (micro)': 0.8957544697455011, 'LRAP': 0.9574185614015702, 'NDCG': 0.9773251411317034, 'timestamp': 1590757639}\n",
      "130/130 [==============================] - 5s 39ms/step\n",
      "INFO:tensorflow:Using MirroredStrategy with devices ('/job:localhost/replica:0/task:0/device:GPU:0', '/job:localhost/replica:0/task:0/device:GPU:1', '/job:localhost/replica:0/task:0/device:GPU:2', '/job:localhost/replica:0/task:0/device:GPU:3')\n",
      "Epoch 1/100\n",
      "INFO:tensorflow:batch_all_reduce: 16 all-reduces with algorithm = nccl, num_packs = 1\n",
      "INFO:tensorflow:batch_all_reduce: 16 all-reduces with algorithm = nccl, num_packs = 1\n",
      "937/937 [==============================] - 121s 129ms/step - loss: 0.0124 - val_loss: 0.0069\n",
      "Epoch 2/100\n",
      "937/937 [==============================] - 117s 125ms/step - loss: 0.0060 - val_loss: 0.0053\n",
      "Epoch 3/100\n",
      "937/937 [==============================] - 118s 126ms/step - loss: 0.0051 - val_loss: 0.0049\n",
      "Epoch 4/100\n",
      "937/937 [==============================] - 118s 126ms/step - loss: 0.0046 - val_loss: 0.0046\n",
      "Epoch 5/100\n",
      "937/937 [==============================] - 118s 126ms/step - loss: 0.0043 - val_loss: 0.0045\n",
      "Epoch 6/100\n",
      "937/937 [==============================] - 117s 125ms/step - loss: 0.0041 - val_loss: 0.0044\n",
      "Epoch 7/100\n",
      "937/937 [==============================] - 118s 126ms/step - loss: 0.0040 - val_loss: 0.0043\n",
      "Epoch 8/100\n",
      "937/937 [==============================] - 118s 126ms/step - loss: 0.0038 - val_loss: 0.0043\n",
      "Epoch 9/100\n",
      "937/937 [==============================] - 118s 126ms/step - loss: 0.0037 - val_loss: 0.0043\n",
      "Epoch 10/100\n",
      "937/937 [==============================] - 117s 125ms/step - loss: 0.0036 - val_loss: 0.0042\n",
      "Epoch 11/100\n",
      "937/937 [==============================] - 117s 125ms/step - loss: 0.0036 - val_loss: 0.0042\n",
      "Epoch 12/100\n",
      "937/937 [==============================] - 118s 125ms/step - loss: 0.0035 - val_loss: 0.0042\n",
      "Epoch 13/100\n",
      "937/937 [==============================] - 116s 124ms/step - loss: 0.0034 - val_loss: 0.0043\n",
      "Epoch 14/100\n",
      "937/937 [==============================] - 118s 126ms/step - loss: 0.0034 - val_loss: 0.0042\n",
      "Epoch 15/100\n",
      "937/937 [==============================] - 117s 125ms/step - loss: 0.0033 - val_loss: 0.0042\n",
      "Epoch 16/100\n",
      "937/937 [==============================] - 117s 125ms/step - loss: 0.0032 - val_loss: 0.0042\n",
      "Epoch 17/100\n",
      "937/937 [==============================] - 116s 124ms/step - loss: 0.0032 - val_loss: 0.0042\n",
      "Epoch 18/100\n"
     ]
    },
    {
     "name": "stdout",
     "output_type": "stream",
     "text": [
      "937/937 [==============================] - 116s 124ms/step - loss: 0.0032 - val_loss: 0.0042\n",
      "Epoch 19/100\n",
      "937/937 [==============================] - 117s 124ms/step - loss: 0.0031 - val_loss: 0.0043\n",
      "Epoch 20/100\n",
      "937/937 [==============================] - 116s 124ms/step - loss: 0.0031 - val_loss: 0.0043\n",
      "Epoch 21/100\n",
      "937/937 [==============================] - 117s 125ms/step - loss: 0.0030 - val_loss: 0.0042\n",
      "Epoch 22/100\n",
      "937/937 [==============================] - 118s 126ms/step - loss: 0.0030 - val_loss: 0.0042\n",
      "Epoch 23/100\n",
      "937/937 [==============================] - 116s 124ms/step - loss: 0.0030 - val_loss: 0.0042\n",
      "Epoch 24/100\n",
      "937/937 [==============================] - 116s 124ms/step - loss: 0.0029 - val_loss: 0.0042\n",
      "Epoch 25/100\n",
      "937/937 [==============================] - 116s 124ms/step - loss: 0.0029 - val_loss: 0.0042\n",
      "Epoch 26/100\n",
      "937/937 [==============================] - ETA: 0s - loss: 0.0029Restoring model weights from the end of the best epoch.\n",
      "937/937 [==============================] - 120s 128ms/step - loss: 0.0029 - val_loss: 0.0042\n",
      "Epoch 00026: early stopping\n",
      "235/235 [==============================] - 9s 40ms/step\n",
      "{'accuracy': 0.697012659916935, 'F1 (macro)': 0.5963220271983352, 'F1 (micro)': 0.8939271983986613, 'LRAP': 0.9570173768729222, 'NDCG': 0.9740214961568645, 'timestamp': 1590760751}\n",
      "130/130 [==============================] - 5s 40ms/step\n",
      "INFO:tensorflow:Using MirroredStrategy with devices ('/job:localhost/replica:0/task:0/device:GPU:0', '/job:localhost/replica:0/task:0/device:GPU:1', '/job:localhost/replica:0/task:0/device:GPU:2', '/job:localhost/replica:0/task:0/device:GPU:3')\n",
      "Epoch 1/100\n",
      "INFO:tensorflow:batch_all_reduce: 16 all-reduces with algorithm = nccl, num_packs = 1\n",
      "INFO:tensorflow:batch_all_reduce: 16 all-reduces with algorithm = nccl, num_packs = 1\n",
      "937/937 [==============================] - 122s 130ms/step - loss: 0.0122 - val_loss: 0.0067\n",
      "Epoch 2/100\n",
      "937/937 [==============================] - 118s 126ms/step - loss: 0.0059 - val_loss: 0.0052\n",
      "Epoch 3/100\n",
      "937/937 [==============================] - 118s 126ms/step - loss: 0.0050 - val_loss: 0.0047\n",
      "Epoch 4/100\n",
      "937/937 [==============================] - 118s 126ms/step - loss: 0.0046 - val_loss: 0.0045\n",
      "Epoch 5/100\n",
      "937/937 [==============================] - 118s 126ms/step - loss: 0.0043 - val_loss: 0.0044\n",
      "Epoch 6/100\n",
      "937/937 [==============================] - 118s 126ms/step - loss: 0.0041 - val_loss: 0.0044\n",
      "Epoch 7/100\n",
      "937/937 [==============================] - 117s 125ms/step - loss: 0.0040 - val_loss: 0.0043\n",
      "Epoch 8/100\n",
      "937/937 [==============================] - 118s 126ms/step - loss: 0.0039 - val_loss: 0.0042\n",
      "Epoch 9/100\n",
      "937/937 [==============================] - 117s 125ms/step - loss: 0.0038 - val_loss: 0.0043\n",
      "Epoch 10/100\n",
      "937/937 [==============================] - 118s 126ms/step - loss: 0.0037 - val_loss: 0.0042\n",
      "Epoch 11/100\n",
      "937/937 [==============================] - 118s 126ms/step - loss: 0.0036 - val_loss: 0.0042\n",
      "Epoch 12/100\n",
      "937/937 [==============================] - 116s 124ms/step - loss: 0.0035 - val_loss: 0.0042\n",
      "Epoch 13/100\n",
      "937/937 [==============================] - 117s 125ms/step - loss: 0.0034 - val_loss: 0.0042\n",
      "Epoch 14/100\n",
      "937/937 [==============================] - 117s 125ms/step - loss: 0.0034 - val_loss: 0.0042\n",
      "Epoch 15/100\n",
      "937/937 [==============================] - 118s 126ms/step - loss: 0.0033 - val_loss: 0.0042\n",
      "Epoch 16/100\n",
      "937/937 [==============================] - 117s 125ms/step - loss: 0.0033 - val_loss: 0.0042\n",
      "Epoch 17/100\n",
      "937/937 [==============================] - 116s 124ms/step - loss: 0.0032 - val_loss: 0.0042\n",
      "Epoch 18/100\n",
      "937/937 [==============================] - 116s 124ms/step - loss: 0.0032 - val_loss: 0.0042\n",
      "Epoch 19/100\n",
      "937/937 [==============================] - 116s 124ms/step - loss: 0.0031 - val_loss: 0.0042\n",
      "Epoch 20/100\n",
      "937/937 [==============================] - 116s 124ms/step - loss: 0.0031 - val_loss: 0.0042\n",
      "Epoch 21/100\n",
      "937/937 [==============================] - 116s 124ms/step - loss: 0.0030 - val_loss: 0.0042\n",
      "Epoch 22/100\n",
      "937/937 [==============================] - 117s 124ms/step - loss: 0.0030 - val_loss: 0.0043\n",
      "Epoch 23/100\n",
      "937/937 [==============================] - 117s 125ms/step - loss: 0.0030 - val_loss: 0.0042\n",
      "Epoch 24/100\n",
      "937/937 [==============================] - 116s 124ms/step - loss: 0.0030 - val_loss: 0.0042\n",
      "Epoch 25/100\n",
      "937/937 [==============================] - ETA: 0s - loss: 0.0029Restoring model weights from the end of the best epoch.\n",
      "937/937 [==============================] - 119s 127ms/step - loss: 0.0029 - val_loss: 0.0042\n",
      "Epoch 00025: early stopping\n",
      "235/235 [==============================] - 9s 40ms/step\n",
      "{'accuracy': 0.6988974696845862, 'F1 (macro)': 0.5939369658206258, 'F1 (micro)': 0.8941441680369171, 'LRAP': 0.9570362638403476, 'NDCG': 0.9755676631618307, 'timestamp': 1590763757}\n",
      "130/130 [==============================] - 5s 40ms/step\n"
     ]
    },
    {
     "data": {
      "text/html": [
       "<div>\n",
       "<style scoped>\n",
       "    .dataframe tbody tr th:only-of-type {\n",
       "        vertical-align: middle;\n",
       "    }\n",
       "\n",
       "    .dataframe tbody tr th {\n",
       "        vertical-align: top;\n",
       "    }\n",
       "\n",
       "    .dataframe thead th {\n",
       "        text-align: right;\n",
       "    }\n",
       "</style>\n",
       "<table border=\"1\" class=\"dataframe\">\n",
       "  <thead>\n",
       "    <tr style=\"text-align: right;\">\n",
       "      <th></th>\n",
       "      <th>accuracy</th>\n",
       "      <th>F1 (macro)</th>\n",
       "      <th>F1 (micro)</th>\n",
       "      <th>LRAP</th>\n",
       "      <th>NDCG</th>\n",
       "      <th>timestamp</th>\n",
       "    </tr>\n",
       "  </thead>\n",
       "  <tbody>\n",
       "    <tr>\n",
       "      <th>0</th>\n",
       "      <td>0.695845</td>\n",
       "      <td>0.581566</td>\n",
       "      <td>0.893320</td>\n",
       "      <td>0.957003</td>\n",
       "      <td>0.974551</td>\n",
       "      <td>1590751403</td>\n",
       "    </tr>\n",
       "    <tr>\n",
       "      <th>1</th>\n",
       "      <td>0.695762</td>\n",
       "      <td>0.581680</td>\n",
       "      <td>0.893395</td>\n",
       "      <td>0.956778</td>\n",
       "      <td>0.973658</td>\n",
       "      <td>1590754175</td>\n",
       "    </tr>\n",
       "    <tr>\n",
       "      <th>2</th>\n",
       "      <td>0.701056</td>\n",
       "      <td>0.599115</td>\n",
       "      <td>0.895754</td>\n",
       "      <td>0.957419</td>\n",
       "      <td>0.977325</td>\n",
       "      <td>1590757639</td>\n",
       "    </tr>\n",
       "    <tr>\n",
       "      <th>3</th>\n",
       "      <td>0.697013</td>\n",
       "      <td>0.596322</td>\n",
       "      <td>0.893927</td>\n",
       "      <td>0.957017</td>\n",
       "      <td>0.974021</td>\n",
       "      <td>1590760751</td>\n",
       "    </tr>\n",
       "    <tr>\n",
       "      <th>4</th>\n",
       "      <td>0.698897</td>\n",
       "      <td>0.593937</td>\n",
       "      <td>0.894144</td>\n",
       "      <td>0.957036</td>\n",
       "      <td>0.975568</td>\n",
       "      <td>1590763757</td>\n",
       "    </tr>\n",
       "  </tbody>\n",
       "</table>\n",
       "</div>"
      ],
      "text/plain": [
       "   accuracy  F1 (macro)  F1 (micro)      LRAP      NDCG   timestamp\n",
       "0  0.695845    0.581566    0.893320  0.957003  0.974551  1590751403\n",
       "1  0.695762    0.581680    0.893395  0.956778  0.973658  1590754175\n",
       "2  0.701056    0.599115    0.895754  0.957419  0.977325  1590757639\n",
       "3  0.697013    0.596322    0.893927  0.957017  0.974021  1590760751\n",
       "4  0.698897    0.593937    0.894144  0.957036  0.975568  1590763757"
      ]
     },
     "metadata": {},
     "output_type": "display_data"
    },
    {
     "name": "stdout",
     "output_type": "stream",
     "text": [
      "accuracy      0.697715\n",
      "F1 (macro)    0.590524\n",
      "F1 (micro)    0.894108\n",
      "LRAP          0.957051\n",
      "NDCG          0.975025\n",
      "dtype: float64\n"
     ]
    }
   ],
   "source": [
    "reset_seed()\n",
    "cross_evaluate(models.cnn_bi_lstm_1, model_params={\n",
    "    \"filters_1\": 400, \"filters_2\": 500, \"loss\": \"mean_squared_error\",\n",
    "    \"embedding_matrix\": ft_pretrained_embedding_matrix})"
   ]
  },
  {
   "cell_type": "code",
   "execution_count": null,
   "metadata": {},
   "outputs": [],
   "source": [
    "reset_seed()\n",
    "cross_evaluate(models.cnn_bi_lstm_1, model_params={\n",
    "    \"filters_1\": 400, \"filters_2\": 500, \"loss\": \"binary_crossentropy\",\n",
    "    \"embedding_matrix\": ft_pretrained_embedding_matrix})"
   ]
  },
  {
   "cell_type": "code",
   "execution_count": 26,
   "metadata": {},
   "outputs": [
    {
     "name": "stdout",
     "output_type": "stream",
     "text": [
      "INFO:tensorflow:Using MirroredStrategy with devices ('/job:localhost/replica:0/task:0/device:GPU:0', '/job:localhost/replica:0/task:0/device:GPU:1', '/job:localhost/replica:0/task:0/device:GPU:2', '/job:localhost/replica:0/task:0/device:GPU:3')\n",
      "Model: \"sequential_2\"\n",
      "_________________________________________________________________\n",
      "Layer (type)                 Output Shape              Param #   \n",
      "=================================================================\n",
      "embedding_2 (Embedding)      (None, 1536, 300)         228813600 \n",
      "_________________________________________________________________\n",
      "conv1d_4 (Conv1D)            (None, 1535, 400)         240400    \n",
      "_________________________________________________________________\n",
      "batch_normalization_4 (Batch (None, 1535, 400)         1600      \n",
      "_________________________________________________________________\n",
      "re_lu_4 (ReLU)               (None, 1535, 400)         0         \n",
      "_________________________________________________________________\n",
      "max_pooling1d_4 (MaxPooling1 (None, 767, 400)          0         \n",
      "_________________________________________________________________\n",
      "dropout_4 (Dropout)          (None, 767, 400)          0         \n",
      "_________________________________________________________________\n",
      "conv1d_5 (Conv1D)            (None, 766, 500)          400500    \n",
      "_________________________________________________________________\n",
      "batch_normalization_5 (Batch (None, 766, 500)          2000      \n",
      "_________________________________________________________________\n",
      "re_lu_5 (ReLU)               (None, 766, 500)          0         \n",
      "_________________________________________________________________\n",
      "max_pooling1d_5 (MaxPooling1 (None, 383, 500)          0         \n",
      "_________________________________________________________________\n",
      "dropout_5 (Dropout)          (None, 383, 500)          0         \n",
      "_________________________________________________________________\n",
      "bidirectional_4 (Bidirection (None, 383, 512)          1550336   \n",
      "_________________________________________________________________\n",
      "bidirectional_5 (Bidirection (None, 256)               656384    \n",
      "_________________________________________________________________\n",
      "dense_2 (Dense)              (None, 126)               32382     \n",
      "=================================================================\n",
      "Total params: 231,697,202\n",
      "Trainable params: 2,881,802\n",
      "Non-trainable params: 228,815,400\n",
      "_________________________________________________________________\n",
      "INFO:tensorflow:Using MirroredStrategy with devices ('/job:localhost/replica:0/task:0/device:GPU:0', '/job:localhost/replica:0/task:0/device:GPU:1', '/job:localhost/replica:0/task:0/device:GPU:2', '/job:localhost/replica:0/task:0/device:GPU:3')\n",
      "Epoch 1/100\n",
      "INFO:tensorflow:batch_all_reduce: 22 all-reduces with algorithm = nccl, num_packs = 1\n",
      "INFO:tensorflow:batch_all_reduce: 22 all-reduces with algorithm = nccl, num_packs = 1\n",
      "937/937 [==============================] - 186s 198ms/step - loss: 0.0159 - val_loss: 0.0094\n",
      "Epoch 2/100\n",
      "937/937 [==============================] - 180s 192ms/step - loss: 0.0075 - val_loss: 0.0062\n",
      "Epoch 3/100\n",
      "937/937 [==============================] - 183s 196ms/step - loss: 0.0057 - val_loss: 0.0053\n",
      "Epoch 4/100\n",
      "937/937 [==============================] - 180s 192ms/step - loss: 0.0050 - val_loss: 0.0049\n",
      "Epoch 5/100\n",
      "937/937 [==============================] - 179s 192ms/step - loss: 0.0046 - val_loss: 0.0046\n",
      "Epoch 6/100\n",
      "937/937 [==============================] - 179s 191ms/step - loss: 0.0044 - val_loss: 0.0046\n",
      "Epoch 7/100\n",
      "937/937 [==============================] - 179s 191ms/step - loss: 0.0042 - val_loss: 0.0045\n",
      "Epoch 8/100\n",
      "937/937 [==============================] - 179s 192ms/step - loss: 0.0040 - val_loss: 0.0043\n",
      "Epoch 9/100\n",
      "937/937 [==============================] - 179s 192ms/step - loss: 0.0039 - val_loss: 0.0043\n",
      "Epoch 10/100\n",
      "937/937 [==============================] - 179s 191ms/step - loss: 0.0038 - val_loss: 0.0043\n",
      "Epoch 11/100\n",
      "937/937 [==============================] - 180s 192ms/step - loss: 0.0037 - val_loss: 0.0042\n",
      "Epoch 12/100\n",
      "937/937 [==============================] - 179s 192ms/step - loss: 0.0036 - val_loss: 0.0042\n",
      "Epoch 13/100\n",
      "937/937 [==============================] - 178s 190ms/step - loss: 0.0036 - val_loss: 0.0042\n",
      "Epoch 14/100\n",
      "937/937 [==============================] - 179s 192ms/step - loss: 0.0035 - val_loss: 0.0042\n",
      "Epoch 15/100\n",
      "937/937 [==============================] - 179s 191ms/step - loss: 0.0034 - val_loss: 0.0042\n",
      "Epoch 16/100\n",
      "937/937 [==============================] - 179s 192ms/step - loss: 0.0034 - val_loss: 0.0042\n",
      "Epoch 17/100\n",
      "937/937 [==============================] - 178s 190ms/step - loss: 0.0033 - val_loss: 0.0042\n",
      "Epoch 18/100\n",
      "937/937 [==============================] - 179s 191ms/step - loss: 0.0033 - val_loss: 0.0042\n",
      "Epoch 19/100\n",
      "937/937 [==============================] - 179s 191ms/step - loss: 0.0032 - val_loss: 0.0042\n",
      "Epoch 20/100\n",
      "937/937 [==============================] - 178s 190ms/step - loss: 0.0032 - val_loss: 0.0042\n",
      "Epoch 21/100\n",
      "937/937 [==============================] - 179s 191ms/step - loss: 0.0031 - val_loss: 0.0042\n",
      "Epoch 22/100\n",
      "937/937 [==============================] - 178s 190ms/step - loss: 0.0031 - val_loss: 0.0042\n",
      "Epoch 23/100\n",
      "937/937 [==============================] - 178s 190ms/step - loss: 0.0030 - val_loss: 0.0042\n",
      "Epoch 24/100\n",
      "937/937 [==============================] - 178s 190ms/step - loss: 0.0030 - val_loss: 0.0042\n",
      "Epoch 25/100\n",
      "937/937 [==============================] - 178s 190ms/step - loss: 0.0030 - val_loss: 0.0042\n",
      "Epoch 26/100\n",
      "937/937 [==============================] - 178s 190ms/step - loss: 0.0029 - val_loss: 0.0042\n",
      "Epoch 27/100\n",
      "937/937 [==============================] - 178s 190ms/step - loss: 0.0029 - val_loss: 0.0042\n",
      "Epoch 28/100\n",
      "937/937 [==============================] - 178s 190ms/step - loss: 0.0029 - val_loss: 0.0042\n",
      "Epoch 29/100\n",
      "937/937 [==============================] - 178s 190ms/step - loss: 0.0029 - val_loss: 0.0042\n",
      "Epoch 30/100\n",
      "937/937 [==============================] - 178s 190ms/step - loss: 0.0028 - val_loss: 0.0042\n",
      "Epoch 31/100\n",
      "937/937 [==============================] - ETA: 0s - loss: 0.0028Restoring model weights from the end of the best epoch.\n",
      "937/937 [==============================] - 182s 194ms/step - loss: 0.0028 - val_loss: 0.0042\n",
      "Epoch 00031: early stopping\n",
      "235/235 [==============================] - 16s 66ms/step\n",
      "{'accuracy': 0.7027171284172602, 'F1 (macro)': 0.5869305836298186, 'F1 (micro)': 0.8942728463282972, 'LRAP': 0.9572202049554496, 'NDCG': 0.974730795923536, 'timestamp': 1590771319}\n",
      "130/130 [==============================] - 9s 66ms/step\n",
      "INFO:tensorflow:Using MirroredStrategy with devices ('/job:localhost/replica:0/task:0/device:GPU:0', '/job:localhost/replica:0/task:0/device:GPU:1', '/job:localhost/replica:0/task:0/device:GPU:2', '/job:localhost/replica:0/task:0/device:GPU:3')\n",
      "Epoch 1/100\n",
      "INFO:tensorflow:batch_all_reduce: 22 all-reduces with algorithm = nccl, num_packs = 1\n",
      "INFO:tensorflow:batch_all_reduce: 22 all-reduces with algorithm = nccl, num_packs = 1\n",
      "937/937 [==============================] - 185s 198ms/step - loss: 0.0153 - val_loss: 0.0089\n",
      "Epoch 2/100\n",
      "937/937 [==============================] - 179s 191ms/step - loss: 0.0073 - val_loss: 0.0061\n",
      "Epoch 3/100\n",
      "937/937 [==============================] - 179s 191ms/step - loss: 0.0057 - val_loss: 0.0053\n",
      "Epoch 4/100\n",
      "937/937 [==============================] - 179s 191ms/step - loss: 0.0050 - val_loss: 0.0049\n",
      "Epoch 5/100\n",
      "937/937 [==============================] - 179s 191ms/step - loss: 0.0047 - val_loss: 0.0047\n",
      "Epoch 6/100\n",
      "937/937 [==============================] - 179s 191ms/step - loss: 0.0044 - val_loss: 0.0046\n",
      "Epoch 7/100\n",
      "937/937 [==============================] - 179s 191ms/step - loss: 0.0042 - val_loss: 0.0045\n",
      "Epoch 8/100\n",
      "937/937 [==============================] - 180s 193ms/step - loss: 0.0040 - val_loss: 0.0044\n",
      "Epoch 9/100\n",
      "937/937 [==============================] - 179s 191ms/step - loss: 0.0039 - val_loss: 0.0043\n",
      "Epoch 10/100\n",
      "937/937 [==============================] - 179s 191ms/step - loss: 0.0038 - val_loss: 0.0043\n",
      "Epoch 11/100\n",
      "937/937 [==============================] - 178s 189ms/step - loss: 0.0037 - val_loss: 0.0043\n",
      "Epoch 12/100\n"
     ]
    },
    {
     "name": "stdout",
     "output_type": "stream",
     "text": [
      "937/937 [==============================] - 180s 192ms/step - loss: 0.0036 - val_loss: 0.0042\n",
      "Epoch 13/100\n",
      "937/937 [==============================] - 179s 191ms/step - loss: 0.0035 - val_loss: 0.0042\n",
      "Epoch 14/100\n",
      "937/937 [==============================] - 178s 190ms/step - loss: 0.0035 - val_loss: 0.0042\n",
      "Epoch 15/100\n",
      "937/937 [==============================] - 179s 191ms/step - loss: 0.0034 - val_loss: 0.0042\n",
      "Epoch 16/100\n",
      "937/937 [==============================] - 178s 190ms/step - loss: 0.0034 - val_loss: 0.0042\n",
      "Epoch 17/100\n",
      "937/937 [==============================] - 179s 191ms/step - loss: 0.0033 - val_loss: 0.0042\n",
      "Epoch 18/100\n",
      "937/937 [==============================] - 178s 190ms/step - loss: 0.0032 - val_loss: 0.0042\n",
      "Epoch 19/100\n",
      "937/937 [==============================] - 178s 189ms/step - loss: 0.0032 - val_loss: 0.0042\n",
      "Epoch 20/100\n",
      "937/937 [==============================] - 178s 190ms/step - loss: 0.0031 - val_loss: 0.0042\n",
      "Epoch 21/100\n",
      "937/937 [==============================] - 178s 190ms/step - loss: 0.0031 - val_loss: 0.0042\n",
      "Epoch 22/100\n",
      "937/937 [==============================] - 178s 190ms/step - loss: 0.0031 - val_loss: 0.0042\n",
      "Epoch 23/100\n",
      "937/937 [==============================] - 178s 190ms/step - loss: 0.0030 - val_loss: 0.0042\n",
      "Epoch 24/100\n",
      "937/937 [==============================] - 178s 190ms/step - loss: 0.0030 - val_loss: 0.0042\n",
      "Epoch 25/100\n",
      "937/937 [==============================] - 178s 190ms/step - loss: 0.0030 - val_loss: 0.0042\n",
      "Epoch 26/100\n",
      "937/937 [==============================] - 178s 190ms/step - loss: 0.0029 - val_loss: 0.0042\n",
      "Epoch 27/100\n",
      "937/937 [==============================] - ETA: 0s - loss: 0.0029Restoring model weights from the end of the best epoch.\n",
      "937/937 [==============================] - 181s 193ms/step - loss: 0.0029 - val_loss: 0.0042\n",
      "Epoch 00027: early stopping\n",
      "235/235 [==============================] - 16s 67ms/step\n",
      "{'accuracy': 0.7005487631978383, 'F1 (macro)': 0.5777331593475916, 'F1 (micro)': 0.8939218365819287, 'LRAP': 0.9566382070663109, 'NDCG': 0.973596694776429, 'timestamp': 1590776235}\n",
      "130/130 [==============================] - 9s 66ms/step\n",
      "INFO:tensorflow:Using MirroredStrategy with devices ('/job:localhost/replica:0/task:0/device:GPU:0', '/job:localhost/replica:0/task:0/device:GPU:1', '/job:localhost/replica:0/task:0/device:GPU:2', '/job:localhost/replica:0/task:0/device:GPU:3')\n",
      "Epoch 1/100\n",
      "INFO:tensorflow:batch_all_reduce: 22 all-reduces with algorithm = nccl, num_packs = 1\n",
      "INFO:tensorflow:batch_all_reduce: 22 all-reduces with algorithm = nccl, num_packs = 1\n",
      "937/937 [==============================] - 184s 197ms/step - loss: 0.0158 - val_loss: 0.0095\n",
      "Epoch 2/100\n",
      "937/937 [==============================] - 180s 192ms/step - loss: 0.0076 - val_loss: 0.0061\n",
      "Epoch 3/100\n",
      "937/937 [==============================] - 179s 191ms/step - loss: 0.0058 - val_loss: 0.0052\n",
      "Epoch 4/100\n",
      "937/937 [==============================] - 180s 192ms/step - loss: 0.0051 - val_loss: 0.0049\n",
      "Epoch 5/100\n",
      "937/937 [==============================] - 180s 192ms/step - loss: 0.0047 - val_loss: 0.0046\n",
      "Epoch 6/100\n",
      "937/937 [==============================] - 180s 192ms/step - loss: 0.0045 - val_loss: 0.0045\n",
      "Epoch 7/100\n",
      "937/937 [==============================] - 179s 191ms/step - loss: 0.0043 - val_loss: 0.0044\n",
      "Epoch 8/100\n",
      "937/937 [==============================] - 180s 192ms/step - loss: 0.0041 - val_loss: 0.0043\n",
      "Epoch 9/100\n",
      "937/937 [==============================] - 179s 191ms/step - loss: 0.0040 - val_loss: 0.0043\n",
      "Epoch 10/100\n",
      "937/937 [==============================] - 179s 191ms/step - loss: 0.0038 - val_loss: 0.0042\n",
      "Epoch 11/100\n",
      "937/937 [==============================] - 179s 192ms/step - loss: 0.0037 - val_loss: 0.0042\n",
      "Epoch 12/100\n",
      "937/937 [==============================] - 179s 192ms/step - loss: 0.0037 - val_loss: 0.0042\n",
      "Epoch 13/100\n",
      "937/937 [==============================] - 180s 192ms/step - loss: 0.0036 - val_loss: 0.0042\n",
      "Epoch 14/100\n",
      "937/937 [==============================] - 180s 192ms/step - loss: 0.0035 - val_loss: 0.0042\n",
      "Epoch 15/100\n",
      "937/937 [==============================] - 178s 190ms/step - loss: 0.0034 - val_loss: 0.0042\n",
      "Epoch 16/100\n",
      "937/937 [==============================] - 179s 191ms/step - loss: 0.0034 - val_loss: 0.0042\n",
      "Epoch 17/100\n",
      "937/937 [==============================] - 180s 192ms/step - loss: 0.0033 - val_loss: 0.0041\n",
      "Epoch 18/100\n",
      "937/937 [==============================] - 179s 191ms/step - loss: 0.0033 - val_loss: 0.0042\n",
      "Epoch 19/100\n",
      "937/937 [==============================] - 180s 192ms/step - loss: 0.0032 - val_loss: 0.0041\n",
      "Epoch 20/100\n",
      "937/937 [==============================] - 178s 190ms/step - loss: 0.0032 - val_loss: 0.0042\n",
      "Epoch 21/100\n",
      "937/937 [==============================] - 179s 191ms/step - loss: 0.0031 - val_loss: 0.0041\n",
      "Epoch 22/100\n",
      "937/937 [==============================] - 179s 191ms/step - loss: 0.0031 - val_loss: 0.0041\n",
      "Epoch 23/100\n",
      "937/937 [==============================] - 185s 197ms/step - loss: 0.0031 - val_loss: 0.0042\n",
      "Epoch 24/100\n",
      "937/937 [==============================] - 179s 191ms/step - loss: 0.0030 - val_loss: 0.0042\n",
      "Epoch 25/100\n",
      "937/937 [==============================] - 179s 191ms/step - loss: 0.0030 - val_loss: 0.0042\n",
      "Epoch 26/100\n",
      "937/937 [==============================] - 178s 190ms/step - loss: 0.0029 - val_loss: 0.0042\n",
      "Epoch 27/100\n",
      "937/937 [==============================] - 179s 191ms/step - loss: 0.0029 - val_loss: 0.0042\n",
      "Epoch 28/100\n",
      "937/937 [==============================] - 178s 190ms/step - loss: 0.0029 - val_loss: 0.0042\n",
      "Epoch 29/100\n",
      "937/937 [==============================] - 179s 191ms/step - loss: 0.0028 - val_loss: 0.0042\n",
      "Epoch 30/100\n",
      "937/937 [==============================] - 179s 191ms/step - loss: 0.0028 - val_loss: 0.0042\n",
      "Epoch 31/100\n",
      "937/937 [==============================] - ETA: 0s - loss: 0.0028Restoring model weights from the end of the best epoch.\n",
      "937/937 [==============================] - 182s 194ms/step - loss: 0.0028 - val_loss: 0.0042\n",
      "Epoch 00031: early stopping\n",
      "235/235 [==============================] - 16s 66ms/step\n",
      "{'accuracy': 0.7058588082253465, 'F1 (macro)': 0.5878249540229905, 'F1 (micro)': 0.8958778464067014, 'LRAP': 0.9569023390480772, 'NDCG': 0.9770946109118293, 'timestamp': 1590781885}\n",
      "130/130 [==============================] - 9s 66ms/step\n",
      "INFO:tensorflow:Using MirroredStrategy with devices ('/job:localhost/replica:0/task:0/device:GPU:0', '/job:localhost/replica:0/task:0/device:GPU:1', '/job:localhost/replica:0/task:0/device:GPU:2', '/job:localhost/replica:0/task:0/device:GPU:3')\n",
      "Epoch 1/100\n",
      "INFO:tensorflow:batch_all_reduce: 22 all-reduces with algorithm = nccl, num_packs = 1\n",
      "INFO:tensorflow:batch_all_reduce: 22 all-reduces with algorithm = nccl, num_packs = 1\n",
      "937/937 [==============================] - 184s 197ms/step - loss: 0.0158 - val_loss: 0.0092\n",
      "Epoch 2/100\n",
      "937/937 [==============================] - 179s 192ms/step - loss: 0.0075 - val_loss: 0.0061\n",
      "Epoch 3/100\n",
      "937/937 [==============================] - 179s 191ms/step - loss: 0.0057 - val_loss: 0.0053\n",
      "Epoch 4/100\n",
      "937/937 [==============================] - 179s 191ms/step - loss: 0.0050 - val_loss: 0.0049\n",
      "Epoch 5/100\n",
      "937/937 [==============================] - 179s 191ms/step - loss: 0.0046 - val_loss: 0.0047\n",
      "Epoch 6/100\n",
      "937/937 [==============================] - 179s 191ms/step - loss: 0.0044 - val_loss: 0.0045\n",
      "Epoch 7/100\n",
      "937/937 [==============================] - 179s 191ms/step - loss: 0.0042 - val_loss: 0.0044\n",
      "Epoch 8/100\n",
      "937/937 [==============================] - 179s 191ms/step - loss: 0.0040 - val_loss: 0.0043\n",
      "Epoch 9/100\n",
      "937/937 [==============================] - 179s 191ms/step - loss: 0.0039 - val_loss: 0.0043\n",
      "Epoch 10/100\n",
      "937/937 [==============================] - 179s 191ms/step - loss: 0.0038 - val_loss: 0.0042\n",
      "Epoch 11/100\n",
      "937/937 [==============================] - 178s 190ms/step - loss: 0.0037 - val_loss: 0.0043\n",
      "Epoch 12/100\n",
      "937/937 [==============================] - 179s 191ms/step - loss: 0.0036 - val_loss: 0.0042\n",
      "Epoch 13/100\n",
      "937/937 [==============================] - 177s 189ms/step - loss: 0.0035 - val_loss: 0.0043\n",
      "Epoch 14/100\n",
      "937/937 [==============================] - 179s 191ms/step - loss: 0.0035 - val_loss: 0.0042\n",
      "Epoch 15/100\n"
     ]
    },
    {
     "name": "stdout",
     "output_type": "stream",
     "text": [
      "937/937 [==============================] - 178s 189ms/step - loss: 0.0034 - val_loss: 0.0042\n",
      "Epoch 16/100\n",
      "937/937 [==============================] - 179s 191ms/step - loss: 0.0033 - val_loss: 0.0042\n",
      "Epoch 17/100\n",
      "937/937 [==============================] - 178s 190ms/step - loss: 0.0033 - val_loss: 0.0042\n",
      "Epoch 18/100\n",
      "937/937 [==============================] - 178s 189ms/step - loss: 0.0032 - val_loss: 0.0042\n",
      "Epoch 19/100\n",
      "937/937 [==============================] - 178s 190ms/step - loss: 0.0032 - val_loss: 0.0042\n",
      "Epoch 20/100\n",
      "937/937 [==============================] - 180s 192ms/step - loss: 0.0031 - val_loss: 0.0042\n",
      "Epoch 21/100\n",
      "937/937 [==============================] - 177s 189ms/step - loss: 0.0031 - val_loss: 0.0042\n",
      "Epoch 22/100\n",
      "937/937 [==============================] - 178s 190ms/step - loss: 0.0031 - val_loss: 0.0042\n",
      "Epoch 23/100\n",
      "937/937 [==============================] - 177s 189ms/step - loss: 0.0030 - val_loss: 0.0042\n",
      "Epoch 24/100\n",
      "937/937 [==============================] - 178s 190ms/step - loss: 0.0030 - val_loss: 0.0042\n",
      "Epoch 25/100\n",
      "937/937 [==============================] - 178s 190ms/step - loss: 0.0029 - val_loss: 0.0042\n",
      "Epoch 26/100\n",
      "937/937 [==============================] - ETA: 0s - loss: 0.0029Restoring model weights from the end of the best epoch.\n",
      "937/937 [==============================] - 180s 192ms/step - loss: 0.0029 - val_loss: 0.0042\n",
      "Epoch 00026: early stopping\n",
      "235/235 [==============================] - 16s 66ms/step\n",
      "{'accuracy': 0.701966540456691, 'F1 (macro)': 0.5727928691228157, 'F1 (micro)': 0.8942736306652401, 'LRAP': 0.9568992184005976, 'NDCG': 0.9741928728206998, 'timestamp': 1590786613}\n",
      "130/130 [==============================] - 9s 66ms/step\n",
      "INFO:tensorflow:Using MirroredStrategy with devices ('/job:localhost/replica:0/task:0/device:GPU:0', '/job:localhost/replica:0/task:0/device:GPU:1', '/job:localhost/replica:0/task:0/device:GPU:2', '/job:localhost/replica:0/task:0/device:GPU:3')\n",
      "Epoch 1/100\n",
      "937/937 [==============================] - 185s 198ms/step - loss: 0.0164 - val_loss: 0.0099\n",
      "Epoch 2/100\n",
      "937/937 [==============================] - 180s 192ms/step - loss: 0.0078 - val_loss: 0.0063\n",
      "Epoch 3/100\n",
      "937/937 [==============================] - 181s 193ms/step - loss: 0.0059 - val_loss: 0.0055\n",
      "Epoch 4/100\n",
      "937/937 [==============================] - 180s 192ms/step - loss: 0.0052 - val_loss: 0.0050\n",
      "Epoch 5/100\n",
      "937/937 [==============================] - 180s 192ms/step - loss: 0.0048 - val_loss: 0.0047\n",
      "Epoch 6/100\n",
      "937/937 [==============================] - 180s 192ms/step - loss: 0.0045 - val_loss: 0.0046\n",
      "Epoch 7/100\n",
      "937/937 [==============================] - 180s 192ms/step - loss: 0.0043 - val_loss: 0.0045\n",
      "Epoch 8/100\n",
      "937/937 [==============================] - 180s 192ms/step - loss: 0.0041 - val_loss: 0.0044\n",
      "Epoch 9/100\n",
      "937/937 [==============================] - 180s 192ms/step - loss: 0.0040 - val_loss: 0.0044\n",
      "Epoch 10/100\n",
      "937/937 [==============================] - 180s 192ms/step - loss: 0.0039 - val_loss: 0.0043\n",
      "Epoch 11/100\n",
      "937/937 [==============================] - 180s 192ms/step - loss: 0.0038 - val_loss: 0.0043\n",
      "Epoch 12/100\n",
      "937/937 [==============================] - 180s 192ms/step - loss: 0.0037 - val_loss: 0.0042\n",
      "Epoch 13/100\n",
      "937/937 [==============================] - 180s 192ms/step - loss: 0.0036 - val_loss: 0.0042\n",
      "Epoch 14/100\n",
      "937/937 [==============================] - 180s 192ms/step - loss: 0.0035 - val_loss: 0.0042\n",
      "Epoch 15/100\n",
      "937/937 [==============================] - 180s 193ms/step - loss: 0.0034 - val_loss: 0.0042\n",
      "Epoch 16/100\n",
      "937/937 [==============================] - 178s 190ms/step - loss: 0.0034 - val_loss: 0.0042\n",
      "Epoch 17/100\n",
      "937/937 [==============================] - 178s 190ms/step - loss: 0.0033 - val_loss: 0.0042\n",
      "Epoch 18/100\n",
      "937/937 [==============================] - 178s 190ms/step - loss: 0.0033 - val_loss: 0.0042\n",
      "Epoch 19/100\n",
      "937/937 [==============================] - 178s 190ms/step - loss: 0.0032 - val_loss: 0.0042\n",
      "Epoch 20/100\n",
      "937/937 [==============================] - 178s 190ms/step - loss: 0.0032 - val_loss: 0.0042\n",
      "Epoch 21/100\n",
      "937/937 [==============================] - 180s 192ms/step - loss: 0.0031 - val_loss: 0.0042\n",
      "Epoch 22/100\n",
      "937/937 [==============================] - 178s 190ms/step - loss: 0.0031 - val_loss: 0.0042\n",
      "Epoch 23/100\n",
      "937/937 [==============================] - 179s 191ms/step - loss: 0.0030 - val_loss: 0.0042\n",
      "Epoch 24/100\n",
      "937/937 [==============================] - 178s 190ms/step - loss: 0.0030 - val_loss: 0.0042\n",
      "Epoch 25/100\n",
      "937/937 [==============================] - 179s 191ms/step - loss: 0.0030 - val_loss: 0.0042\n",
      "Epoch 26/100\n",
      "937/937 [==============================] - 179s 191ms/step - loss: 0.0029 - val_loss: 0.0042\n",
      "Epoch 27/100\n",
      "937/937 [==============================] - 178s 190ms/step - loss: 0.0029 - val_loss: 0.0042\n",
      "Epoch 28/100\n",
      "937/937 [==============================] - 183s 195ms/step - loss: 0.0029 - val_loss: 0.0043\n",
      "Epoch 29/100\n",
      "937/937 [==============================] - 180s 192ms/step - loss: 0.0028 - val_loss: 0.0042\n",
      "Epoch 30/100\n",
      "937/937 [==============================] - 178s 190ms/step - loss: 0.0028 - val_loss: 0.0042\n",
      "Epoch 31/100\n",
      "937/937 [==============================] - ETA: 0s - loss: 0.0028Restoring model weights from the end of the best epoch.\n",
      "937/937 [==============================] - 182s 194ms/step - loss: 0.0028 - val_loss: 0.0042\n",
      "Epoch 00031: early stopping\n",
      "235/235 [==============================] - 16s 66ms/step\n",
      "{'accuracy': 0.7071038980534752, 'F1 (macro)': 0.5851063938850445, 'F1 (micro)': 0.89501315835082, 'LRAP': 0.9564710304065843, 'NDCG': 0.9751378266721157, 'timestamp': 1590792276}\n",
      "130/130 [==============================] - 9s 66ms/step\n"
     ]
    },
    {
     "data": {
      "text/html": [
       "<div>\n",
       "<style scoped>\n",
       "    .dataframe tbody tr th:only-of-type {\n",
       "        vertical-align: middle;\n",
       "    }\n",
       "\n",
       "    .dataframe tbody tr th {\n",
       "        vertical-align: top;\n",
       "    }\n",
       "\n",
       "    .dataframe thead th {\n",
       "        text-align: right;\n",
       "    }\n",
       "</style>\n",
       "<table border=\"1\" class=\"dataframe\">\n",
       "  <thead>\n",
       "    <tr style=\"text-align: right;\">\n",
       "      <th></th>\n",
       "      <th>accuracy</th>\n",
       "      <th>F1 (macro)</th>\n",
       "      <th>F1 (micro)</th>\n",
       "      <th>LRAP</th>\n",
       "      <th>NDCG</th>\n",
       "      <th>timestamp</th>\n",
       "    </tr>\n",
       "  </thead>\n",
       "  <tbody>\n",
       "    <tr>\n",
       "      <th>0</th>\n",
       "      <td>0.702717</td>\n",
       "      <td>0.586931</td>\n",
       "      <td>0.894273</td>\n",
       "      <td>0.957220</td>\n",
       "      <td>0.974731</td>\n",
       "      <td>1590771319</td>\n",
       "    </tr>\n",
       "    <tr>\n",
       "      <th>1</th>\n",
       "      <td>0.700549</td>\n",
       "      <td>0.577733</td>\n",
       "      <td>0.893922</td>\n",
       "      <td>0.956638</td>\n",
       "      <td>0.973597</td>\n",
       "      <td>1590776235</td>\n",
       "    </tr>\n",
       "    <tr>\n",
       "      <th>2</th>\n",
       "      <td>0.705859</td>\n",
       "      <td>0.587825</td>\n",
       "      <td>0.895878</td>\n",
       "      <td>0.956902</td>\n",
       "      <td>0.977095</td>\n",
       "      <td>1590781885</td>\n",
       "    </tr>\n",
       "    <tr>\n",
       "      <th>3</th>\n",
       "      <td>0.701967</td>\n",
       "      <td>0.572793</td>\n",
       "      <td>0.894274</td>\n",
       "      <td>0.956899</td>\n",
       "      <td>0.974193</td>\n",
       "      <td>1590786613</td>\n",
       "    </tr>\n",
       "    <tr>\n",
       "      <th>4</th>\n",
       "      <td>0.707104</td>\n",
       "      <td>0.585106</td>\n",
       "      <td>0.895013</td>\n",
       "      <td>0.956471</td>\n",
       "      <td>0.975138</td>\n",
       "      <td>1590792276</td>\n",
       "    </tr>\n",
       "  </tbody>\n",
       "</table>\n",
       "</div>"
      ],
      "text/plain": [
       "   accuracy  F1 (macro)  F1 (micro)      LRAP      NDCG   timestamp\n",
       "0  0.702717    0.586931    0.894273  0.957220  0.974731  1590771319\n",
       "1  0.700549    0.577733    0.893922  0.956638  0.973597  1590776235\n",
       "2  0.705859    0.587825    0.895878  0.956902  0.977095  1590781885\n",
       "3  0.701967    0.572793    0.894274  0.956899  0.974193  1590786613\n",
       "4  0.707104    0.585106    0.895013  0.956471  0.975138  1590792276"
      ]
     },
     "metadata": {},
     "output_type": "display_data"
    },
    {
     "name": "stdout",
     "output_type": "stream",
     "text": [
      "accuracy      0.703639\n",
      "F1 (macro)    0.582078\n",
      "F1 (micro)    0.894672\n",
      "LRAP          0.956826\n",
      "NDCG          0.974951\n",
      "dtype: float64\n"
     ]
    }
   ],
   "source": [
    "reset_seed()\n",
    "cross_evaluate(models.cnn_bi_lstm_2, model_params={\n",
    "    \"filters_1\": 400, \"filters_2\": 500, \"loss\": \"mean_squared_error\",\n",
    "    \"embedding_matrix\": ft_pretrained_embedding_matrix})"
   ]
  },
  {
   "cell_type": "code",
   "execution_count": null,
   "metadata": {},
   "outputs": [],
   "source": [
    "reset_seed()\n",
    "cross_evaluate(models.bi_lstm_1, model_params={\n",
    "    \"filters_1\": 400, \"filters_2\": 500, \"loss\": \"mean_squared_error\",\n",
    "    \"embedding_matrix\": glove_pretrained_embedding_matrix})"
   ]
  },
  {
   "cell_type": "code",
   "execution_count": null,
   "metadata": {},
   "outputs": [],
   "source": [
    "reset_seed()\n",
    "cross_evaluate(models.cnn_bi_lstm_1, model_params={\n",
    "    \"filters_1\": 400, \"filters_2\": 500, \"loss\": \"mean_squared_error\",\n",
    "    \"embedding_matrix\": glove_pretrained_embedding_matrix})"
   ]
  },
  {
   "cell_type": "code",
   "execution_count": null,
   "metadata": {},
   "outputs": [],
   "source": [
    "reset_seed()\n",
    "cross_evaluate(models.cnn_bi_lstm_2, model_params={\n",
    "    \"filters_1\": 400, \"filters_2\": 500, \"loss\": \"mean_squared_error\",\n",
    "    \"embedding_matrix\": glove_pretrained_embedding_matrix})"
   ]
  },
  {
   "cell_type": "code",
   "execution_count": null,
   "metadata": {},
   "outputs": [],
   "source": [
    "reset_seed()\n",
    "cross_evaluate(models.cnn_bi_lstm_1, model_params={\n",
    "    \"filters_1\": 400, \"filters_2\": 500, \"loss\": \"mean_squared_error\",\n",
    "    \"embedding_matrix\": w2v_embedding_matrix})"
   ]
  },
  {
   "cell_type": "code",
   "execution_count": null,
   "metadata": {},
   "outputs": [],
   "source": [
    "reset_seed()\n",
    "cross_evaluate(models.split_cnn_bi_lstm_2, model_params={\n",
    "    \"filters_1\": 400, \"filters_2\": 500, \"loss\": \"mean_squared_error\",\n",
    "    \"embedding_matrix_1\": ft_pretrained_embedding_matrix,\n",
    "    \"embedding_matrix_2\": glove_pretrained_embedding_matrix})"
   ]
  }
 ],
 "metadata": {
  "kernelspec": {
   "display_name": "Python 3",
   "language": "python",
   "name": "python3"
  },
  "language_info": {
   "codemirror_mode": {
    "name": "ipython",
    "version": 3
   },
   "file_extension": ".py",
   "mimetype": "text/x-python",
   "name": "python",
   "nbconvert_exporter": "python",
   "pygments_lexer": "ipython3",
   "version": "3.7.3"
  }
 },
 "nbformat": 4,
 "nbformat_minor": 2
}
