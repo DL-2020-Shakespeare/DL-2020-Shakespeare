{
 "cells": [
  {
   "cell_type": "code",
   "execution_count": 2,
   "metadata": {},
   "outputs": [],
   "source": [
    "import io\n",
    "import os\n",
    "import pickle\n",
    "import random as rn\n",
    "import warnings\n",
    "from importlib import reload\n",
    "from multiprocessing import cpu_count\n",
    "\n",
    "warnings.filterwarnings(\"ignore\")\n",
    "\n",
    "import matplotlib.pyplot as plt\n",
    "import numpy as np\n",
    "import pandas as pd\n",
    "import seaborn as sns\n",
    "import tensorflow as tf\n",
    "from gensim.models import Word2Vec\n",
    "from IPython.display import display\n",
    "from iterstrat.ml_stratifiers import MultilabelStratifiedKFold, \\\n",
    "        MultilabelStratifiedShuffleSplit\n",
    "from sklearn.metrics import accuracy_score, f1_score, hamming_loss, \\\n",
    "        average_precision_score, ndcg_score, \\\n",
    "        label_ranking_average_precision_score\n",
    "from sklearn.model_selection import train_test_split, KFold\n",
    "from sklearn.utils import shuffle\n",
    "from tensorflow.distribute import MirroredStrategy\n",
    "from tensorflow.keras.callbacks import EarlyStopping\n",
    "from tensorflow.keras.initializers import Constant, GlorotUniform\n",
    "from tensorflow.keras.layers import Dense, Dropout, Activation, Embedding, Conv1D, \\\n",
    "        GlobalMaxPooling1D, SpatialDropout1D, LSTM, GRU, Flatten, MaxPooling1D, \\\n",
    "        BatchNormalization, ReLU, Bidirectional\n",
    "from tensorflow.keras.models import Sequential\n",
    "from tensorflow.keras.preprocessing.text import Tokenizer\n",
    "from tensorflow.keras.preprocessing.sequence import pad_sequences\n",
    "\n",
    "import data\n",
    "import models\n",
    "import preprocessing\n",
    "\n",
    "seed = 42\n",
    "sns.set()\n",
    "\n",
    "def reset_seed():\n",
    "    os.environ[\"PYTHONHASHSEED\"] = str(seed)\n",
    "    os.environ[\"TF_DETERMINISTIC_OPS\"] = \"1\"\n",
    "    np.random.seed(seed)\n",
    "    rn.seed(seed)\n",
    "    tf.random.set_seed(seed)"
   ]
  },
  {
   "cell_type": "markdown",
   "metadata": {},
   "source": [
    "## Extracting the data"
   ]
  },
  {
   "cell_type": "code",
   "execution_count": 3,
   "metadata": {
    "pycharm": {
     "name": "#%%\n"
    }
   },
   "outputs": [
    {
     "name": "stdout",
     "output_type": "stream",
     "text": [
      "(299773,)\n",
      "(299773, 126)\n",
      "Toronto stocks end higher after volatile session. CHANGE\t\t\t\t    CHANGE TSE\t  5900.37    +50.15   HI 5900.37\t    LO  5840.29 DJI\t  6611.05    +27.57   GOLD (LONDON)   US$350.00 +1.90 FTSE100    4248.10    -64.80   GOLD (NY-COMEX) US$354.80 +0.70 NIKKEI    17869.59   -133.81   LME CASH NICKEL US$7659   +99.0 CANDLR\t1.3883\t\t LME CASH ALUM   US$1602.0  -4.0 CAN 30-YR   107.41     -0.15   BRENT CRUDE     US$19.09  -0.27 --------------------MARKET COMMENT---------------------------- * Toronto stocks ended higher on Tuesday, buoyed by strength in golds and banking * Computer problems due to heavy trading in Bre-X Minerals hampered session * 84 million shares traded Toronto's key stock index ended higher on Tuesday as the saga of Bre-X Minerals Ltd and its Indonesian gold find continued to dominate Canada's biggest stock market. The TSE 300 Index climbed 50.15 points to close at 5900.37 in heavy turnover of 84.07 million shares worth C$1.4 billion. But the overall market was mixed with declining issues narrowly outpacing advances 476 to 464. 298 issues were flat. Frantic trading in Bre-X collapsed the TSE's computer trading system earlier in the day, forcing the exchange to halt trading in the stock before the market closed. Shares in the Calgary-based gold prospector were halted for a statement by the company this morning. When it resumed, a whopping 7.7 million shares changed hands in the first 22 minutes of trading before the system crashed. Bre-X closed up 1.35 at 3.85. It was the first time Bre-X traded since investors lopped nearly C$3 billion off its stock market value last Thursday. TSE officials said the trading problems were due to old technology which will be replaced. On the Montreal Exchange, Bre-X closed up 0.81 at 3.50 on 9.8 million shares. Analysts predicted more volatility for Bre-X shares this week. \"The question of what Bre-X will release over the next few days will be important to the market,\" said Josef Schachter, of Schachter Asset Management Inc. The gold sector rose nearly 136 points, leading 12 of 14 sub-indices higher. Other strong groups included financial services, consumer products, energy and transportation. The TSE posted minor losses in forestry and real estate. --- HOT STOCKS --- * Among bank shares, Bank of Nova Scotia rose 0.65 to 51.50 on 2.1 million shares, while Canadian Imperial Bank of Commerce added 0.50 to 31.80 on 2.1 million shares. ((Reuters Toronto Bureau (416) 941-8100))\n",
      "[0 0 0 0 0 0 0 0 0 0 0 0 0 0 0 0 0 0 0 0 0 0 0 0 0 0 0 0 0 0 0 0 0 0 0 0 0\n",
      " 0 0 0 0 0 0 0 0 0 0 0 0 0 0 0 0 0 0 0 0 0 0 0 0 0 0 0 0 0 0 0 0 0 0 0 0 0\n",
      " 0 0 0 0 0 0 0 0 0 0 0 0 0 0 0 0 0 0 0 0 0 0 0 0 0 0 0 0 0 0 0 0 0 0 0 0 0\n",
      " 0 0 0 1 0 0 0 0 0 0 0 0 1 0 0]\n"
     ]
    }
   ],
   "source": [
    "# data.extract_data(extraction_dir=\"train\",\n",
    "#                   data_dir=\"data\",\n",
    "#                   data_zip_name=\"reuters-training-corpus.zip\")\n",
    "\n",
    "train_df = pd.read_pickle(\"train/data.pkl\")\n",
    "\n",
    "# train_df = data.get_docs_labels(\"train/REUTERS_CORPUS_2\")\n",
    "# train_df.to_pickle(\"train/data.pkl\")\n",
    "\n",
    "train_docs = train_df[\"doc\"].values\n",
    "train_labels = np.array(train_df[\"labels\"].tolist())\n",
    "n_labels = len(data.CODEMAP)\n",
    "\n",
    "print(train_docs.shape)\n",
    "print(train_labels.shape)\n",
    "print(train_docs[2])\n",
    "print(train_labels[2])"
   ]
  },
  {
   "cell_type": "code",
   "execution_count": 4,
   "metadata": {
    "pycharm": {
     "name": "#%%\n"
    }
   },
   "outputs": [
    {
     "data": {
      "image/png": "[encoded data removed]",
      "text/plain": [
       "<Figure size 432x288 with 1 Axes>"
      ]
     },
     "metadata": {},
     "output_type": "display_data"
    }
   ],
   "source": [
    "occurrences = pd.Series(np.sum(train_labels, axis=0), name=\"occurrences\")\n",
    "g = sns.distplot(occurrences, bins=np.logspace(0, 6), kde=False)\n",
    "g.set_xscale(\"log\")\n",
    "g.set_ylabel(\"count\")\n",
    "g.set_title(\"Topic occurrence distribution in the training data\")\n",
    "plt.tight_layout()\n",
    "plt.show()"
   ]
  },
  {
   "cell_type": "code",
   "execution_count": 5,
   "metadata": {},
   "outputs": [
    {
     "name": "stdout",
     "output_type": "stream",
     "text": [
      "[0, 0, 0, 0, 0, 0, 0, 0, 0, 0, 0, 0, 0, 0, 0, 0, 0, 0, 0, 0, 0, 0, 0, 4, 8, 19, 38, 55, 70, 122, 141, 162, 187, 301, 348, 381, 401, 432, 591, 619, 664, 671, 704, 747, 760, 761, 778, 801, 857, 919, 949, 958, 975, 989, 989, 1019, 1043, 1101, 1310, 1358, 1423, 1479, 1560, 1658, 1675, 1843, 1890, 1892, 2011, 2111, 2153, 2280, 2429, 2708, 2770, 2971, 3177, 3245, 3393, 3682, 3794, 4089, 4222, 4251, 4254, 4693, 4996, 5383, 5693, 5759, 6244, 6565, 6731, 7419, 8350, 8429, 8641, 8658, 9757, 10253, 10668, 10930, 11210, 11298, 11338, 11705, 12592, 13040, 13216, 13862, 14398, 15598, 16055, 18675, 19124, 19593, 20042, 21499, 27095, 33786, 33963, 42374, 59207, 81940, 82580, 137531]\n"
     ]
    }
   ],
   "source": [
    "print(sorted(np.sum(train_labels, axis=0)))"
   ]
  },
  {
   "cell_type": "code",
   "execution_count": 15,
   "metadata": {},
   "outputs": [
    {
     "name": "stdout",
     "output_type": "stream",
     "text": [
      "[0, 0, 0, 0, 0, 0, 0, 0, 0, 0, 0, 0, 0, 0, 0, 0, 0, 0, 0, 0, 0, 0, 0, 3, 6, 15, 30, 44, 56, 98, 113, 130, 150, 241, 278, 305, 321, 346, 473, 495, 531, 537, 563, 598, 608, 609, 622, 641, 686, 735, 759, 766, 780, 791, 791, 815, 834, 881, 1048, 1086, 1138, 1183, 1248, 1326, 1340, 1474, 1512, 1514, 1609, 1689, 1722, 1824, 1943, 2166, 2216, 2377, 2542, 2596, 2714, 2946, 3035, 3271, 3378, 3401, 3403, 3754, 3997, 4306, 4554, 4607, 4995, 5252, 5385, 5935, 6680, 6743, 6913, 6926, 7806, 8202, 8534, 8744, 8968, 9038, 9070, 9364, 10074, 10432, 10573, 11090, 11518, 12478, 12835, 14940, 15299, 15674, 16034, 17189, 21676, 27029, 27170, 33899, 47366, 65552, 66064, 110022]\n",
      "[0, 0, 0, 0, 0, 0, 0, 0, 0, 0, 0, 0, 0, 0, 0, 0, 0, 0, 0, 0, 0, 0, 0, 1, 2, 4, 8, 11, 14, 24, 28, 32, 37, 60, 70, 76, 80, 86, 118, 124, 133, 134, 141, 149, 152, 152, 156, 160, 171, 184, 190, 192, 195, 198, 198, 204, 209, 220, 262, 272, 285, 296, 312, 332, 335, 369, 378, 378, 402, 422, 431, 456, 486, 542, 554, 594, 635, 649, 679, 736, 759, 818, 844, 850, 851, 939, 999, 1077, 1139, 1152, 1249, 1313, 1346, 1484, 1670, 1686, 1728, 1732, 1951, 2051, 2134, 2186, 2242, 2260, 2268, 2341, 2518, 2608, 2643, 2772, 2880, 3120, 3220, 3735, 3825, 3919, 4008, 4310, 5419, 6757, 6793, 8475, 11841, 16388, 16516, 27509]\n"
     ]
    }
   ],
   "source": [
    "msss = MultilabelStratifiedShuffleSplit(n_splits=1, test_size=.2, random_state=seed)\n",
    "\n",
    "for train, test in msss.split(train_labels, train_labels):\n",
    "    print(sorted(np.sum(train_labels[train], axis=0)))\n",
    "    print(sorted(np.sum(train_labels[test], axis=0)))"
   ]
  },
  {
   "cell_type": "code",
   "execution_count": 19,
   "metadata": {},
   "outputs": [
    {
     "name": "stdout",
     "output_type": "stream",
     "text": [
      "[0, 0, 0, 0, 0, 0, 0, 0, 0, 0, 0, 0, 0, 0, 0, 0, 0, 0, 0, 0, 0, 0, 0, 3, 7, 15, 31, 44, 56, 97, 112, 129, 150, 241, 278, 304, 320, 346, 473, 495, 532, 537, 564, 598, 608, 609, 622, 641, 686, 736, 760, 767, 780, 792, 792, 816, 835, 881, 1048, 1086, 1138, 1183, 1248, 1326, 1340, 1475, 1512, 1514, 1609, 1689, 1722, 1824, 1943, 2166, 2216, 2377, 2542, 2596, 2714, 2946, 3035, 3271, 3378, 3401, 3403, 3755, 3997, 4307, 4555, 4607, 4995, 5252, 5385, 5935, 6680, 6743, 6913, 6926, 7806, 8202, 8535, 8744, 8968, 9039, 9070, 9364, 10074, 10432, 10573, 11090, 11519, 12479, 12848, 14940, 15300, 15675, 16034, 17199, 21676, 27029, 27171, 33908, 47366, 65552, 66064, 110032]\n",
      "[0, 0, 0, 0, 0, 0, 0, 0, 0, 0, 0, 0, 0, 0, 0, 0, 0, 0, 0, 0, 0, 0, 0, 1, 1, 4, 7, 11, 14, 25, 29, 33, 37, 60, 70, 77, 81, 86, 118, 124, 132, 134, 140, 149, 152, 152, 156, 160, 171, 183, 189, 191, 195, 197, 197, 203, 208, 220, 262, 272, 285, 296, 312, 332, 335, 368, 378, 378, 402, 422, 431, 456, 486, 542, 554, 594, 635, 649, 679, 736, 759, 818, 844, 850, 851, 938, 999, 1076, 1138, 1152, 1249, 1313, 1346, 1484, 1670, 1686, 1728, 1732, 1951, 2051, 2133, 2186, 2242, 2259, 2268, 2341, 2518, 2608, 2643, 2772, 2879, 3119, 3207, 3735, 3824, 3918, 4008, 4300, 5419, 6757, 6792, 8466, 11841, 16388, 16516, 27499]\n",
      "[0, 0, 0, 0, 0, 0, 0, 0, 0, 0, 0, 0, 0, 0, 0, 0, 0, 0, 0, 0, 0, 0, 0, 3, 6, 16, 30, 44, 56, 98, 113, 130, 150, 241, 278, 305, 321, 345, 473, 496, 531, 537, 563, 598, 608, 609, 623, 641, 686, 735, 759, 766, 780, 791, 791, 815, 835, 881, 1048, 1087, 1139, 1183, 1248, 1326, 1340, 1475, 1512, 1513, 1608, 1688, 1722, 1824, 1943, 2166, 2216, 2376, 2541, 2596, 2714, 2945, 3035, 3271, 3377, 3401, 3403, 3754, 3997, 4306, 4554, 4609, 4995, 5252, 5384, 5935, 6680, 6743, 6913, 6926, 7805, 8202, 8534, 8744, 8968, 9038, 9070, 9364, 10073, 10432, 10572, 11089, 11518, 12478, 12840, 14940, 15299, 15674, 16033, 17199, 21676, 27028, 27170, 33908, 47365, 65552, 66064, 110031]\n",
      "[0, 0, 0, 0, 0, 0, 0, 0, 0, 0, 0, 0, 0, 0, 0, 0, 0, 0, 0, 0, 0, 0, 0, 1, 2, 3, 8, 11, 14, 24, 28, 32, 37, 60, 70, 76, 80, 87, 118, 123, 133, 134, 141, 149, 152, 152, 155, 160, 171, 184, 190, 192, 195, 198, 198, 204, 208, 220, 262, 271, 284, 296, 312, 332, 335, 368, 378, 379, 403, 423, 431, 456, 486, 542, 554, 595, 636, 649, 679, 737, 759, 818, 845, 850, 851, 939, 999, 1077, 1139, 1150, 1249, 1313, 1347, 1484, 1670, 1686, 1728, 1732, 1952, 2051, 2134, 2186, 2242, 2260, 2268, 2341, 2519, 2608, 2644, 2773, 2880, 3120, 3215, 3735, 3825, 3919, 4009, 4300, 5419, 6758, 6793, 8466, 11842, 16388, 16516, 27500]\n",
      "[0, 0, 0, 0, 0, 0, 0, 0, 0, 0, 0, 0, 0, 0, 0, 0, 0, 0, 0, 0, 0, 0, 0, 4, 6, 15, 30, 44, 56, 98, 113, 130, 149, 241, 279, 305, 321, 345, 473, 495, 531, 536, 563, 597, 608, 608, 623, 640, 685, 735, 759, 766, 780, 791, 791, 815, 834, 880, 1048, 1086, 1138, 1183, 1248, 1327, 1340, 1474, 1512, 1514, 1609, 1689, 1723, 1824, 1943, 2167, 2216, 2377, 2542, 2596, 2715, 2945, 3036, 3271, 3377, 3401, 3403, 3754, 3996, 4306, 4554, 4610, 4995, 5252, 5385, 5935, 6680, 6743, 6912, 6926, 7805, 8202, 8534, 8744, 8968, 9038, 9070, 9364, 10074, 10432, 10573, 11089, 11518, 12479, 12848, 14940, 15299, 15675, 16033, 17199, 21676, 27029, 27171, 33908, 47366, 65552, 66064, 110031]\n",
      "[0, 0, 0, 0, 0, 0, 0, 0, 0, 0, 0, 0, 0, 0, 0, 0, 0, 0, 0, 0, 0, 0, 0, 0, 2, 4, 8, 11, 14, 24, 28, 32, 38, 60, 69, 76, 80, 87, 118, 124, 133, 135, 141, 150, 152, 153, 155, 161, 172, 184, 190, 192, 195, 198, 198, 204, 209, 221, 262, 272, 285, 296, 312, 331, 335, 369, 378, 378, 402, 422, 430, 456, 486, 541, 554, 594, 635, 649, 678, 737, 758, 818, 845, 850, 851, 939, 1000, 1077, 1139, 1149, 1249, 1313, 1346, 1484, 1670, 1686, 1729, 1732, 1952, 2051, 2134, 2186, 2242, 2260, 2268, 2341, 2518, 2608, 2643, 2773, 2880, 3119, 3207, 3735, 3825, 3918, 4009, 4300, 5419, 6757, 6792, 8466, 11841, 16388, 16516, 27500]\n",
      "[0, 0, 0, 0, 0, 0, 0, 0, 0, 0, 0, 0, 0, 0, 0, 0, 0, 0, 0, 0, 0, 0, 0, 3, 6, 15, 31, 44, 56, 98, 113, 129, 149, 240, 278, 305, 321, 346, 472, 495, 531, 537, 563, 597, 608, 609, 622, 641, 685, 735, 759, 766, 780, 791, 791, 815, 834, 881, 1048, 1087, 1139, 1184, 1248, 1326, 1340, 1474, 1512, 1513, 1609, 1689, 1722, 1824, 1943, 2166, 2216, 2377, 2541, 2596, 2714, 2946, 3035, 3271, 3378, 3400, 3403, 3754, 3997, 4306, 4554, 4609, 4995, 5252, 5385, 5935, 6680, 6743, 6913, 6927, 7806, 8203, 8534, 8744, 8968, 9038, 9071, 9364, 10073, 10432, 10573, 11090, 11518, 12478, 12836, 14940, 15299, 15674, 16034, 17199, 21676, 27029, 27170, 33863, 47366, 65552, 66064, 109999]\n",
      "[0, 0, 0, 0, 0, 0, 0, 0, 0, 0, 0, 0, 0, 0, 0, 0, 0, 0, 0, 0, 0, 0, 0, 1, 2, 4, 7, 11, 14, 24, 28, 33, 38, 61, 70, 76, 80, 86, 119, 124, 133, 134, 141, 150, 152, 152, 156, 160, 172, 184, 190, 192, 195, 198, 198, 204, 209, 220, 262, 271, 284, 295, 312, 332, 335, 369, 378, 379, 402, 422, 431, 456, 486, 542, 554, 594, 636, 649, 679, 736, 759, 818, 844, 851, 851, 939, 999, 1077, 1139, 1150, 1249, 1313, 1346, 1484, 1670, 1686, 1728, 1731, 1951, 2050, 2134, 2186, 2242, 2260, 2267, 2341, 2519, 2608, 2643, 2772, 2880, 3120, 3219, 3735, 3825, 3919, 4008, 4300, 5419, 6757, 6793, 8511, 11841, 16388, 16516, 27532]\n",
      "[0, 0, 0, 0, 0, 0, 0, 0, 0, 0, 0, 0, 0, 0, 0, 0, 0, 0, 0, 0, 0, 0, 0, 3, 7, 15, 30, 44, 56, 97, 113, 130, 150, 241, 279, 305, 321, 346, 473, 495, 531, 537, 563, 598, 608, 609, 622, 641, 686, 735, 759, 767, 780, 791, 791, 815, 834, 881, 1048, 1086, 1138, 1183, 1248, 1327, 1340, 1474, 1512, 1514, 1609, 1689, 1723, 1824, 1944, 2167, 2216, 2377, 2542, 2596, 2715, 2946, 3035, 3272, 3378, 3401, 3404, 3755, 3997, 4307, 4555, 4601, 4996, 5252, 5385, 5936, 6680, 6744, 6913, 6927, 7806, 8203, 8535, 8744, 8968, 9039, 9071, 9364, 10074, 10432, 10573, 11090, 11519, 12478, 12848, 14940, 15299, 15674, 16034, 17200, 21676, 27029, 27170, 33909, 47365, 65552, 66064, 110031]\n",
      "[0, 0, 0, 0, 0, 0, 0, 0, 0, 0, 0, 0, 0, 0, 0, 0, 0, 0, 0, 0, 0, 0, 0, 1, 1, 4, 8, 11, 14, 25, 28, 32, 37, 60, 69, 76, 80, 86, 118, 124, 133, 134, 141, 149, 152, 152, 156, 160, 171, 184, 190, 191, 195, 198, 198, 204, 209, 220, 262, 272, 285, 296, 312, 331, 335, 369, 378, 378, 402, 422, 430, 456, 485, 541, 554, 594, 635, 649, 678, 736, 759, 817, 844, 850, 850, 938, 999, 1076, 1138, 1158, 1248, 1313, 1346, 1483, 1670, 1685, 1728, 1731, 1951, 2050, 2133, 2186, 2242, 2259, 2267, 2341, 2518, 2608, 2643, 2772, 2879, 3120, 3207, 3735, 3825, 3919, 4008, 4299, 5419, 6757, 6793, 8465, 11842, 16388, 16516, 27500]\n"
     ]
    }
   ],
   "source": [
    "mskf = MultilabelStratifiedKFold(n_splits=5, random_state=seed)\n",
    "\n",
    "for train, test in mskf.split(train_labels, train_labels):\n",
    "    print(sorted(np.sum(train_labels[train], axis=0)))\n",
    "    print(sorted(np.sum(train_labels[test], axis=0)))"
   ]
  }
 ],
 "metadata": {
  "kernelspec": {
   "display_name": "Python 3",
   "language": "python",
   "name": "python3"
  },
  "language_info": {
   "codemirror_mode": {
    "name": "ipython",
    "version": 3
   },
   "file_extension": ".py",
   "mimetype": "text/x-python",
   "name": "python",
   "nbconvert_exporter": "python",
   "pygments_lexer": "ipython3",
   "version": "3.7.3"
  }
 },
 "nbformat": 4,
 "nbformat_minor": 1
}
