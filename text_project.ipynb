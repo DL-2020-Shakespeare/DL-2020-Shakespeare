{
 "cells": [
  {
   "cell_type": "markdown",
   "metadata": {},
   "source": [
    "# DATA20001 Deep Learning - Group Project\n",
    "## Text project\n",
    "\n",
    "**Due Thursday, May 20, before 23:59.**\n",
    "\n",
    "The task is to learn to assign the correct labels to news articles.  The corpus contains ~850K articles from Reuters.  The test set is about 10% of the articles. The data is unextracted in XML files.\n",
    "\n",
    "We're only giving you the code for downloading the data, and how to save the final model. The rest you'll have to do yourselves.\n",
    "\n",
    "Some comments and hints particular to the project:\n",
    "\n",
    "- One document may belong to many classes in this problem, i.e., it's a multi-label classification problem. In fact there are documents that don't belong to any class, and you should also be able to handle these correctly. Pay careful attention to how you design the outputs of the network (e.g., what activation to use) and what loss function should be used.\n",
    "- You may use word-embeddings to get better results. For example, you were already using a smaller version of the GloVE  embeddings in exercise 4. Do note that these embeddings take a lot of memory. \n",
    "- In the exercises we used e.g., `torchvision.datasets.MNIST` to handle the loading of the data in suitable batches. Here, you need to handle the dataloading yourself.  The easiest way is probably to create a custom `Dataset`. [See for example here for a tutorial](https://github.com/utkuozbulak/pytorch-custom-dataset-examples)."
   ]
  },
  {
   "cell_type": "code",
   "execution_count": 1,
   "outputs": [],
   "source": [
    "import pickle\n",
    "\n",
    "import numpy as np\n",
    "\n",
    "import data"
   ],
   "metadata": {
    "collapsed": false,
    "pycharm": {
     "name": "#%%\n"
    }
   }
  },
  {
   "cell_type": "markdown",
   "metadata": {},
   "source": [
    "## Get the data"
   ]
  },
  {
   "cell_type": "code",
   "execution_count": 2,
   "metadata": {},
   "outputs": [],
   "source": [
    "# data.extract_data(extraction_dir=\"train\", data_dir=\"data\", data_zip_name=\"reuters-training-corpus.zip\")"
   ]
  },
  {
   "cell_type": "markdown",
   "metadata": {},
   "source": [
    "The above command downloads and extracts the data files into the `train` subdirectory.\n",
    "\n",
    "The files can be found in `train/`, and are named as `19970405.zip`, etc. You will have to manage the content of these zips to get the data. There is a readme which has links to further descriptions on the data.\n",
    "\n",
    "The class labels, or topics, can be found in the readme file called `train/codes.zip`.  The zip contains a file called \"topic_codes.txt\".  This file contains the special codes for the topics (about 130 of them), and the explanation - what each code means.\n",
    "\n",
    "The XML document files contain the article's headline, the main body text, and the list of topic labels assigned to each article.  You will have to extract the topics of each article from the XML.  For example: \n",
    "&lt;code code=\"C18\"&gt; refers to the topic \"OWNERSHIP CHANGES\" (like a corporate buyout).\n",
    "\n",
    "You should pre-process the XML to extract the words from the article: the &lt;headline&gt; element and the &lt;text&gt;.  You should not need any other parts of the article."
   ]
  },
  {
   "cell_type": "markdown",
   "metadata": {},
   "source": [
    "## Your stuff goes here ..."
   ]
  },
  {
   "cell_type": "code",
   "execution_count": 3,
   "metadata": {},
   "outputs": [
    {
     "name": "stdout",
     "output_type": "stream",
     "text": [
      "299773\n",
      "(299773, 126)\n",
      "India must allow free imports and exports of gold and liberalise trade in the yellow metal to boost industrial and employment growth, senior government officials said on Saturday. \"The major objective of the new gold policy should perhaps be to recognise the importance of gold in the Indian economic system...,\" Y.V. Reddy, deputy governor of the Reserve Bank of India (RBI), told a gold seminar in the Indian capital. \"...(The policy) should enable gold to play a transparent and positive role in the industrial development, employment and export sectors of the economy,\" Reddy said. Reddy said India should allow free imports and exports of gold and give up its present system of trade through designated agencies. Currently state-run State Bank of India and MMTC Ltd are the only entities permitted to import gold. \"Free import under open general licence and free exports are pre-conditions for capturing world markets,\" Reddy said. He said most South Asian nations had liberalised gold imports, charging nominal duties. \"This development makes it imperative that we review our policies urgently.\" India is the world's largest consumer of gold, although nearly a third of its 900 million people live below the poverty line with the average per-capita income at around $330 a year. The country's annual consumption of gold is estimated at around 500 tonnes, 80 percent of it imported. India's main demand is for gold jewellery, given and used at an estimated 10 million weddings each year, which absorbs nearly 300 tonnes of the metal annually, bullion dealers say. P.P. Prabhu, the highest-ranking civil servant in the Commerce Ministry, told the seminar organised by the World Gold Council that much progress had been made in liberalising gold trade since 1991 when India launched an ambitious economic reforms programme. \"(But) of course the regime is still not very open,\" Prabhu added. He said smuggled gold currently accounted for only about 100-120 tonnes per year after India allowed non-resident Indians to bring in up to five kgs of gold each time they come to the country, subject to a certain duty. The limit was raised to 10 kgs in 1997. \"There is a significant reduction compared to early days when the percentage of smuggled gold was estimated to be more than 50 percent of the total consumption,\" Prabhu added. He said India's exports of gold jewellery had doubled since 1992/93 but there was still great potential for raising the country's share in the world jewellery trade. \"Although this sector has shown consistent growth, still, the potential is very much more especially considering the reservoir of talented craftsmen in India,\" Prabhu said. He said India's exports of gold and silver jewellery were worth $600 million annually against world trade of about $20 billion. India was considering ways to promote gold jewellery exports by allowing more agencies to import, stock and sell gold in domestic markets, Prabhu said. He said the RBI had already laid down guidelines for nominating more banks to import and sell gold and soon a number of new agencies would be permitted to import gold.\n",
      "[0 0 0 0 0 0 0 0 0 0 0 0 0 0 0 0 0 0 0 0 0 0 0 0 0 0 0 0 0 0 0 0 0 0 0 0 0\n",
      " 0 0 0 0 0 0 0 0 0 1 0 0 0 0 0 0 0 0 0 0 0 0 0 0 0 0 0 0 0 0 0 0 0 1 0 0 0\n",
      " 0 0 0 0 0 0 0 0 0 0 0 0 0 0 0 0 0 0 0 0 0 0 0 0 0 0 0 0 0 0 0 0 0 0 0 0 0\n",
      " 0 0 0 0 0 0 0 0 1 0 1 0 1 0 0]\n"
     ]
    }
   ],
   "source": [
    "try:\n",
    "    with open(\"train/docs.pkl\", \"rb\") as f:\n",
    "        docs = pickle.load(f)\n",
    "    labels = np.load(\"train/labels.npy\")\n",
    "except:\n",
    "    docs, labels = data.get_docs_labels(\"train/REUTERS_CORPUS_2\")\n",
    "    with open(\"train/docs.pkl\", \"wb\") as f:\n",
    "        pickle.dump(docs, f)\n",
    "    np.save(\"train/labels.npy\", labels)\n",
    "\n",
    "print(len(docs))\n",
    "print(labels.shape)\n",
    "\n",
    "print(docs[-2])\n",
    "print(labels[-2])"
   ]
  },
  {
   "cell_type": "markdown",
   "metadata": {},
   "source": [
    "## Save your model\n",
    "\n",
    "It might be useful to save your model if you want to continue your work later, or use it for inference later."
   ]
  },
  {
   "cell_type": "code",
   "execution_count": 4,
   "metadata": {},
   "outputs": [],
   "source": [
    "# torch.save(model.state_dict(), 'model.pkl')"
   ]
  },
  {
   "cell_type": "markdown",
   "metadata": {},
   "source": [
    "The model file should now be visible in the \"Home\" screen of the jupyter notebooks interface.  There you should be able to select it and press \"download\".\n",
    "\n",
    "## Download test set\n",
    "\n",
    "The testset will be made available during the last week before the deadline and can be downloaded in the same way as the training set.\n",
    "\n",
    "## Predict for test set\n",
    "\n",
    "You will be asked to return your predictions a separate test set.  These should be returned as a matrix with one row for each test article.  Each row contains a binary prediction for each label, 1 if it's present in the image, and 0 if not. The order of the labels is the order of the label (topic) codes.\n",
    "\n",
    "An example row could like like this if your system predicts the presense of the second and fourth topic:\n",
    "\n",
    "    0 1 0 1 0 0 0 0 0 0 0 0 0 0 ...\n",
    "    \n",
    "If you have the matrix prepared in `y` you can use the following function to save it to a text file."
   ]
  },
  {
   "cell_type": "code",
   "execution_count": 5,
   "metadata": {},
   "outputs": [],
   "source": [
    "# np.savetxt('results.txt', y, fmt='%d')"
   ]
  }
 ],
 "metadata": {
  "kernelspec": {
   "display_name": "Python 3",
   "language": "python",
   "name": "python3"
  },
  "language_info": {
   "codemirror_mode": {
    "name": "ipython",
    "version": 3
   },
   "file_extension": ".py",
   "mimetype": "text/x-python",
   "name": "python",
   "nbconvert_exporter": "python",
   "pygments_lexer": "ipython3",
   "version": "3.6.8"
  }
 },
 "nbformat": 4,
 "nbformat_minor": 2
}