{
 "cells": [
  {
   "cell_type": "markdown",
   "metadata": {},
   "source": [
    "# DATA20001 Deep Learning - Group Project\n",
    "## Text project\n",
    "\n",
    "**Due Thursday, May 22, before 23:59.**\n",
    "\n",
    "The task is to learn to assign the correct labels to news articles.  The corpus contains ~850K articles from Reuters.  The test set is about 10% of the articles. The data is unextracted in XML files.\n",
    "\n",
    "We're only giving you the code for downloading the data, and how to save the final model. The rest you'll have to do yourselves.\n",
    "\n",
    "Some comments and hints particular to the project:\n",
    "\n",
    "- One document may belong to many classes in this problem, i.e., it's a multi-label classification problem. In fact there are documents that don't belong to any class, and you should also be able to handle these correctly. Pay careful attention to how you design the outputs of the network (e.g., what activation to use) and what loss function should be used.\n",
    "- You may use word-embeddings to get better results. For example, you were already using a smaller version of the GloVE  embeddings in exercise 4. Do note that these embeddings take a lot of memory. \n",
    "- In the exercises we used e.g., `torchvision.datasets.MNIST` to handle the loading of the data in suitable batches. Here, you need to handle the dataloading yourself.  The easiest way is probably to create a custom `Dataset`. [See for example here for a tutorial](https://github.com/utkuozbulak/pytorch-custom-dataset-examples)."
   ]
  },
  {
   "cell_type": "code",
   "execution_count": 3,
   "outputs": [],
   "source": [
    "import pickle\n",
    "import warnings\n",
    "\n",
    "import numpy as np\n",
    "\n",
    "import data\n",
    "import preprocessing\n",
    "\n",
    "warnings.filterwarnings(\"ignore\")"
   ],
   "metadata": {
    "collapsed": false,
    "pycharm": {
     "name": "#%%\n"
    }
   }
  },
  {
   "cell_type": "markdown",
   "metadata": {},
   "source": [
    "The above command downloads and extracts the data files into the `train` subdirectory.\n",
    "\n",
    "The files can be found in `train/`, and are named as `19970405.zip`, etc. You will have to manage the content of these zips to get the data. There is a readme which has links to further descriptions on the data.\n",
    "\n",
    "The class labels, or topics, can be found in the readme file called `train/codes.zip`.  The zip contains a file called \"topic_codes.txt\".  This file contains the special codes for the topics (about 130 of them), and the explanation - what each code means.\n",
    "\n",
    "The XML document files contain the article's headline, the main body text, and the list of topic labels assigned to each article.  You will have to extract the topics of each article from the XML.  For example: \n",
    "&lt;code code=\"C18\"&gt; refers to the topic \"OWNERSHIP CHANGES\" (like a corporate buyout).\n",
    "\n",
    "You should pre-process the XML to extract the words from the article: the &lt;headline&gt; element and the &lt;text&gt;.  You should not need any other parts of the article."
   ]
  },
  {
   "cell_type": "markdown",
   "metadata": {},
   "source": [
    "## Extracting the data"
   ]
  },
  {
   "cell_type": "code",
   "execution_count": 4,
   "outputs": [
    {
     "name": "stdout",
     "output_type": "stream",
     "text": [
      "extracting train/REUTERS_CORPUS_2/19970401.zip\n",
      "5\n",
      "(5, 126)\n",
      "After a huge volume of trade in Bre-X Minerals Ltd caused the Toronto Stock Exchange's computer trading system to crash for the second time in as many weeks, the TSE said on Tuesday it will change the way it deals with the troubled Calgary exploration firm. TSE President Rowland Fleming called a news conference on Tuesday to inform the market that the exchange will no longer halt trading in Bre-X's stock until it first sees the information on which the company bases its halt request. Traditionally the TSE has halted trading of a stock at the request of a company pending the release of material news. Fleming charged that Bre-X took advantage of the policy to have its stock halted and then failed to report material news. \"I think they have asked us to stretch the reasonable, the expected, approach to trading halts and the release of material information,\" Fleming told reporters. He assured investors that Bre-X shares would resume trading when the stock market opens at 0930 EST/1430 GMT on Wednesday. The TSE's antiquated computer trading system collapsed in mid-morning trade on Tuesday, crippled by a crushing volume of trades backlogged for Bre-X. It was the first time Bre-X's shares had traded since Thursday, when the system crashed twice, forcing the exchange to close 15 minutes early. On Tuesday, The computer trading system was down for almost an hour after crashing within minutes of a re-opening in deals on Bre-X's stock at 1030 EST/1530 GMT. A total of 7.78 million Bre-X shares changed hands before the crash. Trading in Bre-X's shares were halted all day on Monday. Fleming said the TSE halted trade of Bre-X shortly before the exchange opened on Monday at the request of the company, which had promised to release material information \"shortly\". He said two subsequent releases contained insufficient significant information to justify a trading halt. \"I think that it is unreasonable to extend trading halts on the anticipation of information that may be released at some point in the future and that may be material,\" said Fleming. He denied suggestions that the system collapse had hurt Toronto's credibility as an international market. \"I don't think this single incident can be characterized as any kind of a blemish. I don't know of an exchange in the world that hasn't had a technology problem from time to time.\" The exchange's 20-year-old CATS (Computer Assisted Trading System) is due to be replaced later this year by a system driven by TOREX trading engines supplied by the Paris Bourse.\n",
      "[0 0 0 0 0 0 0 0 0 0 0 0 0 1 1 1 0 0 1 0 0 0 0 0 0 0 0 0 0 0 0 0 0 0 0 0 0\n",
      " 0 0 0 0 0 0 0 1 0 0 0 0 0 0 0 0 0 0 0 0 0 0 0 0 0 0 0 0 0 0 0 0 0 0 0 0 0\n",
      " 0 0 0 0 0 0 0 0 0 0 0 0 0 0 0 0 0 0 0 0 0 0 0 0 0 0 0 0 0 0 0 0 0 0 0 0 0\n",
      " 0 0 0 1 0 0 0 0 0 0 0 0 1 0 0]\n"
     ]
    }
   ],
   "source": [
    "# data.extract_data(extraction_dir=\"train\", data_dir=\"data\", data_zip_name=\"reuters-training-corpus.zip\")\n",
    "\n",
    "try:\n",
    "    with open(\"train/docs.pkl\", \"rb\") as f:\n",
    "        docs = pickle.load(f)\n",
    "    labels = np.load(\"train/labels.npy\")\n",
    "except:\n",
    "    docs, labels = data.get_docs_labels(\"train/REUTERS_CORPUS_2\")\n",
    "    with open(\"train/docs.pkl\", \"wb\") as f:\n",
    "        pickle.dump(docs, f)\n",
    "    np.save(\"train/labels.npy\", labels)\n",
    "\n",
    "print(len(docs))\n",
    "print(labels.shape)\n",
    "\n",
    "print(docs[-2])\n",
    "print(labels[-2])"
   ],
   "metadata": {
    "collapsed": false,
    "pycharm": {
     "name": "#%%\n"
    }
   }
  },
  {
   "cell_type": "markdown",
   "source": [
    "Preprocessing the data"
   ],
   "metadata": {
    "collapsed": false,
    "pycharm": {
     "name": "#%% md\n"
    }
   }
  },
  {
   "cell_type": "code",
   "execution_count": 5,
   "outputs": [
    {
     "name": "stdout",
     "output_type": "stream",
     "text": [
      "after a huge volume of trade in bre x minerals ltd cause the toronto stock exchange 's computer trading system to crash for the second time in as many week the tse say on tuesday -pron- will change the way -pron- deal with the troubled calgary exploration firm tse president rowland fleming call a news conference on tuesday to inform the market that the exchange will no longer halt trading in bre x 's stock until -pron- first see the information on which the company base -pron- halt request traditionally the tse have halt trading of a stock at the request of a company pende the release of material news fleming charge that bre x take advantage of the policy to have -pron- stock halt and then fail to report material news -pron- think -pron- have ask -pron- to stretch the reasonable the expect approach to trading halt and the release of material information fleming tell reporter -pron- assure investor that bre x share would resume trade when the stock market open at -num- est/1430 gmt on wednesday the tse 's antiquated computer trading system collapse in mid morning trade on tuesday cripple by a crush volume of trade backlogge for bre x. -pron- be the first time bre x 's share have trade since thursday when the system crash twice force the exchange to close -num- minute early on tuesday the computer trading system be down for almost an hour after crash within minute of a re opening in deal on bre x 's stock at -num- est/1530 gmt a total of -num- -num- bre x share change hand before the crash trading in bre x 's share be halt all day on monday fleming say the tse halt trade of bre x shortly before the exchange open on monday at the request of the company which have promise to release material information shortly -pron- say -num- subsequent release contain insufficient significant information to justify a trading halt -pron- think that -pron- be unreasonable to extend trade halt on the anticipation of information that may be release at some point in the future and that may be material say fleming -pron- deny suggestion that the system collapse have hurt toronto 's credibility as an international market -pron- do not think this single incident can be characterize as any kind of a blemish -pron- do not know of an exchange in the world that have not have a technology problem from time to time the exchange 's 20-year old cats computer assisted trading system be due to be replace later this year by a system drive by torex trading engine supply by the paris bourse\n"
     ]
    }
   ],
   "source": [
    "try:\n",
    "    with open(\"train/preprocessed_docs.pkl\", \"rb\") as f:\n",
    "        preprocessed_docs = pickle.load(f)\n",
    "except:\n",
    "    preprocessed_docs = preprocessing.preprocess_corpus(docs)\n",
    "    with open(\"train/preprocessed_docs.pkl\", \"wb\") as f:\n",
    "        pickle.dump(preprocessed_docs, f)\n",
    "\n",
    "print(preprocessed_docs[-2])"
   ],
   "metadata": {
    "collapsed": false,
    "pycharm": {
     "name": "#%%\n"
    }
   }
  },
  {
   "cell_type": "markdown",
   "metadata": {},
   "source": [
    "## Save your model\n",
    "\n",
    "It might be useful to save your model if you want to continue your work later, or use it for inference later."
   ]
  },
  {
   "cell_type": "code",
   "execution_count": 6,
   "metadata": {},
   "outputs": [],
   "source": [
    "# torch.save(model.state_dict(), 'model.pkl')"
   ]
  },
  {
   "cell_type": "markdown",
   "metadata": {},
   "source": [
    "The model file should now be visible in the \"Home\" screen of the jupyter notebooks interface.  There you should be able to select it and press \"download\".\n",
    "\n",
    "## Download test set\n",
    "\n",
    "The testset will be made available during the last week before the deadline and can be downloaded in the same way as the training set.\n",
    "\n",
    "## Predict for test set\n",
    "\n",
    "You will be asked to return your predictions a separate test set.  These should be returned as a matrix with one row for each test article.  Each row contains a binary prediction for each label, 1 if it's present in the image, and 0 if not. The order of the labels is the order of the label (topic) codes.\n",
    "\n",
    "An example row could like like this if your system predicts the presense of the second and fourth topic:\n",
    "\n",
    "    0 1 0 1 0 0 0 0 0 0 0 0 0 0 ...\n",
    "    \n",
    "If you have the matrix prepared in `y` you can use the following function to save it to a text file."
   ]
  },
  {
   "cell_type": "code",
   "execution_count": 7,
   "metadata": {},
   "outputs": [],
   "source": [
    "# np.savetxt('results.txt', y, fmt='%d')"
   ]
  }
 ],
 "metadata": {
  "kernelspec": {
   "display_name": "Python 3",
   "language": "python",
   "name": "python3"
  },
  "language_info": {
   "codemirror_mode": {
    "name": "ipython",
    "version": 3
   },
   "file_extension": ".py",
   "mimetype": "text/x-python",
   "name": "python",
   "nbconvert_exporter": "python",
   "pygments_lexer": "ipython3",
   "version": "3.6.8"
  }
 },
 "nbformat": 4,
 "nbformat_minor": 2
}