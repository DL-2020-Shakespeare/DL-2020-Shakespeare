{
 "cells": [
  {
   "cell_type": "code",
   "execution_count": 1,
   "metadata": {
    "pycharm": {
     "name": "#%%\n"
    }
   },
   "outputs": [],
   "source": [
    "import os\n",
    "import pickle\n",
    "import random as rn\n",
    "import warnings\n",
    "from multiprocessing import cpu_count\n",
    "\n",
    "warnings.filterwarnings(\"ignore\")\n",
    "\n",
    "import numpy as np\n",
    "import pandas as pd\n",
    "import tensorflow as tf\n",
    "from gensim.models import Word2Vec\n",
    "from IPython.display import display\n",
    "from sklearn.metrics import accuracy_score, f1_score, hamming_loss, average_precision_score, \\\n",
    "    ndcg_score, label_ranking_average_precision_score\n",
    "from sklearn.model_selection import train_test_split, KFold\n",
    "from tensorflow.keras.callbacks import EarlyStopping\n",
    "from tensorflow.keras.initializers import Constant, GlorotUniform\n",
    "from tensorflow.keras.layers import Dense, Dropout, Activation, Embedding, Conv1D, \\\n",
    "    GlobalMaxPooling1D, SpatialDropout1D, LSTM, GRU, Flatten, MaxPooling1D, \\\n",
    "    BatchNormalization, ReLU\n",
    "from tensorflow.keras.models import Sequential\n",
    "from tensorflow.keras.preprocessing.text import Tokenizer\n",
    "from tensorflow.keras.preprocessing.sequence import pad_sequences\n",
    "\n",
    "import data\n",
    "import preprocessing\n",
    "\n",
    "seed = 42\n",
    "\n",
    "def reset_seed():\n",
    "    os.environ[\"PYTHONHASHSEED\"] = str(seed)\n",
    "    os.environ[\"TF_DETERMINISTIC_OPS\"] = \"1\"\n",
    "    np.random.seed(seed)\n",
    "    rn.seed(seed)\n",
    "    tf.random.set_seed(seed)"
   ]
  },
  {
   "cell_type": "markdown",
   "metadata": {
    "pycharm": {
     "name": "#%% md\n"
    }
   },
   "source": [
    "## Extracting the data"
   ]
  },
  {
   "cell_type": "code",
   "execution_count": 2,
   "metadata": {
    "pycharm": {
     "name": "#%%\n"
    }
   },
   "outputs": [
    {
     "name": "stdout",
     "output_type": "stream",
     "text": [
      "(299773,)\n",
      "(299773, 126)\n",
      "Toronto stocks end higher after volatile session. CHANGE\t\t\t\t    CHANGE TSE\t  5900.37    +50.15   HI 5900.37\t    LO  5840.29 DJI\t  6611.05    +27.57   GOLD (LONDON)   US$350.00 +1.90 FTSE100    4248.10    -64.80   GOLD (NY-COMEX) US$354.80 +0.70 NIKKEI    17869.59   -133.81   LME CASH NICKEL US$7659   +99.0 CANDLR\t1.3883\t\t LME CASH ALUM   US$1602.0  -4.0 CAN 30-YR   107.41     -0.15   BRENT CRUDE     US$19.09  -0.27 --------------------MARKET COMMENT---------------------------- * Toronto stocks ended higher on Tuesday, buoyed by strength in golds and banking * Computer problems due to heavy trading in Bre-X Minerals hampered session * 84 million shares traded Toronto's key stock index ended higher on Tuesday as the saga of Bre-X Minerals Ltd and its Indonesian gold find continued to dominate Canada's biggest stock market. The TSE 300 Index climbed 50.15 points to close at 5900.37 in heavy turnover of 84.07 million shares worth C$1.4 billion. But the overall market was mixed with declining issues narrowly outpacing advances 476 to 464. 298 issues were flat. Frantic trading in Bre-X collapsed the TSE's computer trading system earlier in the day, forcing the exchange to halt trading in the stock before the market closed. Shares in the Calgary-based gold prospector were halted for a statement by the company this morning. When it resumed, a whopping 7.7 million shares changed hands in the first 22 minutes of trading before the system crashed. Bre-X closed up 1.35 at 3.85. It was the first time Bre-X traded since investors lopped nearly C$3 billion off its stock market value last Thursday. TSE officials said the trading problems were due to old technology which will be replaced. On the Montreal Exchange, Bre-X closed up 0.81 at 3.50 on 9.8 million shares. Analysts predicted more volatility for Bre-X shares this week. \"The question of what Bre-X will release over the next few days will be important to the market,\" said Josef Schachter, of Schachter Asset Management Inc. The gold sector rose nearly 136 points, leading 12 of 14 sub-indices higher. Other strong groups included financial services, consumer products, energy and transportation. The TSE posted minor losses in forestry and real estate. --- HOT STOCKS --- * Among bank shares, Bank of Nova Scotia rose 0.65 to 51.50 on 2.1 million shares, while Canadian Imperial Bank of Commerce added 0.50 to 31.80 on 2.1 million shares. ((Reuters Toronto Bureau (416) 941-8100))\n",
      "[0 0 0 0 0 0 0 0 0 0 0 0 0 0 0 0 0 0 0 0 0 0 0 0 0 0 0 0 0 0 0 0 0 0 0 0 0\n",
      " 0 0 0 0 0 0 0 0 0 0 0 0 0 0 0 0 0 0 0 0 0 0 0 0 0 0 0 0 0 0 0 0 0 0 0 0 0\n",
      " 0 0 0 0 0 0 0 0 0 0 0 0 0 0 0 0 0 0 0 0 0 0 0 0 0 0 0 0 0 0 0 0 0 0 0 0 0\n",
      " 0 0 0 1 0 0 0 0 0 0 0 0 1 0 0]\n"
     ]
    }
   ],
   "source": [
    "# data.extract_data(extraction_dir=\"train\", data_dir=\"data\", data_zip_name=\"reuters-training-corpus.zip\")\n",
    "\n",
    "df = pd.read_pickle(\"train/data.pkl\")\n",
    "\n",
    "# df = data.get_docs_labels(\"train/REUTERS_CORPUS_2\")\n",
    "# df.to_pickle(\"train/data.pkl\")\n",
    "\n",
    "original_docs = df[\"doc\"].values\n",
    "labels = np.array(df[\"labels\"].tolist())\n",
    "n_labels = len(data.CODEMAP)\n",
    "\n",
    "print(original_docs.shape)\n",
    "print(labels.shape)\n",
    "print(original_docs[2])\n",
    "print(labels[2])"
   ]
  },
  {
   "cell_type": "markdown",
   "metadata": {
    "pycharm": {
     "name": "#%% md\n"
    }
   },
   "source": [
    "## Preprocessing the documents"
   ]
  },
  {
   "cell_type": "code",
   "execution_count": 3,
   "metadata": {
    "pycharm": {
     "name": "#%%\n"
    }
   },
   "outputs": [
    {
     "name": "stdout",
     "output_type": "stream",
     "text": [
      "toronto stock end high volatile session change change tse 5900.37 +50.15 hi 5900.37 lo 5840.29 dji 6611.05 +27.57 gold london us$ 350.00 +1.90 ftse100 4248.10 -64.80 gold ny comex us$ 354.80 +0.70 nikkei 17869.59 -133.81 lme cash nickel us$ 7659 +99.0 candlr 1.3883 lme cash alum us$ 1602.0 -4.0 30-yr 107.41 -0.15 brent crude us$ 19.09 -0.27 --------------------market comment---------------------------- toronto stock end higher tuesday buoy strength gold banking computer problem heavy trading bre x minerals hamper session 84 million share trade toronto key stock index end higher tuesday saga bre x minerals ltd indonesian gold find continue dominate canada big stock market tse 300 index climb 50.15 point close 5900.37 heavy turnover 84.07 million share worth c$ 1.4 billion overall market mix decline issue narrowly outpace advance 476 464 298 issue flat frantic trading bre x collapse tse computer trading system earlier day force exchange halt trading stock market close share calgary base gold prospector halt statement company morning resume whopping 7.7 million share change hand 22 minute trading system crash bre x close 1.35 3.85 time bre x trade investor lop nearly c$ 3 billion stock market value thursday tse official say trading problem old technology replace montreal exchange bre x close 0.81 3.50 9.8 million share analyst predict volatility bre x share week question bre x release day important market say josef schachter schachter asset management inc. gold sector rise nearly 136 point lead 12 14 sub index high strong group include financial service consumer product energy transportation tse post minor loss forestry real estate hot stock bank share bank nova scotia rise 0.65 51.50 2.1 million share canadian imperial bank commerce add 0.50 31.80 2.1 million share reuters toronto bureau 416 941 8100\n"
     ]
    }
   ],
   "source": [
    "with open(\"train/preprocessed_docs_lemmatized_no_sw.pkl\", \"rb\") as f:\n",
    "    preprocessed_docs = pickle.load(f)\n",
    "\n",
    "# preprocessed_docs = preprocessing.preprocess_corpus(original_docs)\n",
    "# with open(\"train/preprocessed_docs.pkl\", \"wb\") as f:\n",
    "#     pickle.dump(preprocessed_docs, f)\n",
    "\n",
    "print(preprocessed_docs[2])"
   ]
  },
  {
   "cell_type": "markdown",
   "metadata": {},
   "source": [
    "## Representing the documents"
   ]
  },
  {
   "cell_type": "code",
   "execution_count": 4,
   "metadata": {},
   "outputs": [],
   "source": [
    "docs = preprocessed_docs\n",
    "n_vocabulary = 5000"
   ]
  },
  {
   "cell_type": "markdown",
   "metadata": {},
   "source": [
    "### As token index sequences"
   ]
  },
  {
   "cell_type": "code",
   "execution_count": 5,
   "metadata": {},
   "outputs": [],
   "source": [
    "n_sequence = 64"
   ]
  },
  {
   "cell_type": "code",
   "execution_count": 6,
   "metadata": {
    "pycharm": {
     "name": "#%%\n"
    }
   },
   "outputs": [
    {
     "name": "stdout",
     "output_type": "stream",
     "text": [
      "5000\n"
     ]
    }
   ],
   "source": [
    "tokenizer = Tokenizer(num_words=n_vocabulary, filters=\"\")\n",
    "tokenizer.fit_on_texts(docs)\n",
    "word_idx = tokenizer.word_index\n",
    "\n",
    "if n_vocabulary is None:\n",
    "    n_vocabulary = len(word_idx)\n",
    "\n",
    "print(n_vocabulary)"
   ]
  },
  {
   "cell_type": "code",
   "execution_count": 7,
   "metadata": {
    "pycharm": {
     "name": "#%%\n"
    }
   },
   "outputs": [
    {
     "name": "stdout",
     "output_type": "stream",
     "text": [
      "64\n",
      "(299773, 64)\n",
      "[1610   24   17   19 2090  436  114  114 4443  240  141  492  240 2564\n",
      " 2406  492 2264 1386  263 1863  492 1386  263  492  914  407  492 1610\n",
      "   24   17  700   37 3599  827  240  567  674  327  617  162 2578 1520\n",
      " 4945 4521  436 3271    5    7   20 1610  328   24   75   17  700   37\n",
      " 2578 1520 4945  151 1456  240  314  112]\n"
     ]
    }
   ],
   "source": [
    "if n_sequence is None:\n",
    "    n_sequence = max([len(doc) for doc in docs])\n",
    "\n",
    "sequences = tokenizer.texts_to_sequences(docs)\n",
    "sequences = pad_sequences(sequences, maxlen=n_sequence, padding=\"post\", truncating=\"post\")\n",
    "\n",
    "print(n_sequence)\n",
    "print(sequences.shape)\n",
    "print(sequences[2])"
   ]
  },
  {
   "cell_type": "markdown",
   "metadata": {},
   "source": [
    "### As document-term matrix"
   ]
  },
  {
   "cell_type": "code",
   "execution_count": 8,
   "metadata": {},
   "outputs": [],
   "source": [
    "# doc_matrix = tokenizer.texts_to_matrix(docs, mode=\"tfidf\")\n",
    "\n",
    "# print(doc_matrix.shape)\n",
    "# print(doc_matrix[2])"
   ]
  },
  {
   "cell_type": "markdown",
   "metadata": {},
   "source": [
    "## Word embeddings"
   ]
  },
  {
   "cell_type": "code",
   "execution_count": 9,
   "metadata": {
    "pycharm": {
     "name": "#%%\n"
    }
   },
   "outputs": [],
   "source": [
    "n_embedding = 256"
   ]
  },
  {
   "cell_type": "markdown",
   "metadata": {},
   "source": [
    "### Word2Vec"
   ]
  },
  {
   "cell_type": "code",
   "execution_count": 10,
   "metadata": {
    "pycharm": {
     "name": "#%%\n"
    }
   },
   "outputs": [
    {
     "name": "stdout",
     "output_type": "stream",
     "text": [
      "648463\n"
     ]
    }
   ],
   "source": [
    "reset_seed()\n",
    "\n",
    "w2v_model = Word2Vec(sentences=[s.split() for s in docs],\n",
    "                     size=n_embedding, \n",
    "                     window=5,\n",
    "                     sg=1,\n",
    "                     workers=cpu_count(),\n",
    "                     min_count=1,\n",
    "                     seed=seed)\n",
    "\n",
    "n_vocabulary_w2v = len(list(w2v_model.wv.vocab))\n",
    "print(n_vocabulary_w2v)"
   ]
  },
  {
   "cell_type": "code",
   "execution_count": 11,
   "metadata": {
    "pycharm": {
     "name": "#%%\n"
    }
   },
   "outputs": [
    {
     "name": "stdout",
     "output_type": "stream",
     "text": [
      "(5000, 256)\n",
      "[-0.14912011  0.13665587  0.05122021  0.07013296  0.101818    0.08567334\n",
      "  0.4151845  -0.31435812  0.11544427  0.09750728 -0.1602881   0.15113266\n",
      "  0.05161325  0.19496819  0.0132395   0.01286666  0.27655867  0.19552585\n",
      "  0.16734287 -0.1353261  -0.17791864  0.21162818  0.29495797  0.16744655\n",
      " -0.15360077  0.08312055  0.16245468 -0.14295822 -0.36123124  0.27429292\n",
      " -0.26897025 -0.11849575  0.11570246  0.57192433 -0.12090806  0.10910644\n",
      "  0.00539365  0.15297501 -0.46201652 -0.00876483 -0.3017444  -0.06297902\n",
      "  0.15551224 -0.05975299  0.09332521  0.23662423 -0.04269198  0.12758307\n",
      "  0.00950022  0.15109862  0.23807943 -0.03178466  0.02186226  0.16498114\n",
      " -0.10696839 -0.12258683  0.07071263 -0.18253693  0.12191405  0.00602081\n",
      "  0.25110754  0.25118297 -0.18992637  0.2375634   0.15849836  0.2447055\n",
      "  0.25883684  0.02937872 -0.04991371  0.23424512 -0.12877233 -0.25999856\n",
      "  0.25631836 -0.03028584 -0.02272467 -0.02565706 -0.06365404  0.17422879\n",
      " -0.20860872 -0.17599507 -0.18425097 -0.27701449  0.1871814   0.01566445\n",
      " -0.10700784  0.01655087 -0.08834456  0.00451906 -0.35027257  0.30440941\n",
      "  0.25754273  0.55893648  0.05968491 -0.26599929 -0.09389708  0.06589081\n",
      " -0.40259922 -0.47625068 -0.42928049 -0.54327881 -0.07263416  0.02631482\n",
      " -0.37114206  0.15523326 -0.16835593  0.19913481 -0.07407552 -0.0427976\n",
      " -0.16252959  0.24136855 -0.17228541 -0.08383276  0.17600444 -0.06382295\n",
      "  0.20882036  0.12845574  0.16271193  0.3153629   0.07384819  0.34399158\n",
      " -0.02724392  0.17134407 -0.03801552 -0.16187118  0.35911542  0.00528004\n",
      " -0.38300622  0.12633932  0.19242255 -0.33310592 -0.22145471 -0.03779091\n",
      " -0.02814322  0.07530454 -0.13291174  0.25751925 -0.08735206 -0.24649583\n",
      "  0.20839402  0.08862115  0.03565365  0.03677051 -0.06009285  0.03150957\n",
      " -0.32440913  0.34100282 -0.20567124  0.0869704  -0.2544156   0.05230719\n",
      "  0.05386558  0.02506894  0.06335311 -0.05406734  0.19247714 -0.23548135\n",
      "  0.47621    -0.18936743 -0.13957004  0.17662512  0.02351941  0.07318041\n",
      " -0.1786366   0.14432247  0.05460098  0.1159853  -0.29887167  0.17200363\n",
      "  0.00425845  0.32248253  0.09151337  0.13057974 -0.00822708  0.40042558\n",
      " -0.19037385  0.07128255 -0.18813096 -0.04974796 -0.36423013  0.05727504\n",
      " -0.1308962  -0.24021046  0.09442577  0.13141768  0.05241323  0.00430347\n",
      " -0.25715989  0.24588679 -0.26965386 -0.36920205 -0.02070776  0.26486093\n",
      " -0.0438326   0.00143114 -0.14769669  0.08998293 -0.05605189 -0.1320904\n",
      "  0.15439789  0.26744756 -0.04262066  0.01723354  0.29140809  0.29657885\n",
      " -0.04510017 -0.32499802  0.03525325  0.18265818 -0.13004927 -0.15230782\n",
      "  0.21616323  0.28056523  0.08064578 -0.24734026 -0.04651528  0.12723954\n",
      "  0.17414047  0.02707186 -0.22414455 -0.32538405  0.57258564 -0.19595134\n",
      " -0.08925655  0.08755975 -0.28956667  0.49408597  0.38162148 -0.23153545\n",
      "  0.34716499  0.39178574 -0.12670875 -0.04720828 -0.28643009 -0.09544738\n",
      " -0.06421745  0.02775459  0.2427673  -0.03068165  0.09466243  0.12736927\n",
      "  0.04070625 -0.22352572 -0.13590036 -0.20644586 -0.32825893  0.09652276\n",
      "  0.25878841 -0.16168858  0.20060904  0.14869209  0.18071084 -0.04606815\n",
      " -0.03330322 -0.0150604  -0.0008123   0.31566334]\n"
     ]
    }
   ],
   "source": [
    "embedding_matrix = np.zeros((n_vocabulary, n_embedding))\n",
    "for token, i in word_idx.items():\n",
    "    if i >= n_vocabulary:\n",
    "        continue\n",
    "    if token in w2v_model:\n",
    "        embedding_matrix[i] = w2v_model[token]\n",
    "    else:\n",
    "        embedding_matrix[i] = np.zeros(n_embedding)\n",
    "\n",
    "print(embedding_matrix.shape)\n",
    "print(embedding_matrix[1])"
   ]
  },
  {
   "cell_type": "markdown",
   "metadata": {},
   "source": [
    "## Defining the NN model"
   ]
  },
  {
   "cell_type": "code",
   "execution_count": 12,
   "metadata": {
    "pycharm": {
     "name": "#%%\n"
    }
   },
   "outputs": [],
   "source": [
    "def init_model():\n",
    "    model = Sequential()\n",
    "    \n",
    "#     model.add(Embedding(input_dim=n_vocabulary, output_dim=n_embedding, input_length=n_sequence))\n",
    "    model.add(Embedding(\n",
    "        input_dim=n_vocabulary,\n",
    "        output_dim=n_embedding,\n",
    "        embeddings_initializer=Constant(embedding_matrix),\n",
    "        input_length=n_sequence,\n",
    "        trainable=False\n",
    "    ))\n",
    "    \n",
    "#     model.add(GRU(128, dropout=.2))\n",
    "\n",
    "    model.add(Dropout(.25))\n",
    "    model.add(Conv1D(64, 5, activation=\"relu\"))\n",
    "    model.add(Dropout(.25))\n",
    "    model.add(Conv1D(128, 5, activation=\"relu\"))\n",
    "    model.add(Dropout(.25))\n",
    "    model.add(Flatten())\n",
    "    model.add(Dense(128))\n",
    "    model.add(BatchNormalization())\n",
    "    model.add(ReLU())\n",
    "    model.add(Dropout(.25))\n",
    "    model.add(Dense(128))\n",
    "    model.add(BatchNormalization())\n",
    "    model.add(ReLU())\n",
    "    model.add(Dropout(.25))\n",
    "\n",
    "#     model.add(Dropout(.25))\n",
    "#     model.add(Conv1D(64, 5, activation=\"relu\"))\n",
    "#     model.add(Dropout(.25))\n",
    "#     model.add(Conv1D(128, 5, activation=\"relu\"))\n",
    "#     model.add(Dropout(.25))\n",
    "#     model.add(Flatten())\n",
    "#     model.add(Dense(128))\n",
    "#     model.add(BatchNormalization())\n",
    "#     model.add(ReLU())\n",
    "#     model.add(Dropout(.25))\n",
    "#     model.add(Dense(128))\n",
    "#     model.add(BatchNormalization())\n",
    "#     model.add(ReLU())\n",
    "#     model.add(Dropout(.25))\n",
    "\n",
    "#     model.add(Bidirectional(LSTM(256, return_sequences=True)))\n",
    "#     model.add(Bidirectional(LSTM(128)))\n",
    "#     model.add(Dense(128, activation=\"relu\"))\n",
    "#     model.add(Dropout(.5))\n",
    "\n",
    "#     model.add(Dense(512, activation=\"relu\", input_shape=(n_vocabulary,)))\n",
    "#     model.add(Dropout(.5))\n",
    "\n",
    "#     model.add(Conv1D(100, 4, activation=\"relu\"))\n",
    "#     model.add(MaxPooling1D(pool_size=3))\n",
    "#     model.add(Conv1D(100, 2, activation=\"relu\"))\n",
    "#     model.add(Dropout(.5))\n",
    "#     model.add(Flatten())\n",
    "#     model.add(Dense(300, activation=\"relu\"))\n",
    "    \n",
    "    model.add(Dense(n_labels, activation=\"sigmoid\"))\n",
    "    model.compile(loss=\"binary_crossentropy\", optimizer=\"adam\", metrics=[\"accuracy\"])\n",
    "    \n",
    "#     model.summary()\n",
    "    return model"
   ]
  },
  {
   "cell_type": "markdown",
   "metadata": {},
   "source": [
    "## Training and cross-evaluating the model"
   ]
  },
  {
   "cell_type": "code",
   "execution_count": 13,
   "metadata": {
    "pycharm": {
     "name": "#%%\n"
    }
   },
   "outputs": [
    {
     "name": "stdout",
     "output_type": "stream",
     "text": [
      "Epoch 1/100\n",
      "225/225 [==============================] - 1s 4ms/step - loss: 0.1611 - accuracy: 0.1301 - val_loss: 0.0753 - val_accuracy: 0.1575\n",
      "Epoch 2/100\n",
      "225/225 [==============================] - 1s 3ms/step - loss: 0.0600 - accuracy: 0.1956 - val_loss: 0.0538 - val_accuracy: 0.2400\n",
      "Epoch 3/100\n",
      "225/225 [==============================] - 2s 9ms/step - loss: 0.0490 - accuracy: 0.2239 - val_loss: 0.0429 - val_accuracy: 0.2412\n",
      "Epoch 4/100\n",
      "225/225 [==============================] - 1s 3ms/step - loss: 0.0437 - accuracy: 0.2378 - val_loss: 0.0389 - val_accuracy: 0.2788\n",
      "Epoch 5/100\n",
      "225/225 [==============================] - 1s 3ms/step - loss: 0.0401 - accuracy: 0.2489 - val_loss: 0.0389 - val_accuracy: 0.2962\n",
      "Epoch 6/100\n",
      "225/225 [==============================] - 1s 3ms/step - loss: 0.0371 - accuracy: 0.2619 - val_loss: 0.0371 - val_accuracy: 0.2775\n",
      "Epoch 7/100\n",
      "225/225 [==============================] - 1s 3ms/step - loss: 0.0347 - accuracy: 0.2726 - val_loss: 0.0351 - val_accuracy: 0.3063\n",
      "Epoch 8/100\n",
      "225/225 [==============================] - 1s 3ms/step - loss: 0.0330 - accuracy: 0.2817 - val_loss: 0.0341 - val_accuracy: 0.2850\n",
      "Epoch 9/100\n",
      "225/225 [==============================] - 1s 3ms/step - loss: 0.0314 - accuracy: 0.2836 - val_loss: 0.0345 - val_accuracy: 0.3137\n",
      "Epoch 10/100\n",
      "225/225 [==============================] - 1s 3ms/step - loss: 0.0300 - accuracy: 0.2937 - val_loss: 0.0320 - val_accuracy: 0.3325\n",
      "Epoch 11/100\n",
      "225/225 [==============================] - 1s 3ms/step - loss: 0.0284 - accuracy: 0.3068 - val_loss: 0.0316 - val_accuracy: 0.3400\n",
      "Epoch 12/100\n",
      "225/225 [==============================] - 1s 3ms/step - loss: 0.0270 - accuracy: 0.3063 - val_loss: 0.0315 - val_accuracy: 0.3150\n",
      "Epoch 13/100\n",
      "225/225 [==============================] - 1s 3ms/step - loss: 0.0258 - accuracy: 0.3199 - val_loss: 0.0321 - val_accuracy: 0.3587\n",
      "Epoch 14/100\n",
      "225/225 [==============================] - 1s 3ms/step - loss: 0.0253 - accuracy: 0.3162 - val_loss: 0.0315 - val_accuracy: 0.3875\n",
      "Epoch 15/100\n",
      "225/225 [==============================] - 1s 3ms/step - loss: 0.0245 - accuracy: 0.3175 - val_loss: 0.0337 - val_accuracy: 0.3575\n",
      "Epoch 16/100\n",
      "225/225 [==============================] - 1s 3ms/step - loss: 0.0235 - accuracy: 0.3140 - val_loss: 0.0309 - val_accuracy: 0.3537\n",
      "Epoch 17/100\n",
      "225/225 [==============================] - 1s 3ms/step - loss: 0.0232 - accuracy: 0.3135 - val_loss: 0.0313 - val_accuracy: 0.3963\n",
      "Epoch 18/100\n",
      "225/225 [==============================] - 1s 3ms/step - loss: 0.0221 - accuracy: 0.3222 - val_loss: 0.0344 - val_accuracy: 0.3762\n",
      "Epoch 19/100\n",
      "220/225 [============================>.] - ETA: 0s - loss: 0.0215 - accuracy: 0.3186Restoring model weights from the end of the best epoch.\n",
      "225/225 [==============================] - 1s 3ms/step - loss: 0.0214 - accuracy: 0.3190 - val_loss: 0.0311 - val_accuracy: 0.3738\n",
      "Epoch 00019: early stopping\n",
      "63/63 [==============================] - 0s 2ms/step\n",
      "Epoch 1/100\n",
      "225/225 [==============================] - 1s 4ms/step - loss: 0.1647 - accuracy: 0.1331 - val_loss: 0.0719 - val_accuracy: 0.1650\n",
      "Epoch 2/100\n",
      "225/225 [==============================] - 1s 3ms/step - loss: 0.0608 - accuracy: 0.1956 - val_loss: 0.0525 - val_accuracy: 0.1937\n",
      "Epoch 3/100\n",
      "225/225 [==============================] - 1s 3ms/step - loss: 0.0498 - accuracy: 0.2336 - val_loss: 0.0460 - val_accuracy: 0.2512\n",
      "Epoch 4/100\n",
      "225/225 [==============================] - 1s 3ms/step - loss: 0.0444 - accuracy: 0.2469 - val_loss: 0.0415 - val_accuracy: 0.2512\n",
      "Epoch 5/100\n",
      "225/225 [==============================] - 1s 3ms/step - loss: 0.0400 - accuracy: 0.2592 - val_loss: 0.0409 - val_accuracy: 0.3150\n",
      "Epoch 6/100\n",
      "225/225 [==============================] - 1s 3ms/step - loss: 0.0376 - accuracy: 0.2601 - val_loss: 0.0499 - val_accuracy: 0.2587\n",
      "Epoch 7/100\n",
      "225/225 [==============================] - 1s 3ms/step - loss: 0.0351 - accuracy: 0.2696 - val_loss: 0.0353 - val_accuracy: 0.3162\n",
      "Epoch 8/100\n",
      "225/225 [==============================] - 1s 3ms/step - loss: 0.0330 - accuracy: 0.2844 - val_loss: 0.0360 - val_accuracy: 0.3025\n",
      "Epoch 9/100\n",
      "225/225 [==============================] - 1s 3ms/step - loss: 0.0315 - accuracy: 0.2807 - val_loss: 0.0347 - val_accuracy: 0.3113\n",
      "Epoch 10/100\n",
      "225/225 [==============================] - 1s 3ms/step - loss: 0.0299 - accuracy: 0.2864 - val_loss: 0.0335 - val_accuracy: 0.3100\n",
      "Epoch 11/100\n",
      "225/225 [==============================] - 1s 3ms/step - loss: 0.0288 - accuracy: 0.2885 - val_loss: 0.0335 - val_accuracy: 0.3500\n",
      "Epoch 12/100\n",
      "225/225 [==============================] - 1s 3ms/step - loss: 0.0275 - accuracy: 0.3060 - val_loss: 0.0313 - val_accuracy: 0.3725\n",
      "Epoch 13/100\n",
      "225/225 [==============================] - 1s 3ms/step - loss: 0.0264 - accuracy: 0.2968 - val_loss: 0.0312 - val_accuracy: 0.3425\n",
      "Epoch 14/100\n",
      "225/225 [==============================] - 1s 3ms/step - loss: 0.0253 - accuracy: 0.3028 - val_loss: 0.0314 - val_accuracy: 0.3212\n",
      "Epoch 15/100\n",
      "225/225 [==============================] - 1s 3ms/step - loss: 0.0247 - accuracy: 0.3044 - val_loss: 0.0316 - val_accuracy: 0.3688\n",
      "Epoch 16/100\n",
      "217/225 [===========================>..] - ETA: 0s - loss: 0.0235 - accuracy: 0.3201Restoring model weights from the end of the best epoch.\n",
      "225/225 [==============================] - 1s 3ms/step - loss: 0.0236 - accuracy: 0.3181 - val_loss: 0.0320 - val_accuracy: 0.3512\n",
      "Epoch 00016: early stopping\n",
      "63/63 [==============================] - 0s 1ms/step\n",
      "Epoch 1/100\n",
      "225/225 [==============================] - 1s 4ms/step - loss: 0.1579 - accuracy: 0.1131 - val_loss: 0.0720 - val_accuracy: 0.1513\n",
      "Epoch 2/100\n",
      "225/225 [==============================] - 1s 3ms/step - loss: 0.0605 - accuracy: 0.1876 - val_loss: 0.0516 - val_accuracy: 0.2100\n",
      "Epoch 3/100\n",
      "225/225 [==============================] - 1s 3ms/step - loss: 0.0500 - accuracy: 0.2340 - val_loss: 0.0479 - val_accuracy: 0.2387\n",
      "Epoch 4/100\n",
      "225/225 [==============================] - 1s 3ms/step - loss: 0.0447 - accuracy: 0.2532 - val_loss: 0.0415 - val_accuracy: 0.2450\n",
      "Epoch 5/100\n",
      "225/225 [==============================] - 1s 3ms/step - loss: 0.0412 - accuracy: 0.2685 - val_loss: 0.0403 - val_accuracy: 0.2463\n",
      "Epoch 6/100\n",
      "225/225 [==============================] - 1s 3ms/step - loss: 0.0382 - accuracy: 0.2681 - val_loss: 0.0385 - val_accuracy: 0.2738\n",
      "Epoch 7/100\n",
      "225/225 [==============================] - 1s 3ms/step - loss: 0.0360 - accuracy: 0.2719 - val_loss: 0.0356 - val_accuracy: 0.2837\n",
      "Epoch 8/100\n",
      "225/225 [==============================] - 1s 3ms/step - loss: 0.0334 - accuracy: 0.2824 - val_loss: 0.0346 - val_accuracy: 0.2475\n",
      "Epoch 9/100\n",
      "225/225 [==============================] - 1s 3ms/step - loss: 0.0316 - accuracy: 0.2803 - val_loss: 0.0383 - val_accuracy: 0.3075\n",
      "Epoch 10/100\n",
      "225/225 [==============================] - 1s 3ms/step - loss: 0.0297 - accuracy: 0.2954 - val_loss: 0.0324 - val_accuracy: 0.3050\n",
      "Epoch 11/100\n",
      "225/225 [==============================] - 1s 3ms/step - loss: 0.0287 - accuracy: 0.2911 - val_loss: 0.0338 - val_accuracy: 0.3338\n",
      "Epoch 12/100\n",
      "225/225 [==============================] - 1s 3ms/step - loss: 0.0277 - accuracy: 0.3126 - val_loss: 0.0325 - val_accuracy: 0.3725\n",
      "Epoch 13/100\n",
      "217/225 [===========================>..] - ETA: 0s - loss: 0.0267 - accuracy: 0.2969Restoring model weights from the end of the best epoch.\n",
      "225/225 [==============================] - 1s 3ms/step - loss: 0.0266 - accuracy: 0.2989 - val_loss: 0.0335 - val_accuracy: 0.2800\n",
      "Epoch 00013: early stopping\n",
      "63/63 [==============================] - 0s 1ms/step\n",
      "Epoch 1/100\n",
      "225/225 [==============================] - 1s 4ms/step - loss: 0.1645 - accuracy: 0.1308 - val_loss: 0.0728 - val_accuracy: 0.1550\n",
      "Epoch 2/100\n",
      "225/225 [==============================] - 1s 5ms/step - loss: 0.0597 - accuracy: 0.1990 - val_loss: 0.0496 - val_accuracy: 0.1925\n",
      "Epoch 3/100\n",
      "225/225 [==============================] - 1s 3ms/step - loss: 0.0496 - accuracy: 0.2358 - val_loss: 0.0485 - val_accuracy: 0.2362\n",
      "Epoch 4/100\n",
      "225/225 [==============================] - 1s 3ms/step - loss: 0.0440 - accuracy: 0.2483 - val_loss: 0.0413 - val_accuracy: 0.2400\n",
      "Epoch 5/100\n"
     ]
    },
    {
     "name": "stdout",
     "output_type": "stream",
     "text": [
      "225/225 [==============================] - 1s 3ms/step - loss: 0.0402 - accuracy: 0.2561 - val_loss: 0.0375 - val_accuracy: 0.2425\n",
      "Epoch 6/100\n",
      "225/225 [==============================] - 1s 3ms/step - loss: 0.0374 - accuracy: 0.2653 - val_loss: 0.0354 - val_accuracy: 0.2300\n",
      "Epoch 7/100\n",
      "225/225 [==============================] - 1s 3ms/step - loss: 0.0355 - accuracy: 0.2637 - val_loss: 0.0341 - val_accuracy: 0.2562\n",
      "Epoch 8/100\n",
      "225/225 [==============================] - 1s 3ms/step - loss: 0.0329 - accuracy: 0.2844 - val_loss: 0.0360 - val_accuracy: 0.2537\n",
      "Epoch 9/100\n",
      "225/225 [==============================] - 1s 3ms/step - loss: 0.0309 - accuracy: 0.2894 - val_loss: 0.0333 - val_accuracy: 0.3175\n",
      "Epoch 10/100\n",
      "225/225 [==============================] - 1s 3ms/step - loss: 0.0298 - accuracy: 0.2897 - val_loss: 0.0338 - val_accuracy: 0.2625\n",
      "Epoch 11/100\n",
      "225/225 [==============================] - 1s 3ms/step - loss: 0.0287 - accuracy: 0.2917 - val_loss: 0.0316 - val_accuracy: 0.2950\n",
      "Epoch 12/100\n",
      "225/225 [==============================] - 1s 3ms/step - loss: 0.0273 - accuracy: 0.2972 - val_loss: 0.0329 - val_accuracy: 0.3288\n",
      "Epoch 13/100\n",
      "225/225 [==============================] - 1s 3ms/step - loss: 0.0261 - accuracy: 0.2947 - val_loss: 0.0334 - val_accuracy: 0.3338\n",
      "Epoch 14/100\n",
      "217/225 [===========================>..] - ETA: 0s - loss: 0.0252 - accuracy: 0.3132Restoring model weights from the end of the best epoch.\n",
      "225/225 [==============================] - 1s 3ms/step - loss: 0.0254 - accuracy: 0.3125 - val_loss: 0.0340 - val_accuracy: 0.2975\n",
      "Epoch 00014: early stopping\n",
      "63/63 [==============================] - 0s 1ms/step\n",
      "Epoch 1/100\n",
      "225/225 [==============================] - 1s 4ms/step - loss: 0.1638 - accuracy: 0.1306 - val_loss: 0.0765 - val_accuracy: 0.1587\n",
      "Epoch 2/100\n",
      "225/225 [==============================] - 1s 3ms/step - loss: 0.0605 - accuracy: 0.2032 - val_loss: 0.0523 - val_accuracy: 0.1800\n",
      "Epoch 3/100\n",
      "225/225 [==============================] - 1s 3ms/step - loss: 0.0494 - accuracy: 0.2281 - val_loss: 0.0526 - val_accuracy: 0.2525\n",
      "Epoch 4/100\n",
      "225/225 [==============================] - 1s 3ms/step - loss: 0.0440 - accuracy: 0.2457 - val_loss: 0.0420 - val_accuracy: 0.2338\n",
      "Epoch 5/100\n",
      "225/225 [==============================] - 1s 3ms/step - loss: 0.0405 - accuracy: 0.2562 - val_loss: 0.0406 - val_accuracy: 0.3075\n",
      "Epoch 6/100\n",
      "225/225 [==============================] - 1s 3ms/step - loss: 0.0372 - accuracy: 0.2578 - val_loss: 0.0362 - val_accuracy: 0.2550\n",
      "Epoch 7/100\n",
      "225/225 [==============================] - 1s 3ms/step - loss: 0.0348 - accuracy: 0.2676 - val_loss: 0.0368 - val_accuracy: 0.2313\n",
      "Epoch 8/100\n",
      "225/225 [==============================] - 1s 3ms/step - loss: 0.0329 - accuracy: 0.2794 - val_loss: 0.0362 - val_accuracy: 0.3325\n",
      "Epoch 9/100\n",
      "225/225 [==============================] - 1s 3ms/step - loss: 0.0309 - accuracy: 0.2806 - val_loss: 0.0329 - val_accuracy: 0.3338\n",
      "Epoch 10/100\n",
      "225/225 [==============================] - 1s 3ms/step - loss: 0.0302 - accuracy: 0.2867 - val_loss: 0.0338 - val_accuracy: 0.3175\n",
      "Epoch 11/100\n",
      "225/225 [==============================] - 1s 3ms/step - loss: 0.0287 - accuracy: 0.2894 - val_loss: 0.0338 - val_accuracy: 0.3025\n",
      "Epoch 12/100\n",
      "225/225 [==============================] - 1s 3ms/step - loss: 0.0275 - accuracy: 0.2988 - val_loss: 0.0317 - val_accuracy: 0.3125\n",
      "Epoch 13/100\n",
      "225/225 [==============================] - 1s 3ms/step - loss: 0.0260 - accuracy: 0.2947 - val_loss: 0.0329 - val_accuracy: 0.3300\n",
      "Epoch 14/100\n",
      "225/225 [==============================] - 1s 3ms/step - loss: 0.0251 - accuracy: 0.3050 - val_loss: 0.0322 - val_accuracy: 0.3787\n",
      "Epoch 15/100\n",
      "209/225 [==========================>...] - ETA: 0s - loss: 0.0240 - accuracy: 0.2958Restoring model weights from the end of the best epoch.\n",
      "225/225 [==============================] - 1s 3ms/step - loss: 0.0243 - accuracy: 0.2960 - val_loss: 0.0323 - val_accuracy: 0.3700\n",
      "Epoch 00015: early stopping\n",
      "63/63 [==============================] - 0s 1ms/step\n"
     ]
    }
   ],
   "source": [
    "reset_seed()\n",
    "\n",
    "x = sequences[:10000]\n",
    "y = labels[:10000]\n",
    "batch_size = 32\n",
    "kfold = KFold(n_splits=5, shuffle=True, random_state=seed)\n",
    "cv_scores = []\n",
    "\n",
    "for train, test in kfold.split(x, y):\n",
    "    model = init_model()\n",
    "    es = EarlyStopping(patience=3, verbose=1, restore_best_weights=True)\n",
    "    history = model.fit(x[train],\n",
    "                        y[train],\n",
    "                        batch_size=batch_size,\n",
    "                        epochs=100,\n",
    "                        verbose=1,\n",
    "                        validation_split=.1,\n",
    "                        callbacks=[es])\n",
    "    \n",
    "    y_pred_prob = model.predict(x[test], batch_size=batch_size, verbose=1)\n",
    "    y_pred = np.round(y_pred_prob)\n",
    "    \n",
    "    scores = {}\n",
    "    scores[\"accuracy\"] = accuracy_score(y[test], y_pred)\n",
    "    scores[\"F1 (macro)\"] = f1_score(y[test], y_pred, average=\"macro\")\n",
    "    scores[\"F1 (micro)\"] = f1_score(y[test], y_pred, average=\"micro\")\n",
    "    scores[\"LRAP\"] = label_ranking_average_precision_score(y[test], y_pred_prob)\n",
    "    scores[\"NDCG\"] = ndcg_score(y[test], y_pred_prob)\n",
    "    cv_scores.append(scores)\n",
    "    \n",
    "cv_scores_df = pd.DataFrame(cv_scores)"
   ]
  },
  {
   "cell_type": "markdown",
   "metadata": {},
   "source": [
    "## Metrics and their means"
   ]
  },
  {
   "cell_type": "code",
   "execution_count": 14,
   "metadata": {},
   "outputs": [
    {
     "data": {
      "text/html": [
       "<div>\n",
       "<style scoped>\n",
       "    .dataframe tbody tr th:only-of-type {\n",
       "        vertical-align: middle;\n",
       "    }\n",
       "\n",
       "    .dataframe tbody tr th {\n",
       "        vertical-align: top;\n",
       "    }\n",
       "\n",
       "    .dataframe thead th {\n",
       "        text-align: right;\n",
       "    }\n",
       "</style>\n",
       "<table border=\"1\" class=\"dataframe\">\n",
       "  <thead>\n",
       "    <tr style=\"text-align: right;\">\n",
       "      <th></th>\n",
       "      <th>accuracy</th>\n",
       "      <th>F1 (macro)</th>\n",
       "      <th>F1 (micro)</th>\n",
       "      <th>LRAP</th>\n",
       "      <th>NDCG</th>\n",
       "    </tr>\n",
       "  </thead>\n",
       "  <tbody>\n",
       "    <tr>\n",
       "      <th>0</th>\n",
       "      <td>0.4840</td>\n",
       "      <td>0.357127</td>\n",
       "      <td>0.791326</td>\n",
       "      <td>0.884151</td>\n",
       "      <td>0.934958</td>\n",
       "    </tr>\n",
       "    <tr>\n",
       "      <th>1</th>\n",
       "      <td>0.4965</td>\n",
       "      <td>0.319826</td>\n",
       "      <td>0.795979</td>\n",
       "      <td>0.886735</td>\n",
       "      <td>0.938156</td>\n",
       "    </tr>\n",
       "    <tr>\n",
       "      <th>2</th>\n",
       "      <td>0.4770</td>\n",
       "      <td>0.303921</td>\n",
       "      <td>0.785048</td>\n",
       "      <td>0.883851</td>\n",
       "      <td>0.937720</td>\n",
       "    </tr>\n",
       "    <tr>\n",
       "      <th>3</th>\n",
       "      <td>0.4700</td>\n",
       "      <td>0.298416</td>\n",
       "      <td>0.778716</td>\n",
       "      <td>0.877731</td>\n",
       "      <td>0.934735</td>\n",
       "    </tr>\n",
       "    <tr>\n",
       "      <th>4</th>\n",
       "      <td>0.4705</td>\n",
       "      <td>0.317074</td>\n",
       "      <td>0.783691</td>\n",
       "      <td>0.876306</td>\n",
       "      <td>0.931797</td>\n",
       "    </tr>\n",
       "  </tbody>\n",
       "</table>\n",
       "</div>"
      ],
      "text/plain": [
       "   accuracy  F1 (macro)  F1 (micro)      LRAP      NDCG\n",
       "0    0.4840    0.357127    0.791326  0.884151  0.934958\n",
       "1    0.4965    0.319826    0.795979  0.886735  0.938156\n",
       "2    0.4770    0.303921    0.785048  0.883851  0.937720\n",
       "3    0.4700    0.298416    0.778716  0.877731  0.934735\n",
       "4    0.4705    0.317074    0.783691  0.876306  0.931797"
      ]
     },
     "metadata": {},
     "output_type": "display_data"
    },
    {
     "name": "stdout",
     "output_type": "stream",
     "text": [
      "accuracy      0.479600\n",
      "F1 (macro)    0.319273\n",
      "F1 (micro)    0.786952\n",
      "LRAP          0.881755\n",
      "NDCG          0.935473\n",
      "dtype: float64\n"
     ]
    }
   ],
   "source": [
    "display(cv_scores_df)\n",
    "print(cv_scores_df.mean())"
   ]
  }
 ],
 "metadata": {
  "kernelspec": {
   "display_name": "Python 3",
   "language": "python",
   "name": "python3"
  },
  "language_info": {
   "codemirror_mode": {
    "name": "ipython",
    "version": 3
   },
   "file_extension": ".py",
   "mimetype": "text/x-python",
   "name": "python",
   "nbconvert_exporter": "python",
   "pygments_lexer": "ipython3",
   "version": "3.7.3"
  }
 },
 "nbformat": 4,
 "nbformat_minor": 2
}
