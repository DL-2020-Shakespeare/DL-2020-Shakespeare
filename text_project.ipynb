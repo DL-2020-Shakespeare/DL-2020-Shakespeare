{
 "cells": [
  {
   "cell_type": "markdown",
   "metadata": {},
   "source": [
    "# DATA20001 Deep Learning - Group Project\n",
    "## Text project\n",
    "\n",
    "**Due Thursday, May 22, before 23:59.**\n",
    "\n",
    "The task is to learn to assign the correct labels to news articles.  The corpus contains ~850K articles from Reuters.  The test set is about 10% of the articles. The data is unextracted in XML files.\n",
    "\n",
    "We're only giving you the code for downloading the data, and how to save the final model. The rest you'll have to do yourselves.\n",
    "\n",
    "Some comments and hints particular to the project:\n",
    "\n",
    "- One document may belong to many classes in this problem, i.e., it's a multi-label classification problem. In fact there are documents that don't belong to any class, and you should also be able to handle these correctly. Pay careful attention to how you design the outputs of the network (e.g., what activation to use) and what loss function should be used.\n",
    "- You may use word-embeddings to get better results. For example, you were already using a smaller version of the GloVE  embeddings in exercise 4. Do note that these embeddings take a lot of memory. \n",
    "- In the exercises we used e.g., `torchvision.datasets.MNIST` to handle the loading of the data in suitable batches. Here, you need to handle the dataloading yourself.  The easiest way is probably to create a custom `Dataset`. [See for example here for a tutorial](https://github.com/utkuozbulak/pytorch-custom-dataset-examples)."
   ]
  },
  {
   "cell_type": "code",
   "execution_count": 13,
   "metadata": {
    "pycharm": {
     "name": "#%%\n"
    }
   },
   "outputs": [],
   "source": [
    "import os\n",
    "import pickle\n",
    "import random as rn\n",
    "import warnings\n",
    "from multiprocessing import cpu_count\n",
    "\n",
    "warnings.filterwarnings(\"ignore\")\n",
    "\n",
    "import numpy as np\n",
    "import pandas as pd\n",
    "import tensorflow as tf\n",
    "from gensim.models import Word2Vec\n",
    "from sklearn.metrics import accuracy_score, f1_score, hamming_loss\n",
    "from sklearn.model_selection import train_test_split\n",
    "from tensorflow.keras.callbacks import EarlyStopping\n",
    "from tensorflow.keras.initializers import Constant, GlorotUniform\n",
    "from tensorflow.keras.layers import Dense, Dropout, Activation, Embedding, Conv1D, \\\n",
    "        GlobalMaxPooling1D, SpatialDropout1D, LSTM, GRU, Flatten, MaxPooling1D, \\\n",
    "        BatchNormalization, ReLU\n",
    "from tensorflow.keras.models import Sequential\n",
    "from tensorflow.keras.preprocessing.text import Tokenizer\n",
    "from tensorflow.keras.preprocessing.sequence import pad_sequences\n",
    "\n",
    "import data\n",
    "import preprocessing\n",
    "\n",
    "seed = 42"
   ]
  },
  {
   "cell_type": "markdown",
   "metadata": {},
   "source": [
    "The above command downloads and extracts the data files into the `train` subdirectory.\n",
    "\n",
    "The files can be found in `train/`, and are named as `19970405.zip`, etc. You will have to manage the content of these zips to get the data. There is a readme which has links to further descriptions on the data.\n",
    "\n",
    "The class labels, or topics, can be found in the readme file called `train/codes.zip`.  The zip contains a file called \"topic_codes.txt\".  This file contains the special codes for the topics (about 130 of them), and the explanation - what each code means.\n",
    "\n",
    "The XML document files contain the article's headline, the main body text, and the list of topic labels assigned to each article.  You will have to extract the topics of each article from the XML.  For example: \n",
    "&lt;code code=\"C18\"&gt; refers to the topic \"OWNERSHIP CHANGES\" (like a corporate buyout).\n",
    "\n",
    "You should pre-process the XML to extract the words from the article: the &lt;headline&gt; element and the &lt;text&gt;.  You should not need any other parts of the article."
   ]
  },
  {
   "cell_type": "markdown",
   "metadata": {
    "pycharm": {
     "name": "#%% md\n"
    }
   },
   "source": [
    "## Extracting the data"
   ]
  },
  {
   "cell_type": "code",
   "execution_count": 3,
   "metadata": {
    "pycharm": {
     "name": "#%%\n"
    }
   },
   "outputs": [
    {
     "name": "stdout",
     "output_type": "stream",
     "text": [
      "(299773,)\n",
      "(299773, 126)\n",
      "Typhoon Winnie kills 25 in Taiwan. A typhoon that packed high winds and torrential rain killed 25 people in Taiwan on Monday and Tuesday, with landslides bringing down buildings and floodwaters turning streets into rivers, officials said on Tuesday. The death toll has risen to 25, one missing, 16 seriously injured and 62 slightly hurt, the government's anti-typhoon centre said in a statement. Three houses totally collapsed and 37 partly collapsed, it said. State television showed several five-storey buildings in eastern Taipei that had sunk two stories into the ground. The Central Weather Bureau said late on Monday the danger had passed as Typhoon Winnie headed towards mainland China. Heavy torrential rain and strong winds triggered landslides in Taipei, destroying or damaging buildings and blocking traffic. \"The whole scene looks as if it has gone through an explosion,\" a state television reporter in the city said. Local authorities mobilised hundreds of rescue workers and soldiers to help evacuate residents, but several people remained trapped in their houses, state media said. Seven people were buried after landslides hit their house in north Taipei. Only one woman survived. Torrential rain swamped houses in low-lying areas of the capital. Many roads were flooded and scores of vehicles submerged. The typhoon, packing maximum sustained winds of 144 km per hour (89 miles per hour) and gusts of up to 180 kph (112 mph), forced government agencies, financial markets and schools to close on Monday. All domestic flights were cancelled but most international flights were running to schedule. Many roads in mountainous areas were impassable. Some 68,500 households suffered power cuts, officials said. All government offices, markets and schools and most of the island's traffic systems returned to normal operations on Tuesday, officials said.\n",
      "[0 0 0 0 0 0 0 0 0 0 0 0 0 0 0 0 0 0 0 0 0 0 0 0 0 0 0 0 0 0 0 0 0 0 0 0 0\n",
      " 0 0 0 0 0 0 0 0 0 0 0 0 0 0 0 0 0 0 0 0 0 0 0 0 0 0 0 0 0 0 0 0 0 0 0 0 0\n",
      " 0 0 0 0 0 0 0 0 0 0 0 0 0 0 0 0 0 0 0 0 1 0 0 1 0 0 0 0 0 0 0 0 0 0 0 0 0\n",
      " 0 0 0 0 0 0 0 0 0 0 0 0 0 0 0]\n"
     ]
    }
   ],
   "source": [
    "# data.extract_data(extraction_dir=\"train\", data_dir=\"data\", data_zip_name=\"reuters-training-corpus.zip\")\n",
    "\n",
    "df = pd.read_pickle(\"train/data.pkl\")\n",
    "\n",
    "# df = data.get_docs_labels(\"train/REUTERS_CORPUS_2\")\n",
    "# df.to_pickle(\"train/data.pkl\")\n",
    "\n",
    "docs = df[\"doc\"].values\n",
    "labels = np.array(df[\"labels\"].tolist())\n",
    "n_labels = len(data.CODEMAP)\n",
    "\n",
    "print(docs.shape)\n",
    "print(labels.shape)\n",
    "print(docs[-2])\n",
    "print(labels[-2])"
   ]
  },
  {
   "cell_type": "markdown",
   "metadata": {
    "pycharm": {
     "name": "#%% md\n"
    }
   },
   "source": [
    "## Preprocessing the data"
   ]
  },
  {
   "cell_type": "code",
   "execution_count": 4,
   "metadata": {
    "pycharm": {
     "name": "#%%\n"
    }
   },
   "outputs": [
    {
     "name": "stdout",
     "output_type": "stream",
     "text": [
      "typhoon winnie kill 25 taiwan typhoon pack high wind torrential rain kill 25 people taiwan monday tuesday landslide bring building floodwater turn street river official say tuesday death toll rise 25 miss 16 seriously injure 62 slightly hurt government anti typhoon centre say statement house totally collapse 37 partly collapse say state television show storey building eastern taipei sink story ground central weather bureau say late monday danger pass typhoon winnie head mainland china heavy torrential rain strong wind trigger landslide taipei destroy damaging building block traffic scene look go explosion state television reporter city say local authority mobilise hundred rescue worker soldier help evacuate resident people remain trap house state medium say seven people bury landslide hit house north taipei woman survive torrential rain swamp house low lie area capital road flood score vehicle submerge typhoon pack maximum sustained wind 144 km hour 89 mile hour gust 180 kph 112 mph force government agency financial market school close monday domestic flight cancel international flight run schedule road mountainous area impassable 68,500 household suffer power cut official say government office market school island traffic system return normal operation tuesday official say\n"
     ]
    }
   ],
   "source": [
    "with open(\"train/preprocessed_docs_no_sw_no_rep.pkl\", \"rb\") as f:\n",
    "    preprocessed_docs = pickle.load(f)\n",
    "\n",
    "# preprocessed_docs = preprocessing.preprocess_corpus(docs)\n",
    "# with open(\"train/preprocessed_docs.pkl\", \"wb\") as f:\n",
    "#     pickle.dump(preprocessed_docs, f)\n",
    "\n",
    "print(preprocessed_docs[-2])"
   ]
  },
  {
   "cell_type": "markdown",
   "metadata": {},
   "source": [
    "## Converting the docs to token index sequences"
   ]
  },
  {
   "cell_type": "code",
   "execution_count": 5,
   "metadata": {
    "pycharm": {
     "name": "#%%\n"
    }
   },
   "outputs": [
    {
     "name": "stdout",
     "output_type": "stream",
     "text": [
      "5000\n"
     ]
    }
   ],
   "source": [
    "n_vocabulary = 5000\n",
    "\n",
    "tokenizer = Tokenizer(num_words=n_vocabulary, filters=\"\")\n",
    "tokenizer.fit_on_texts(preprocessed_docs)\n",
    "word_idx = tokenizer.word_index\n",
    "\n",
    "if n_vocabulary is None:\n",
    "    n_vocabulary = len(word_idx)\n",
    "\n",
    "print(n_vocabulary)"
   ]
  },
  {
   "cell_type": "code",
   "execution_count": 6,
   "metadata": {
    "pycharm": {
     "name": "#%%\n"
    }
   },
   "outputs": [
    {
     "name": "stdout",
     "output_type": "stream",
     "text": [
      "64\n",
      "(299773, 64)\n",
      "[  40 2068 2043 1758   80  496   25  282  541  418  473  581   38 2952\n",
      "  173  232 1113 2016  840  861 1915  282  541  418   86  452   25 2952\n",
      " 2687  743 1119  610 4245  232  282  541  418   79  463   25 2952  788\n",
      "  206  232   17 1144    0    0    0    0    0    0    0    0    0    0\n",
      "    0    0    0    0    0    0    0    0]\n"
     ]
    }
   ],
   "source": [
    "n_sequence = 64\n",
    "# n_sequence = max([len(doc) for doc in preprocessed_docs])\n",
    "\n",
    "sequences = tokenizer.texts_to_sequences(preprocessed_docs)\n",
    "sequences = pad_sequences(sequences, maxlen=n_sequence, padding=\"post\", truncating=\"post\")\n",
    "\n",
    "print(n_sequence)\n",
    "print(sequences.shape)\n",
    "print(sequences[1])\n",
    "\n",
    "# doc_matrix = tokenizer.texts_to_matrix(preprocessed_docs, mode=\"tfidf\")\n",
    "\n",
    "# print(doc_matrix.shape)\n",
    "# print(doc_matrix[1])"
   ]
  },
  {
   "cell_type": "markdown",
   "metadata": {},
   "source": [
    "## Creating word embeddings"
   ]
  },
  {
   "cell_type": "code",
   "execution_count": 7,
   "metadata": {
    "pycharm": {
     "name": "#%%\n"
    }
   },
   "outputs": [],
   "source": [
    "n_embedding = 256"
   ]
  },
  {
   "cell_type": "code",
   "execution_count": 8,
   "metadata": {
    "pycharm": {
     "name": "#%%\n"
    }
   },
   "outputs": [
    {
     "name": "stdout",
     "output_type": "stream",
     "text": [
      "648463\n"
     ]
    }
   ],
   "source": [
    "w2v_model = Word2Vec(sentences=[s.split() for s in preprocessed_docs],\n",
    "                     size=n_embedding, \n",
    "                     window=5,\n",
    "                     sg=1,\n",
    "                     workers=cpu_count(),\n",
    "                     min_count=1)\n",
    "\n",
    "n_vocabulary_w2v = len(list(w2v_model.wv.vocab))\n",
    "print(n_vocabulary_w2v)"
   ]
  },
  {
   "cell_type": "code",
   "execution_count": 9,
   "metadata": {
    "pycharm": {
     "name": "#%%\n"
    }
   },
   "outputs": [
    {
     "name": "stdout",
     "output_type": "stream",
     "text": [
      "(5000, 256)\n"
     ]
    }
   ],
   "source": [
    "embedding_matrix = np.zeros((n_vocabulary, n_embedding))\n",
    "for token, i in word_idx.items():\n",
    "    if i >= n_vocabulary:\n",
    "        continue\n",
    "    if token in w2v_model:\n",
    "        embedding_matrix[i] = w2v_model[token]\n",
    "    else:\n",
    "        embedding_matrix[i] = np.zeros(n_embedding)\n",
    "\n",
    "print(embedding_matrix.shape)"
   ]
  },
  {
   "cell_type": "markdown",
   "metadata": {},
   "source": [
    "## Defining the NN model"
   ]
  },
  {
   "cell_type": "code",
   "execution_count": 10,
   "metadata": {
    "pycharm": {
     "name": "#%%\n"
    }
   },
   "outputs": [
    {
     "name": "stdout",
     "output_type": "stream",
     "text": [
      "Model: \"sequential\"\n",
      "_________________________________________________________________\n",
      "Layer (type)                 Output Shape              Param #   \n",
      "=================================================================\n",
      "embedding (Embedding)        (None, 64, 256)           1280000   \n",
      "_________________________________________________________________\n",
      "dropout (Dropout)            (None, 64, 256)           0         \n",
      "_________________________________________________________________\n",
      "conv1d (Conv1D)              (None, 60, 64)            81984     \n",
      "_________________________________________________________________\n",
      "dropout_1 (Dropout)          (None, 60, 64)            0         \n",
      "_________________________________________________________________\n",
      "conv1d_1 (Conv1D)            (None, 56, 128)           41088     \n",
      "_________________________________________________________________\n",
      "dropout_2 (Dropout)          (None, 56, 128)           0         \n",
      "_________________________________________________________________\n",
      "flatten (Flatten)            (None, 7168)              0         \n",
      "_________________________________________________________________\n",
      "dense (Dense)                (None, 128)               917632    \n",
      "_________________________________________________________________\n",
      "batch_normalization (BatchNo (None, 128)               512       \n",
      "_________________________________________________________________\n",
      "re_lu (ReLU)                 (None, 128)               0         \n",
      "_________________________________________________________________\n",
      "dropout_3 (Dropout)          (None, 128)               0         \n",
      "_________________________________________________________________\n",
      "dense_1 (Dense)              (None, 128)               16512     \n",
      "_________________________________________________________________\n",
      "batch_normalization_1 (Batch (None, 128)               512       \n",
      "_________________________________________________________________\n",
      "re_lu_1 (ReLU)               (None, 128)               0         \n",
      "_________________________________________________________________\n",
      "dropout_4 (Dropout)          (None, 128)               0         \n",
      "_________________________________________________________________\n",
      "dense_2 (Dense)              (None, 126)               16254     \n",
      "=================================================================\n",
      "Total params: 2,354,494\n",
      "Trainable params: 1,073,982\n",
      "Non-trainable params: 1,280,512\n",
      "_________________________________________________________________\n"
     ]
    }
   ],
   "source": [
    "model = Sequential()\n",
    "\n",
    "model.add(Embedding(\n",
    "    n_vocabulary,\n",
    "    n_embedding,\n",
    "    embeddings_initializer=Constant(embedding_matrix),\n",
    "    input_length=n_sequence,\n",
    "    trainable=False\n",
    "))\n",
    "# model.add(Embedding(n_vocabulary, n_embedding, input_length=n_sequence))\n",
    "\n",
    "model.add(Dropout(.25))\n",
    "model.add(Conv1D(64, 5, activation=\"relu\"))\n",
    "model.add(Dropout(.25))\n",
    "model.add(Conv1D(128, 5, activation=\"relu\"))\n",
    "model.add(Dropout(.25))\n",
    "model.add(Flatten())\n",
    "model.add(Dense(128))\n",
    "model.add(BatchNormalization())\n",
    "model.add(ReLU())\n",
    "model.add(Dropout(.25))\n",
    "model.add(Dense(128))\n",
    "model.add(BatchNormalization())\n",
    "model.add(ReLU())\n",
    "model.add(Dropout(.25))\n",
    "\n",
    "# model.add(Bidirectional(LSTM(256, return_sequences=True)))\n",
    "# model.add(Bidirectional(LSTM(128)))\n",
    "# model.add(Dense(128, activation=\"relu\"))\n",
    "# model.add(Dropout(.5))\n",
    "\n",
    "# model.add(GRU(32, dropout=.2))\n",
    "\n",
    "# model.add(Dense(512, activation=\"relu\", input_shape=(n_vocabulary,)))\n",
    "# model.add(Dropout(.5))\n",
    "\n",
    "# model.add(Conv1D(100, 4, activation=\"relu\"))\n",
    "# model.add(MaxPooling1D(pool_size=3))\n",
    "# model.add(Conv1D(100, 2, activation=\"relu\"))\n",
    "# model.add(Dropout(.5))\n",
    "# model.add(Flatten())\n",
    "# model.add(Dense(300, activation=\"relu\"))\n",
    "\n",
    "model.add(Dense(n_labels, activation=\"sigmoid\"))\n",
    "model.compile(loss=\"binary_crossentropy\", optimizer=\"adam\", metrics=[\"accuracy\"])\n",
    "model.summary()"
   ]
  },
  {
   "cell_type": "markdown",
   "metadata": {},
   "source": [
    "## Splitting data to train and test"
   ]
  },
  {
   "cell_type": "code",
   "execution_count": 11,
   "metadata": {},
   "outputs": [
    {
     "name": "stdout",
     "output_type": "stream",
     "text": [
      "(224829, 64)\n",
      "(224829, 126)\n",
      "(74944, 64)\n",
      "(74944, 126)\n"
     ]
    }
   ],
   "source": [
    "n = None # set to None for full dataset\n",
    "\n",
    "x_train, x_test, y_train, y_test = train_test_split(sequences,\n",
    "# x_train, x_test, y_train, y_test = train_test_split(doc_matrix,\n",
    "                                                    labels,\n",
    "                                                    train_size=n,\n",
    "                                                    test_size=n,\n",
    "                                                    random_state=seed)\n",
    "\n",
    "print(x_train.shape)\n",
    "print(y_train.shape)\n",
    "print(x_test.shape)\n",
    "print(y_test.shape)"
   ]
  },
  {
   "cell_type": "markdown",
   "metadata": {},
   "source": [
    "## Fitting and predicting"
   ]
  },
  {
   "cell_type": "code",
   "execution_count": 16,
   "metadata": {
    "pycharm": {
     "name": "#%%\n"
    }
   },
   "outputs": [
    {
     "name": "stdout",
     "output_type": "stream",
     "text": [
      "Epoch 1/100\n",
      "791/791 [==============================] - 6s 7ms/step - loss: 0.0195 - accuracy: 0.3141 - val_loss: 0.0188 - val_accuracy: 0.3096\n",
      "Epoch 2/100\n",
      "791/791 [==============================] - 5s 7ms/step - loss: 0.0194 - accuracy: 0.3152 - val_loss: 0.0187 - val_accuracy: 0.3149\n",
      "Epoch 3/100\n",
      "791/791 [==============================] - 5s 7ms/step - loss: 0.0193 - accuracy: 0.3215 - val_loss: 0.0189 - val_accuracy: 0.2835\n",
      "Epoch 4/100\n",
      "791/791 [==============================] - 5s 7ms/step - loss: 0.0191 - accuracy: 0.3164 - val_loss: 0.0187 - val_accuracy: 0.3263\n",
      "Epoch 5/100\n",
      "791/791 [==============================] - 5s 7ms/step - loss: 0.0190 - accuracy: 0.3152 - val_loss: 0.0190 - val_accuracy: 0.3306\n",
      "Epoch 6/100\n",
      "791/791 [==============================] - 5s 7ms/step - loss: 0.0190 - accuracy: 0.3131 - val_loss: 0.0188 - val_accuracy: 0.2934\n",
      "Epoch 7/100\n",
      "787/791 [============================>.] - ETA: 0s - loss: 0.0189 - accuracy: 0.3087Restoring model weights from the end of the best epoch.\n",
      "791/791 [==============================] - 5s 7ms/step - loss: 0.0189 - accuracy: 0.3086 - val_loss: 0.0189 - val_accuracy: 0.2670\n",
      "Epoch 00007: early stopping\n",
      "293/293 [==============================] - 1s 4ms/step\n",
      "test avg. accuracy: 0.9937531134358097\n",
      "test hamming loss: 0.006246886564190151\n"
     ]
    }
   ],
   "source": [
    "batch_size = 256\n",
    "\n",
    "es = EarlyStopping(patience=3, verbose=1, restore_best_weights=True)\n",
    "history = model.fit(x_train,\n",
    "                    y_train,\n",
    "                    batch_size=batch_size,\n",
    "                    epochs=100,\n",
    "                    verbose=1,\n",
    "                    validation_split=.1,\n",
    "                    callbacks=[es])\n",
    "\n",
    "y_pred = np.round(model.predict(x_test, batch_size=batch_size, verbose=1)).astype(int)\n",
    "\n",
    "print(f\"test avg. accuracy: {np.mean([accuracy_score(y_test[i], y_pred[i]) for i in range(len(y_test))])}\")\n",
    "print(f\"test hamming loss: {hamming_loss(y_test, y_pred)}\")"
   ]
  },
  {
   "cell_type": "markdown",
   "metadata": {},
   "source": [
    "## Save your model\n",
    "\n",
    "It might be useful to save your model if you want to continue your work later, or use it for inference later."
   ]
  },
  {
   "cell_type": "code",
   "execution_count": null,
   "metadata": {},
   "outputs": [],
   "source": [
    "# torch.save(model.state_dict(), 'model.pkl')"
   ]
  },
  {
   "cell_type": "markdown",
   "metadata": {},
   "source": [
    "The model file should now be visible in the \"Home\" screen of the jupyter notebooks interface.  There you should be able to select it and press \"download\".\n",
    "\n",
    "## Download test set\n",
    "\n",
    "The testset will be made available during the last week before the deadline and can be downloaded in the same way as the training set.\n",
    "\n",
    "## Predict for test set\n",
    "\n",
    "You will be asked to return your predictions a separate test set.  These should be returned as a matrix with one row for each test article.  Each row contains a binary prediction for each label, 1 if it's present in the image, and 0 if not. The order of the labels is the order of the label (topic) codes.\n",
    "\n",
    "An example row could like like this if your system predicts the presense of the second and fourth topic:\n",
    "\n",
    "    0 1 0 1 0 0 0 0 0 0 0 0 0 0 ...\n",
    "    \n",
    "If you have the matrix prepared in `y` you can use the following function to save it to a text file."
   ]
  },
  {
   "cell_type": "code",
   "execution_count": null,
   "metadata": {},
   "outputs": [],
   "source": [
    "# np.savetxt('results.txt', y, fmt='%d')"
   ]
  }
 ],
 "metadata": {
  "kernelspec": {
   "display_name": "Python 3",
   "language": "python",
   "name": "python3"
  },
  "language_info": {
   "codemirror_mode": {
    "name": "ipython",
    "version": 3
   },
   "file_extension": ".py",
   "mimetype": "text/x-python",
   "name": "python",
   "nbconvert_exporter": "python",
   "pygments_lexer": "ipython3",
   "version": "3.7.3"
  }
 },
 "nbformat": 4,
 "nbformat_minor": 2
}
