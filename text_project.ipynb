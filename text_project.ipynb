{
 "cells": [
  {
   "cell_type": "code",
   "execution_count": 27,
   "metadata": {
    "pycharm": {
     "name": "#%%\n"
    }
   },
   "outputs": [],
   "source": [
    "import os\n",
    "import pickle\n",
    "import random as rn\n",
    "import warnings\n",
    "from multiprocessing import cpu_count\n",
    "\n",
    "warnings.filterwarnings(\"ignore\")\n",
    "\n",
    "import matplotlib.pyplot as plt\n",
    "import numpy as np\n",
    "import pandas as pd\n",
    "import seaborn as sns\n",
    "import tensorflow as tf\n",
    "from gensim.models import Word2Vec\n",
    "from IPython.display import display\n",
    "from sklearn.metrics import accuracy_score, f1_score, hamming_loss, average_precision_score, \\\n",
    "    ndcg_score, label_ranking_average_precision_score\n",
    "from sklearn.model_selection import train_test_split, KFold\n",
    "from sklearn.utils import shuffle\n",
    "from tensorflow.keras.callbacks import EarlyStopping\n",
    "from tensorflow.keras.initializers import Constant, GlorotUniform\n",
    "from tensorflow.keras.layers import Dense, Dropout, Activation, Embedding, Conv1D, \\\n",
    "    GlobalMaxPooling1D, SpatialDropout1D, LSTM, GRU, Flatten, MaxPooling1D, \\\n",
    "    BatchNormalization, ReLU\n",
    "from tensorflow.keras.models import Sequential\n",
    "from tensorflow.keras.preprocessing.text import Tokenizer\n",
    "from tensorflow.keras.preprocessing.sequence import pad_sequences\n",
    "\n",
    "import data\n",
    "import preprocessing\n",
    "\n",
    "seed = 42\n",
    "sns.set()\n",
    "\n",
    "def reset_seed():\n",
    "    os.environ[\"PYTHONHASHSEED\"] = str(seed)\n",
    "    os.environ[\"TF_DETERMINISTIC_OPS\"] = \"1\"\n",
    "    np.random.seed(seed)\n",
    "    rn.seed(seed)\n",
    "    tf.random.set_seed(seed)"
   ]
  },
  {
   "cell_type": "markdown",
   "metadata": {
    "pycharm": {
     "name": "#%% md\n"
    }
   },
   "source": [
    "## Extracting the data"
   ]
  },
  {
   "cell_type": "code",
   "execution_count": 2,
   "metadata": {
    "pycharm": {
     "name": "#%%\n"
    }
   },
   "outputs": [
    {
     "name": "stdout",
     "output_type": "stream",
     "text": [
      "(299773,)\n",
      "(299773, 126)\n",
      "Toronto stocks end higher after volatile session. CHANGE\t\t\t\t    CHANGE TSE\t  5900.37    +50.15   HI 5900.37\t    LO  5840.29 DJI\t  6611.05    +27.57   GOLD (LONDON)   US$350.00 +1.90 FTSE100    4248.10    -64.80   GOLD (NY-COMEX) US$354.80 +0.70 NIKKEI    17869.59   -133.81   LME CASH NICKEL US$7659   +99.0 CANDLR\t1.3883\t\t LME CASH ALUM   US$1602.0  -4.0 CAN 30-YR   107.41     -0.15   BRENT CRUDE     US$19.09  -0.27 --------------------MARKET COMMENT---------------------------- * Toronto stocks ended higher on Tuesday, buoyed by strength in golds and banking * Computer problems due to heavy trading in Bre-X Minerals hampered session * 84 million shares traded Toronto's key stock index ended higher on Tuesday as the saga of Bre-X Minerals Ltd and its Indonesian gold find continued to dominate Canada's biggest stock market. The TSE 300 Index climbed 50.15 points to close at 5900.37 in heavy turnover of 84.07 million shares worth C$1.4 billion. But the overall market was mixed with declining issues narrowly outpacing advances 476 to 464. 298 issues were flat. Frantic trading in Bre-X collapsed the TSE's computer trading system earlier in the day, forcing the exchange to halt trading in the stock before the market closed. Shares in the Calgary-based gold prospector were halted for a statement by the company this morning. When it resumed, a whopping 7.7 million shares changed hands in the first 22 minutes of trading before the system crashed. Bre-X closed up 1.35 at 3.85. It was the first time Bre-X traded since investors lopped nearly C$3 billion off its stock market value last Thursday. TSE officials said the trading problems were due to old technology which will be replaced. On the Montreal Exchange, Bre-X closed up 0.81 at 3.50 on 9.8 million shares. Analysts predicted more volatility for Bre-X shares this week. \"The question of what Bre-X will release over the next few days will be important to the market,\" said Josef Schachter, of Schachter Asset Management Inc. The gold sector rose nearly 136 points, leading 12 of 14 sub-indices higher. Other strong groups included financial services, consumer products, energy and transportation. The TSE posted minor losses in forestry and real estate. --- HOT STOCKS --- * Among bank shares, Bank of Nova Scotia rose 0.65 to 51.50 on 2.1 million shares, while Canadian Imperial Bank of Commerce added 0.50 to 31.80 on 2.1 million shares. ((Reuters Toronto Bureau (416) 941-8100))\n",
      "[0 0 0 0 0 0 0 0 0 0 0 0 0 0 0 0 0 0 0 0 0 0 0 0 0 0 0 0 0 0 0 0 0 0 0 0 0\n",
      " 0 0 0 0 0 0 0 0 0 0 0 0 0 0 0 0 0 0 0 0 0 0 0 0 0 0 0 0 0 0 0 0 0 0 0 0 0\n",
      " 0 0 0 0 0 0 0 0 0 0 0 0 0 0 0 0 0 0 0 0 0 0 0 0 0 0 0 0 0 0 0 0 0 0 0 0 0\n",
      " 0 0 0 1 0 0 0 0 0 0 0 0 1 0 0]\n"
     ]
    }
   ],
   "source": [
    "# data.extract_data(extraction_dir=\"train\", data_dir=\"data\", data_zip_name=\"reuters-training-corpus.zip\")\n",
    "\n",
    "train_df = pd.read_pickle(\"train/data.pkl\")\n",
    "\n",
    "# train_df = data.get_docs_labels(\"train/REUTERS_CORPUS_2\")\n",
    "# train_df.to_pickle(\"train/data.pkl\")\n",
    "\n",
    "train_docs = train_df[\"doc\"].values\n",
    "train_labels = np.array(train_df[\"labels\"].tolist())\n",
    "n_labels = len(data.CODEMAP)\n",
    "\n",
    "print(train_docs.shape)\n",
    "print(train_labels.shape)\n",
    "print(train_docs[2])\n",
    "print(train_labels[2])"
   ]
  },
  {
   "cell_type": "markdown",
   "metadata": {
    "pycharm": {
     "name": "#%% md\n"
    }
   },
   "source": [
    "## Preprocessing the documents"
   ]
  },
  {
   "cell_type": "code",
   "execution_count": 3,
   "metadata": {
    "pycharm": {
     "name": "#%%\n"
    }
   },
   "outputs": [
    {
     "name": "stdout",
     "output_type": "stream",
     "text": [
      "toronto stock end high volatile session change change tse 5900.37 +50.15 hi 5900.37 lo 5840.29 dji 6611.05 +27.57 gold london us$ 350.00 +1.90 ftse100 4248.10 -64.80 gold ny comex us$ 354.80 +0.70 nikkei 17869.59 -133.81 lme cash nickel us$ 7659 +99.0 candlr 1.3883 lme cash alum us$ 1602.0 -4.0 30-yr 107.41 -0.15 brent crude us$ 19.09 -0.27 --------------------market comment---------------------------- toronto stock end higher tuesday buoy strength gold banking computer problem heavy trading bre x minerals hamper session 84 million share trade toronto key stock index end higher tuesday saga bre x minerals ltd indonesian gold find continue dominate canada big stock market tse 300 index climb 50.15 point close 5900.37 heavy turnover 84.07 million share worth c$ 1.4 billion overall market mix decline issue narrowly outpace advance 476 464 298 issue flat frantic trading bre x collapse tse computer trading system earlier day force exchange halt trading stock market close share calgary base gold prospector halt statement company morning resume whopping 7.7 million share change hand 22 minute trading system crash bre x close 1.35 3.85 time bre x trade investor lop nearly c$ 3 billion stock market value thursday tse official say trading problem old technology replace montreal exchange bre x close 0.81 3.50 9.8 million share analyst predict volatility bre x share week question bre x release day important market say josef schachter schachter asset management inc. gold sector rise nearly 136 point lead 12 14 sub index high strong group include financial service consumer product energy transportation tse post minor loss forestry real estate hot stock bank share bank nova scotia rise 0.65 51.50 2.1 million share canadian imperial bank commerce add 0.50 31.80 2.1 million share reuters toronto bureau 416 941 8100\n"
     ]
    }
   ],
   "source": [
    "with open(\"train/preprocessed_docs_lemmatized_no_sw.pkl\", \"rb\") as f:\n",
    "    preprocessed_train_docs = pickle.load(f)\n",
    "\n",
    "# preprocessed_train_docs = preprocessing.preprocess_corpus(train_docs)\n",
    "# with open(\"train/preprocessed_docs.pkl\", \"wb\") as f:\n",
    "#     pickle.dump(preprocessed_train_docs, f)\n",
    "\n",
    "print(preprocessed_train_docs[2])"
   ]
  },
  {
   "cell_type": "markdown",
   "metadata": {},
   "source": [
    "## Representing the documents"
   ]
  },
  {
   "cell_type": "code",
   "execution_count": 4,
   "metadata": {},
   "outputs": [],
   "source": [
    "docs = preprocessed_train_docs # choose between original and preprocessed versions\n",
    "n_vocabulary = 5000"
   ]
  },
  {
   "cell_type": "markdown",
   "metadata": {},
   "source": [
    "### As token index sequences"
   ]
  },
  {
   "cell_type": "code",
   "execution_count": 5,
   "metadata": {},
   "outputs": [],
   "source": [
    "n_sequence = 64"
   ]
  },
  {
   "cell_type": "code",
   "execution_count": 6,
   "metadata": {
    "pycharm": {
     "name": "#%%\n"
    }
   },
   "outputs": [
    {
     "name": "stdout",
     "output_type": "stream",
     "text": [
      "5000\n"
     ]
    }
   ],
   "source": [
    "tokenizer = Tokenizer(num_words=n_vocabulary, filters=\"\")\n",
    "tokenizer.fit_on_texts(docs)\n",
    "word_idx = tokenizer.word_index\n",
    "\n",
    "if n_vocabulary is None:\n",
    "    n_vocabulary = len(word_idx)\n",
    "\n",
    "print(n_vocabulary)"
   ]
  },
  {
   "cell_type": "code",
   "execution_count": 26,
   "metadata": {
    "pycharm": {
     "name": "#%%\n"
    }
   },
   "outputs": [
    {
     "name": "stdout",
     "output_type": "stream",
     "text": [
      "64\n",
      "(299773, 64)\n",
      "[1610   24   17   19 2090  436  114  114 4443  240  141  492  240 2564\n",
      " 2406  492 2264 1386  263 1863  492 1386  263  492  914  407  492 1610\n",
      "   24   17  700   37 3599  827  240  567  674  327  617  162 2578 1520\n",
      " 4945 4521  436 3271    5    7   20 1610  328   24   75   17  700   37\n",
      " 2578 1520 4945  151 1456  240  314  112]\n"
     ]
    },
    {
     "ename": "NameError",
     "evalue": "name 'plt' is not defined",
     "output_type": "error",
     "traceback": [
      "\u001b[0;31m---------------------------------------------------------------------------\u001b[0m",
      "\u001b[0;31mNameError\u001b[0m                                 Traceback (most recent call last)",
      "\u001b[0;32m<ipython-input-26-94f4c9509553>\u001b[0m in \u001b[0;36m<module>\u001b[0;34m\u001b[0m\n\u001b[1;32m      9\u001b[0m \u001b[0mprint\u001b[0m\u001b[0;34m(\u001b[0m\u001b[0msequences\u001b[0m\u001b[0;34m[\u001b[0m\u001b[0;36m2\u001b[0m\u001b[0;34m]\u001b[0m\u001b[0;34m)\u001b[0m\u001b[0;34m\u001b[0m\u001b[0;34m\u001b[0m\u001b[0m\n\u001b[1;32m     10\u001b[0m \u001b[0msns\u001b[0m\u001b[0;34m.\u001b[0m\u001b[0mdistplot\u001b[0m\u001b[0;34m(\u001b[0m\u001b[0msequence_lengths\u001b[0m\u001b[0;34m)\u001b[0m\u001b[0;34m\u001b[0m\u001b[0;34m\u001b[0m\u001b[0m\n\u001b[0;32m---> 11\u001b[0;31m \u001b[0mplt\u001b[0m\u001b[0;34m.\u001b[0m\u001b[0mtitle\u001b[0m\u001b[0;34m(\u001b[0m\u001b[0;34m\"Document lengths\"\u001b[0m\u001b[0;34m)\u001b[0m\u001b[0;34m\u001b[0m\u001b[0;34m\u001b[0m\u001b[0m\n\u001b[0m\u001b[1;32m     12\u001b[0m \u001b[0mplt\u001b[0m\u001b[0;34m.\u001b[0m\u001b[0mshow\u001b[0m\u001b[0;34m(\u001b[0m\u001b[0;34m)\u001b[0m\u001b[0;34m\u001b[0m\u001b[0;34m\u001b[0m\u001b[0m\n",
      "\u001b[0;31mNameError\u001b[0m: name 'plt' is not defined"
     ]
    },
    {
     "data": {
      "image/png": "[encoded data removed]",
      "text/plain": [
       "<Figure size 432x288 with 1 Axes>"
      ]
     },
     "metadata": {},
     "output_type": "display_data"
    }
   ],
   "source": [
    "sequences = tokenizer.texts_to_sequences(docs)\n",
    "sequence_lengths = [len(s) for s in sequences]\n",
    "if n_sequence is None:\n",
    "    n_sequence = max(sequence_lengths)\n",
    "sequences = pad_sequences(sequences, maxlen=n_sequence, padding=\"post\", truncating=\"post\")\n",
    "\n",
    "print(n_sequence)\n",
    "print(sequences.shape)\n",
    "print(sequences[2])\n",
    "\n",
    "sns.distplot(sequence_lengths)\n",
    "plt.title(\"Document lengths\")\n",
    "plt.show()"
   ]
  },
  {
   "cell_type": "markdown",
   "metadata": {},
   "source": [
    "### As document-term matrix"
   ]
  },
  {
   "cell_type": "code",
   "execution_count": 8,
   "metadata": {},
   "outputs": [],
   "source": [
    "# doc_term_matrix = tokenizer.texts_to_matrix(docs, mode=\"tfidf\")\n",
    "\n",
    "# print(doc_term_matrix.shape)\n",
    "# print(doc_term_matrix[2])"
   ]
  },
  {
   "cell_type": "markdown",
   "metadata": {},
   "source": [
    "## Word embeddings"
   ]
  },
  {
   "cell_type": "code",
   "execution_count": 9,
   "metadata": {
    "pycharm": {
     "name": "#%%\n"
    }
   },
   "outputs": [],
   "source": [
    "n_embedding = 256"
   ]
  },
  {
   "cell_type": "markdown",
   "metadata": {},
   "source": [
    "### Word2Vec"
   ]
  },
  {
   "cell_type": "code",
   "execution_count": 10,
   "metadata": {
    "pycharm": {
     "name": "#%%\n"
    }
   },
   "outputs": [
    {
     "name": "stdout",
     "output_type": "stream",
     "text": [
      "160759\n"
     ]
    }
   ],
   "source": [
    "reset_seed()\n",
    "\n",
    "window = 5\n",
    "w2v_path = f\"data/w2v_{window}_{n_embedding}.model\"\n",
    "\n",
    "try:\n",
    "    embedding_model = Word2Vec.load(w2v_path)\n",
    "except:\n",
    "    embedding_model = Word2Vec(sentences=[s.split() for s in docs],\n",
    "                               size=n_embedding, \n",
    "                               window=window,\n",
    "                               min_count=5,\n",
    "                               sg=1,\n",
    "                               workers=cpu_count(),\n",
    "                               seed=seed)\n",
    "    embedding_model.save(w2v_path)\n",
    "\n",
    "print(len(list(embedding_model.wv.vocab)))"
   ]
  },
  {
   "cell_type": "markdown",
   "metadata": {},
   "source": [
    "### Creating embedding matrix"
   ]
  },
  {
   "cell_type": "code",
   "execution_count": 11,
   "metadata": {
    "pycharm": {
     "name": "#%%\n"
    }
   },
   "outputs": [
    {
     "name": "stdout",
     "output_type": "stream",
     "text": [
      "(5000, 256)\n",
      "[ 0.17539258 -0.06530272  0.01657451 -0.04425292  0.04128651 -0.18300489\n",
      " -0.16919801  0.0480488  -0.09133328  0.02587506 -0.01967425  0.09945878\n",
      " -0.05600481 -0.01685121 -0.03599447 -0.14082797 -0.01086318 -0.07289494\n",
      "  0.0402003  -0.04027929  0.18171482 -0.04842717  0.03684806 -0.0510481\n",
      "  0.20940183 -0.09696906 -0.08415043  0.0408814  -0.1309191  -0.13459311\n",
      "  0.46689954 -0.18623862  0.05366851 -0.05996224 -0.13319956 -0.24100822\n",
      "  0.05342331  0.14736585 -0.25805563  0.31074879 -0.32781357 -0.07095104\n",
      " -0.28958547  0.1536327   0.02000534 -0.08507846  0.00419282  0.01348357\n",
      "  0.06239876  0.19682285  0.19862361  0.06192612 -0.26880991  0.2868703\n",
      " -0.0284104   0.15227671 -0.22509414 -0.03397212  0.19979669 -0.04593811\n",
      "  0.1099792   0.01548944  0.16921869 -0.05802288 -0.32499835 -0.22160961\n",
      "  0.05431951 -0.05393629 -0.12470939 -0.03527912 -0.13933805 -0.10993122\n",
      " -0.01807112  0.18888257  0.37824026 -0.01249813 -0.03216061  0.16550902\n",
      " -0.11490405 -0.01706733 -0.0514022   0.10116427 -0.130915    0.19338837\n",
      "  0.24273583 -0.00947426  0.30365273  0.03064616  0.18221951 -0.04491771\n",
      " -0.21273483 -0.24777821  0.02345441  0.05513225  0.1793272   0.03420166\n",
      " -0.18700144 -0.16802149 -0.28900376  0.0134374   0.03601675 -0.01163298\n",
      "  0.24012862  0.38268062  0.29534483 -0.27307516  0.04336878 -0.20751141\n",
      "  0.15435676 -0.08344068 -0.10993855 -0.17020415  0.06080034 -0.19585659\n",
      " -0.06725669  0.10815314  0.18448977 -0.07454921 -0.03538286  0.10004397\n",
      "  0.02752361  0.10776202  0.27716571 -0.05569452 -0.22527045 -0.02368113\n",
      "  0.09049397  0.0362593   0.19314586  0.08720578 -0.20488213 -0.20601141\n",
      " -0.10168479  0.17306291 -0.15095626  0.20141339 -0.13031159 -0.2930311\n",
      " -0.10822594  0.13211681  0.12574936  0.15788476  0.03777872  0.05430784\n",
      " -0.02028085  0.08589081 -0.21433343 -0.29437518  0.38365856  0.01160286\n",
      " -0.22568278 -0.14324558 -0.27164212  0.04557002 -0.13594957 -0.07154472\n",
      "  0.25594142  0.27295801  0.23213175 -0.03170679  0.11953311  0.22423805\n",
      " -0.01673799 -0.05699946 -0.01785685  0.24200006  0.12270408  0.17886715\n",
      "  0.0582417   0.14881539  0.01145595  0.04585166  0.09956992 -0.07195296\n",
      " -0.06057838 -0.08374508 -0.01611461  0.24108276  0.12190975  0.15812506\n",
      " -0.19581009 -0.05357343 -0.1043957   0.04154731  0.05999554  0.16421185\n",
      " -0.00090712  0.05096835  0.07182094  0.23206605 -0.3490572  -0.15049285\n",
      " -0.16728461 -0.05582473  0.14193003  0.20580016 -0.0392748   0.09812338\n",
      " -0.26545608 -0.07239714  0.04259603  0.14496258  0.04230931 -0.23860203\n",
      " -0.03784676  0.02618643 -0.2071041   0.27838406  0.1649868  -0.09336159\n",
      " -0.0873594  -0.15951253  0.19413736  0.12089252  0.21618286 -0.16223127\n",
      " -0.07440235  0.02845805  0.21510532  0.17645378  0.11504612 -0.02777657\n",
      " -0.04655509  0.13731882 -0.23620516  0.08973085 -0.0328036  -0.23520076\n",
      " -0.08269925  0.15170757  0.16480862 -0.0363976  -0.14947772  0.23924245\n",
      " -0.22964537  0.06673072 -0.47210285  0.41494066  0.24518292 -0.02160032\n",
      "  0.06904915  0.14805193 -0.08515078  0.04349629  0.32536653 -0.02567887\n",
      " -0.19432268 -0.05296799  0.1826788  -0.12634988 -0.14461832  0.10669609\n",
      "  0.00451408  0.14421134  0.16422415  0.35485816]\n"
     ]
    }
   ],
   "source": [
    "embedding_matrix = np.zeros((n_vocabulary, n_embedding))\n",
    "for token, i in word_idx.items():\n",
    "    if i >= n_vocabulary:\n",
    "        continue\n",
    "    if token in embedding_model:\n",
    "        embedding_matrix[i] = embedding_model[token]\n",
    "    else:\n",
    "        embedding_matrix[i] = np.zeros(n_embedding)\n",
    "\n",
    "print(embedding_matrix.shape)\n",
    "print(embedding_matrix[1])"
   ]
  },
  {
   "cell_type": "markdown",
   "metadata": {},
   "source": [
    "## Defining the NN model"
   ]
  },
  {
   "cell_type": "code",
   "execution_count": 21,
   "metadata": {
    "pycharm": {
     "name": "#%%\n"
    }
   },
   "outputs": [
    {
     "name": "stdout",
     "output_type": "stream",
     "text": [
      "Model: \"sequential_6\"\n",
      "_________________________________________________________________\n",
      "Layer (type)                 Output Shape              Param #   \n",
      "=================================================================\n",
      "embedding_6 (Embedding)      (None, 64, 256)           1280000   \n",
      "_________________________________________________________________\n",
      "dropout_30 (Dropout)         (None, 64, 256)           0         \n",
      "_________________________________________________________________\n",
      "conv1d_12 (Conv1D)           (None, 60, 64)            81984     \n",
      "_________________________________________________________________\n",
      "dropout_31 (Dropout)         (None, 60, 64)            0         \n",
      "_________________________________________________________________\n",
      "conv1d_13 (Conv1D)           (None, 56, 128)           41088     \n",
      "_________________________________________________________________\n",
      "dropout_32 (Dropout)         (None, 56, 128)           0         \n",
      "_________________________________________________________________\n",
      "flatten_6 (Flatten)          (None, 7168)              0         \n",
      "_________________________________________________________________\n",
      "dense_18 (Dense)             (None, 128)               917632    \n",
      "_________________________________________________________________\n",
      "batch_normalization_12 (Batc (None, 128)               512       \n",
      "_________________________________________________________________\n",
      "re_lu_12 (ReLU)              (None, 128)               0         \n",
      "_________________________________________________________________\n",
      "dropout_33 (Dropout)         (None, 128)               0         \n",
      "_________________________________________________________________\n",
      "dense_19 (Dense)             (None, 128)               16512     \n",
      "_________________________________________________________________\n",
      "batch_normalization_13 (Batc (None, 128)               512       \n",
      "_________________________________________________________________\n",
      "re_lu_13 (ReLU)              (None, 128)               0         \n",
      "_________________________________________________________________\n",
      "dropout_34 (Dropout)         (None, 128)               0         \n",
      "_________________________________________________________________\n",
      "dense_20 (Dense)             (None, 126)               16254     \n",
      "=================================================================\n",
      "Total params: 2,354,494\n",
      "Trainable params: 1,073,982\n",
      "Non-trainable params: 1,280,512\n",
      "_________________________________________________________________\n"
     ]
    }
   ],
   "source": [
    "def init_model():\n",
    "    model = Sequential()\n",
    "    \n",
    "#     model.add(Embedding(input_dim=n_vocabulary, output_dim=n_embedding, input_length=n_sequence))\n",
    "    model.add(Embedding(\n",
    "        input_dim=n_vocabulary,\n",
    "        output_dim=n_embedding,\n",
    "        embeddings_initializer=Constant(embedding_matrix),\n",
    "        input_length=n_sequence,\n",
    "        trainable=False\n",
    "    ))\n",
    "\n",
    "    model.add(Dropout(.25))\n",
    "    model.add(Conv1D(64, 5, activation=\"relu\"))\n",
    "    model.add(Dropout(.25))\n",
    "    model.add(Conv1D(128, 5, activation=\"relu\"))\n",
    "    model.add(Dropout(.25))\n",
    "    model.add(Flatten())\n",
    "    model.add(Dense(128))\n",
    "    model.add(BatchNormalization())\n",
    "    model.add(ReLU())\n",
    "    model.add(Dropout(.25))\n",
    "    model.add(Dense(128))\n",
    "    model.add(BatchNormalization())\n",
    "    model.add(ReLU())\n",
    "    model.add(Dropout(.25))\n",
    "    \n",
    "#     model.add(GRU(128, dropout=.2))\n",
    "\n",
    "#     model.add(Dropout(.25))\n",
    "#     model.add(Conv1D(64, 5, activation=\"relu\"))\n",
    "#     model.add(Dropout(.25))\n",
    "#     model.add(Conv1D(128, 5, activation=\"relu\"))\n",
    "#     model.add(Dropout(.25))\n",
    "#     model.add(Flatten())\n",
    "#     model.add(Dense(128))\n",
    "#     model.add(BatchNormalization())\n",
    "#     model.add(ReLU())\n",
    "#     model.add(Dropout(.25))\n",
    "#     model.add(Dense(128))\n",
    "#     model.add(BatchNormalization())\n",
    "#     model.add(ReLU())\n",
    "#     model.add(Dropout(.25))\n",
    "\n",
    "#     model.add(Bidirectional(LSTM(256, return_sequences=True)))\n",
    "#     model.add(Bidirectional(LSTM(128)))\n",
    "#     model.add(Dense(128, activation=\"relu\"))\n",
    "#     model.add(Dropout(.5))\n",
    "\n",
    "#     model.add(Dense(512, activation=\"relu\", input_shape=(n_vocabulary,)))\n",
    "#     model.add(Dropout(.5))\n",
    "\n",
    "#     model.add(Conv1D(100, 4, activation=\"relu\"))\n",
    "#     model.add(MaxPooling1D(pool_size=3))\n",
    "#     model.add(Conv1D(100, 2, activation=\"relu\"))\n",
    "#     model.add(Dropout(.5))\n",
    "#     model.add(Flatten())\n",
    "#     model.add(Dense(300, activation=\"relu\"))\n",
    "    \n",
    "    model.add(Dense(n_labels, activation=\"sigmoid\"))\n",
    "    model.compile(loss=\"binary_crossentropy\", optimizer=\"adam\")\n",
    "    \n",
    "    return model\n",
    "\n",
    "init_model().summary()"
   ]
  },
  {
   "cell_type": "markdown",
   "metadata": {},
   "source": [
    "## Preparing the data"
   ]
  },
  {
   "cell_type": "code",
   "execution_count": 22,
   "metadata": {},
   "outputs": [],
   "source": [
    "n_samples = None\n",
    "x_train, y_train = shuffle(sequences, train_labels, random_state=seed, n_samples=n_samples)"
   ]
  },
  {
   "cell_type": "markdown",
   "metadata": {},
   "source": [
    "## Cross-evaluating the model"
   ]
  },
  {
   "cell_type": "code",
   "execution_count": 23,
   "metadata": {
    "pycharm": {
     "name": "#%%\n"
    }
   },
   "outputs": [
    {
     "name": "stdout",
     "output_type": "stream",
     "text": [
      "Epoch 1/100\n",
      "1874/1874 [==============================] - 19s 10ms/step - loss: 0.0490 - val_loss: 0.0246\n",
      "Epoch 2/100\n",
      "1874/1874 [==============================] - 19s 10ms/step - loss: 0.0261 - val_loss: 0.0211\n",
      "Epoch 3/100\n",
      "1874/1874 [==============================] - 19s 10ms/step - loss: 0.0238 - val_loss: 0.0199\n",
      "Epoch 4/100\n",
      "1874/1874 [==============================] - 19s 10ms/step - loss: 0.0227 - val_loss: 0.0196\n",
      "Epoch 5/100\n",
      "1874/1874 [==============================] - 19s 10ms/step - loss: 0.0219 - val_loss: 0.0190\n",
      "Epoch 6/100\n",
      "1874/1874 [==============================] - 19s 10ms/step - loss: 0.0214 - val_loss: 0.0186\n",
      "Epoch 7/100\n",
      "1874/1874 [==============================] - 19s 10ms/step - loss: 0.0210 - val_loss: 0.0185\n",
      "Epoch 8/100\n",
      "1874/1874 [==============================] - 19s 10ms/step - loss: 0.0207 - val_loss: 0.0185\n",
      "Epoch 9/100\n",
      "1874/1874 [==============================] - 19s 10ms/step - loss: 0.0205 - val_loss: 0.0182\n",
      "Epoch 10/100\n",
      "1874/1874 [==============================] - 19s 10ms/step - loss: 0.0203 - val_loss: 0.0182\n",
      "Epoch 11/100\n",
      "1874/1874 [==============================] - 19s 10ms/step - loss: 0.0200 - val_loss: 0.0180\n",
      "Epoch 12/100\n",
      "1874/1874 [==============================] - 19s 10ms/step - loss: 0.0199 - val_loss: 0.0183\n",
      "Epoch 13/100\n",
      "1874/1874 [==============================] - 19s 10ms/step - loss: 0.0197 - val_loss: 0.0178\n",
      "Epoch 14/100\n",
      "1874/1874 [==============================] - 19s 10ms/step - loss: 0.0196 - val_loss: 0.0178\n",
      "Epoch 15/100\n",
      "1874/1874 [==============================] - 19s 10ms/step - loss: 0.0194 - val_loss: 0.0178\n",
      "Epoch 16/100\n",
      "1874/1874 [==============================] - 19s 10ms/step - loss: 0.0193 - val_loss: 0.0178\n",
      "Epoch 17/100\n",
      "1874/1874 [==============================] - 19s 10ms/step - loss: 0.0192 - val_loss: 0.0177\n",
      "Epoch 18/100\n",
      "1874/1874 [==============================] - 19s 10ms/step - loss: 0.0191 - val_loss: 0.0176\n",
      "Epoch 19/100\n",
      "1874/1874 [==============================] - 19s 10ms/step - loss: 0.0190 - val_loss: 0.0177\n",
      "Epoch 20/100\n",
      "1874/1874 [==============================] - 19s 10ms/step - loss: 0.0190 - val_loss: 0.0177\n",
      "Epoch 21/100\n",
      "1874/1874 [==============================] - 19s 10ms/step - loss: 0.0188 - val_loss: 0.0176\n",
      "Epoch 22/100\n",
      "1874/1874 [==============================] - 19s 10ms/step - loss: 0.0188 - val_loss: 0.0176\n",
      "Epoch 23/100\n",
      "1874/1874 [==============================] - 19s 10ms/step - loss: 0.0187 - val_loss: 0.0176\n",
      "Epoch 24/100\n",
      "1874/1874 [==============================] - 19s 10ms/step - loss: 0.0186 - val_loss: 0.0175\n",
      "Epoch 25/100\n",
      "1874/1874 [==============================] - 19s 10ms/step - loss: 0.0186 - val_loss: 0.0176\n",
      "Epoch 26/100\n",
      "1874/1874 [==============================] - 19s 10ms/step - loss: 0.0186 - val_loss: 0.0177\n",
      "Epoch 27/100\n",
      "1870/1874 [============================>.] - ETA: 0s - loss: 0.0185Restoring model weights from the end of the best epoch.\n",
      "1874/1874 [==============================] - 19s 10ms/step - loss: 0.0185 - val_loss: 0.0176\n",
      "Epoch 00027: early stopping\n",
      "469/469 [==============================] - 2s 4ms/step\n",
      "{'accuracy': 0.6664164790259361, 'F1 (macro)': 0.518672558603921, 'F1 (micro)': 0.87664312010363, 'LRAP': 0.9472327326667528, 'NDCG': 0.969944682792248}\n",
      "Epoch 1/100\n",
      "1874/1874 [==============================] - 19s 10ms/step - loss: 0.0492 - val_loss: 0.0245\n",
      "Epoch 2/100\n",
      "1874/1874 [==============================] - 19s 10ms/step - loss: 0.0262 - val_loss: 0.0217\n",
      "Epoch 3/100\n",
      "1874/1874 [==============================] - 19s 10ms/step - loss: 0.0239 - val_loss: 0.0201\n",
      "Epoch 4/100\n",
      "1874/1874 [==============================] - 19s 10ms/step - loss: 0.0227 - val_loss: 0.0196\n",
      "Epoch 5/100\n",
      "1874/1874 [==============================] - 19s 10ms/step - loss: 0.0220 - val_loss: 0.0189\n",
      "Epoch 6/100\n",
      "1874/1874 [==============================] - 19s 10ms/step - loss: 0.0215 - val_loss: 0.0187\n",
      "Epoch 7/100\n",
      "1874/1874 [==============================] - 19s 10ms/step - loss: 0.0211 - val_loss: 0.0186\n",
      "Epoch 8/100\n",
      "1874/1874 [==============================] - 19s 10ms/step - loss: 0.0208 - val_loss: 0.0185\n",
      "Epoch 9/100\n",
      "1874/1874 [==============================] - 19s 10ms/step - loss: 0.0205 - val_loss: 0.0188\n",
      "Epoch 10/100\n",
      "1874/1874 [==============================] - 19s 10ms/step - loss: 0.0203 - val_loss: 0.0182\n",
      "Epoch 11/100\n",
      "1874/1874 [==============================] - 19s 10ms/step - loss: 0.0200 - val_loss: 0.0180\n",
      "Epoch 12/100\n",
      "1874/1874 [==============================] - 19s 10ms/step - loss: 0.0198 - val_loss: 0.0182\n",
      "Epoch 13/100\n",
      "1874/1874 [==============================] - 19s 10ms/step - loss: 0.0197 - val_loss: 0.0179\n",
      "Epoch 14/100\n",
      "1874/1874 [==============================] - 19s 10ms/step - loss: 0.0196 - val_loss: 0.0178\n",
      "Epoch 15/100\n",
      "1874/1874 [==============================] - 19s 10ms/step - loss: 0.0195 - val_loss: 0.0179\n",
      "Epoch 16/100\n",
      "1874/1874 [==============================] - 19s 10ms/step - loss: 0.0193 - val_loss: 0.0179\n",
      "Epoch 17/100\n",
      "1874/1874 [==============================] - 19s 10ms/step - loss: 0.0192 - val_loss: 0.0178\n",
      "Epoch 18/100\n",
      "1874/1874 [==============================] - 19s 10ms/step - loss: 0.0192 - val_loss: 0.0179\n",
      "Epoch 19/100\n",
      "1874/1874 [==============================] - 19s 10ms/step - loss: 0.0190 - val_loss: 0.0178\n",
      "Epoch 20/100\n",
      "1874/1874 [==============================] - 19s 10ms/step - loss: 0.0189 - val_loss: 0.0178\n",
      "Epoch 21/100\n",
      "1874/1874 [==============================] - 19s 10ms/step - loss: 0.0189 - val_loss: 0.0177\n",
      "Epoch 22/100\n",
      "1874/1874 [==============================] - 19s 10ms/step - loss: 0.0188 - val_loss: 0.0178\n",
      "Epoch 23/100\n",
      "1874/1874 [==============================] - 19s 10ms/step - loss: 0.0187 - val_loss: 0.0177\n",
      "Epoch 24/100\n",
      "1871/1874 [============================>.] - ETA: 0s - loss: 0.0187Restoring model weights from the end of the best epoch.\n",
      "1874/1874 [==============================] - 19s 10ms/step - loss: 0.0187 - val_loss: 0.0177\n",
      "Epoch 00024: early stopping\n",
      "469/469 [==============================] - 2s 4ms/step\n",
      "{'accuracy': 0.6642481861396047, 'F1 (macro)': 0.5181262993319732, 'F1 (micro)': 0.8759285737322482, 'LRAP': 0.9460460347487761, 'NDCG': 0.9691631960390721}\n",
      "Epoch 1/100\n",
      "1874/1874 [==============================] - 19s 10ms/step - loss: 0.0483 - val_loss: 0.0240\n",
      "Epoch 2/100\n",
      "1874/1874 [==============================] - 19s 10ms/step - loss: 0.0260 - val_loss: 0.0208\n",
      "Epoch 3/100\n",
      "1874/1874 [==============================] - 19s 10ms/step - loss: 0.0238 - val_loss: 0.0196\n",
      "Epoch 4/100\n",
      "1874/1874 [==============================] - 19s 10ms/step - loss: 0.0227 - val_loss: 0.0191\n",
      "Epoch 5/100\n",
      "1874/1874 [==============================] - 19s 10ms/step - loss: 0.0220 - val_loss: 0.0189\n",
      "Epoch 6/100\n",
      "1874/1874 [==============================] - 19s 10ms/step - loss: 0.0214 - val_loss: 0.0185\n",
      "Epoch 7/100\n",
      "1874/1874 [==============================] - 19s 10ms/step - loss: 0.0210 - val_loss: 0.0182\n",
      "Epoch 8/100\n",
      "1874/1874 [==============================] - 19s 10ms/step - loss: 0.0207 - val_loss: 0.0184\n",
      "Epoch 9/100\n",
      "1874/1874 [==============================] - 19s 10ms/step - loss: 0.0205 - val_loss: 0.0181\n",
      "Epoch 10/100\n",
      "1874/1874 [==============================] - 19s 10ms/step - loss: 0.0202 - val_loss: 0.0180\n",
      "Epoch 11/100\n",
      "1874/1874 [==============================] - 19s 10ms/step - loss: 0.0201 - val_loss: 0.0179\n",
      "Epoch 12/100\n",
      "1874/1874 [==============================] - 19s 10ms/step - loss: 0.0199 - val_loss: 0.0177\n",
      "Epoch 13/100\n",
      "1874/1874 [==============================] - 19s 10ms/step - loss: 0.0198 - val_loss: 0.0177\n",
      "Epoch 14/100\n",
      "1874/1874 [==============================] - 19s 10ms/step - loss: 0.0196 - val_loss: 0.0176\n",
      "Epoch 15/100\n",
      "1874/1874 [==============================] - 19s 10ms/step - loss: 0.0195 - val_loss: 0.0177\n",
      "Epoch 16/100\n",
      "1874/1874 [==============================] - 19s 10ms/step - loss: 0.0194 - val_loss: 0.0176\n",
      "Epoch 17/100\n",
      "1874/1874 [==============================] - 19s 10ms/step - loss: 0.0193 - val_loss: 0.0175\n",
      "Epoch 18/100\n",
      "1874/1874 [==============================] - 19s 10ms/step - loss: 0.0192 - val_loss: 0.0175\n",
      "Epoch 19/100\n",
      "1874/1874 [==============================] - 19s 10ms/step - loss: 0.0190 - val_loss: 0.0176\n",
      "Epoch 20/100\n"
     ]
    },
    {
     "name": "stdout",
     "output_type": "stream",
     "text": [
      "1869/1874 [============================>.] - ETA: 0s - loss: 0.0190Restoring model weights from the end of the best epoch.\n",
      "1874/1874 [==============================] - 19s 10ms/step - loss: 0.0190 - val_loss: 0.0175\n",
      "Epoch 00020: early stopping\n",
      "469/469 [==============================] - 2s 4ms/step\n",
      "{'accuracy': 0.6645817696605788, 'F1 (macro)': 0.5177131605124335, 'F1 (micro)': 0.8759829500514251, 'LRAP': 0.9470441251769898, 'NDCG': 0.9699883856895896}\n",
      "Epoch 1/100\n",
      "1874/1874 [==============================] - 19s 10ms/step - loss: 0.0492 - val_loss: 0.0242\n",
      "Epoch 2/100\n",
      "1874/1874 [==============================] - 19s 10ms/step - loss: 0.0261 - val_loss: 0.0210\n",
      "Epoch 3/100\n",
      "1874/1874 [==============================] - 19s 10ms/step - loss: 0.0238 - val_loss: 0.0200\n",
      "Epoch 4/100\n",
      "1874/1874 [==============================] - 19s 10ms/step - loss: 0.0226 - val_loss: 0.0194\n",
      "Epoch 5/100\n",
      "1874/1874 [==============================] - 20s 11ms/step - loss: 0.0219 - val_loss: 0.0189\n",
      "Epoch 6/100\n",
      "1874/1874 [==============================] - 19s 10ms/step - loss: 0.0214 - val_loss: 0.0186\n",
      "Epoch 7/100\n",
      "1874/1874 [==============================] - 19s 10ms/step - loss: 0.0210 - val_loss: 0.0183\n",
      "Epoch 8/100\n",
      "1874/1874 [==============================] - 19s 10ms/step - loss: 0.0207 - val_loss: 0.0187\n",
      "Epoch 9/100\n",
      "1874/1874 [==============================] - 19s 10ms/step - loss: 0.0205 - val_loss: 0.0181\n",
      "Epoch 10/100\n",
      "1874/1874 [==============================] - 19s 10ms/step - loss: 0.0202 - val_loss: 0.0181\n",
      "Epoch 11/100\n",
      "1874/1874 [==============================] - 19s 10ms/step - loss: 0.0201 - val_loss: 0.0179\n",
      "Epoch 12/100\n",
      "1874/1874 [==============================] - 19s 10ms/step - loss: 0.0199 - val_loss: 0.0180\n",
      "Epoch 13/100\n",
      "1874/1874 [==============================] - 19s 10ms/step - loss: 0.0197 - val_loss: 0.0180\n",
      "Epoch 14/100\n",
      "1873/1874 [============================>.] - ETA: 0s - loss: 0.0196Restoring model weights from the end of the best epoch.\n",
      "1874/1874 [==============================] - 19s 10ms/step - loss: 0.0196 - val_loss: 0.0179\n",
      "Epoch 00014: early stopping\n",
      "469/469 [==============================] - 2s 4ms/step\n",
      "{'accuracy': 0.658938519531641, 'F1 (macro)': 0.5087649883225681, 'F1 (micro)': 0.872640732166542, 'LRAP': 0.9445213470274861, 'NDCG': 0.9684954381799842}\n",
      "Epoch 1/100\n",
      "1874/1874 [==============================] - 19s 10ms/step - loss: 0.0494 - val_loss: 0.0242\n",
      "Epoch 2/100\n",
      "1874/1874 [==============================] - 19s 10ms/step - loss: 0.0261 - val_loss: 0.0214\n",
      "Epoch 3/100\n",
      "1874/1874 [==============================] - 19s 10ms/step - loss: 0.0238 - val_loss: 0.0204\n",
      "Epoch 4/100\n",
      "1874/1874 [==============================] - 19s 10ms/step - loss: 0.0227 - val_loss: 0.0194\n",
      "Epoch 5/100\n",
      "1874/1874 [==============================] - 19s 10ms/step - loss: 0.0219 - val_loss: 0.0193\n",
      "Epoch 6/100\n",
      "1874/1874 [==============================] - 19s 10ms/step - loss: 0.0214 - val_loss: 0.0189\n",
      "Epoch 7/100\n",
      "1874/1874 [==============================] - 19s 10ms/step - loss: 0.0210 - val_loss: 0.0187\n",
      "Epoch 8/100\n",
      "1874/1874 [==============================] - 19s 10ms/step - loss: 0.0207 - val_loss: 0.0187\n",
      "Epoch 9/100\n",
      "1874/1874 [==============================] - 19s 10ms/step - loss: 0.0204 - val_loss: 0.0185\n",
      "Epoch 10/100\n",
      "1874/1874 [==============================] - 19s 10ms/step - loss: 0.0202 - val_loss: 0.0183\n",
      "Epoch 11/100\n",
      "1874/1874 [==============================] - 19s 10ms/step - loss: 0.0200 - val_loss: 0.0181\n",
      "Epoch 12/100\n",
      "1874/1874 [==============================] - 19s 10ms/step - loss: 0.0198 - val_loss: 0.0181\n",
      "Epoch 13/100\n",
      "1874/1874 [==============================] - 19s 10ms/step - loss: 0.0196 - val_loss: 0.0182\n",
      "Epoch 14/100\n",
      "1874/1874 [==============================] - 19s 10ms/step - loss: 0.0195 - val_loss: 0.0181\n",
      "Epoch 15/100\n",
      "1874/1874 [==============================] - 19s 10ms/step - loss: 0.0194 - val_loss: 0.0180\n",
      "Epoch 16/100\n",
      "1874/1874 [==============================] - 19s 10ms/step - loss: 0.0193 - val_loss: 0.0180\n",
      "Epoch 17/100\n",
      "1874/1874 [==============================] - 19s 10ms/step - loss: 0.0192 - val_loss: 0.0180\n",
      "Epoch 18/100\n",
      "1874/1874 [==============================] - 19s 10ms/step - loss: 0.0191 - val_loss: 0.0179\n",
      "Epoch 19/100\n",
      "1874/1874 [==============================] - 19s 10ms/step - loss: 0.0190 - val_loss: 0.0178\n",
      "Epoch 20/100\n",
      "1874/1874 [==============================] - 19s 10ms/step - loss: 0.0189 - val_loss: 0.0180\n",
      "Epoch 21/100\n",
      "1874/1874 [==============================] - 19s 10ms/step - loss: 0.0188 - val_loss: 0.0177\n",
      "Epoch 22/100\n",
      "1874/1874 [==============================] - 19s 10ms/step - loss: 0.0187 - val_loss: 0.0181\n",
      "Epoch 23/100\n",
      "1874/1874 [==============================] - 19s 10ms/step - loss: 0.0187 - val_loss: 0.0179\n",
      "Epoch 24/100\n",
      "1869/1874 [============================>.] - ETA: 0s - loss: 0.0186Restoring model weights from the end of the best epoch.\n",
      "1874/1874 [==============================] - 19s 10ms/step - loss: 0.0186 - val_loss: 0.0178\n",
      "Epoch 00024: early stopping\n",
      "469/469 [==============================] - 2s 4ms/step\n",
      "{'accuracy': 0.6617239883910998, 'F1 (macro)': 0.5260658069024204, 'F1 (micro)': 0.8763356001305505, 'LRAP': 0.9461341478903448, 'NDCG': 0.9695783063999337}\n"
     ]
    }
   ],
   "source": [
    "reset_seed()\n",
    "\n",
    "kfold = KFold(n_splits=5)\n",
    "cv_scores = []\n",
    "batch_size = 128\n",
    "\n",
    "for train, val in kfold.split(x_train, y_train):\n",
    "    model = init_model()\n",
    "    es = EarlyStopping(patience=3, verbose=1, restore_best_weights=True)\n",
    "    history = model.fit(x_train[train],\n",
    "                        y_train[train],\n",
    "                        batch_size=batch_size,\n",
    "                        epochs=100,\n",
    "                        verbose=1,\n",
    "                        validation_data=(x_train[val], y_train[val]),\n",
    "                        callbacks=[es])\n",
    "    \n",
    "    y_pred_prob = model.predict(x_train[val], batch_size=batch_size, verbose=1)\n",
    "    y_pred = np.round(y_pred_prob)\n",
    "    \n",
    "    scores = {}\n",
    "    scores[\"accuracy\"] = accuracy_score(y_train[val], y_pred)\n",
    "    scores[\"F1 (macro)\"] = f1_score(y_train[val], y_pred, average=\"macro\")\n",
    "    scores[\"F1 (micro)\"] = f1_score(y_train[val], y_pred, average=\"micro\")\n",
    "    scores[\"LRAP\"] = label_ranking_average_precision_score(y_train[val], y_pred_prob)\n",
    "    scores[\"NDCG\"] = ndcg_score(y_train[val], y_pred_prob)\n",
    "    cv_scores.append(scores)\n",
    "    print(scores)\n",
    "    \n",
    "cv_scores_df = pd.DataFrame(cv_scores)"
   ]
  },
  {
   "cell_type": "markdown",
   "metadata": {},
   "source": [
    "## Metrics and their means"
   ]
  },
  {
   "cell_type": "code",
   "execution_count": 24,
   "metadata": {},
   "outputs": [
    {
     "data": {
      "text/html": [
       "<div>\n",
       "<style scoped>\n",
       "    .dataframe tbody tr th:only-of-type {\n",
       "        vertical-align: middle;\n",
       "    }\n",
       "\n",
       "    .dataframe tbody tr th {\n",
       "        vertical-align: top;\n",
       "    }\n",
       "\n",
       "    .dataframe thead th {\n",
       "        text-align: right;\n",
       "    }\n",
       "</style>\n",
       "<table border=\"1\" class=\"dataframe\">\n",
       "  <thead>\n",
       "    <tr style=\"text-align: right;\">\n",
       "      <th></th>\n",
       "      <th>accuracy</th>\n",
       "      <th>F1 (macro)</th>\n",
       "      <th>F1 (micro)</th>\n",
       "      <th>LRAP</th>\n",
       "      <th>NDCG</th>\n",
       "    </tr>\n",
       "  </thead>\n",
       "  <tbody>\n",
       "    <tr>\n",
       "      <th>0</th>\n",
       "      <td>0.666416</td>\n",
       "      <td>0.518673</td>\n",
       "      <td>0.876643</td>\n",
       "      <td>0.947233</td>\n",
       "      <td>0.969945</td>\n",
       "    </tr>\n",
       "    <tr>\n",
       "      <th>1</th>\n",
       "      <td>0.664248</td>\n",
       "      <td>0.518126</td>\n",
       "      <td>0.875929</td>\n",
       "      <td>0.946046</td>\n",
       "      <td>0.969163</td>\n",
       "    </tr>\n",
       "    <tr>\n",
       "      <th>2</th>\n",
       "      <td>0.664582</td>\n",
       "      <td>0.517713</td>\n",
       "      <td>0.875983</td>\n",
       "      <td>0.947044</td>\n",
       "      <td>0.969988</td>\n",
       "    </tr>\n",
       "    <tr>\n",
       "      <th>3</th>\n",
       "      <td>0.658939</td>\n",
       "      <td>0.508765</td>\n",
       "      <td>0.872641</td>\n",
       "      <td>0.944521</td>\n",
       "      <td>0.968495</td>\n",
       "    </tr>\n",
       "    <tr>\n",
       "      <th>4</th>\n",
       "      <td>0.661724</td>\n",
       "      <td>0.526066</td>\n",
       "      <td>0.876336</td>\n",
       "      <td>0.946134</td>\n",
       "      <td>0.969578</td>\n",
       "    </tr>\n",
       "  </tbody>\n",
       "</table>\n",
       "</div>"
      ],
      "text/plain": [
       "   accuracy  F1 (macro)  F1 (micro)      LRAP      NDCG\n",
       "0  0.666416    0.518673    0.876643  0.947233  0.969945\n",
       "1  0.664248    0.518126    0.875929  0.946046  0.969163\n",
       "2  0.664582    0.517713    0.875983  0.947044  0.969988\n",
       "3  0.658939    0.508765    0.872641  0.944521  0.968495\n",
       "4  0.661724    0.526066    0.876336  0.946134  0.969578"
      ]
     },
     "metadata": {},
     "output_type": "display_data"
    },
    {
     "name": "stdout",
     "output_type": "stream",
     "text": [
      "accuracy      0.663182\n",
      "F1 (macro)    0.517869\n",
      "F1 (micro)    0.875506\n",
      "LRAP          0.946196\n",
      "NDCG          0.969434\n",
      "dtype: float64\n"
     ]
    }
   ],
   "source": [
    "display(cv_scores_df)\n",
    "print(cv_scores_df.mean())"
   ]
  }
 ],
 "metadata": {
  "kernelspec": {
   "display_name": "Python 3",
   "language": "python",
   "name": "python3"
  },
  "language_info": {
   "codemirror_mode": {
    "name": "ipython",
    "version": 3
   },
   "file_extension": ".py",
   "mimetype": "text/x-python",
   "name": "python",
   "nbconvert_exporter": "python",
   "pygments_lexer": "ipython3",
   "version": "3.7.3"
  }
 },
 "nbformat": 4,
 "nbformat_minor": 2
}
