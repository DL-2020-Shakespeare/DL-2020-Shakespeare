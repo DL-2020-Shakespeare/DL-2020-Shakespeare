{
 "cells": [
  {
   "cell_type": "code",
   "execution_count": 1,
   "metadata": {
    "pycharm": {
     "name": "#%%\n"
    }
   },
   "outputs": [],
   "source": [
    "import io\n",
    "import os\n",
    "import pickle\n",
    "import random as rn\n",
    "import warnings\n",
    "from importlib import reload\n",
    "from multiprocessing import cpu_count\n",
    "\n",
    "warnings.filterwarnings(\"ignore\")\n",
    "\n",
    "import matplotlib.pyplot as plt\n",
    "import numpy as np\n",
    "import pandas as pd\n",
    "import seaborn as sns\n",
    "import tensorflow as tf\n",
    "from gensim.models import Word2Vec\n",
    "from IPython.display import display\n",
    "from iterstrat.ml_stratifiers import MultilabelStratifiedKFold\n",
    "from sklearn.metrics import accuracy_score, f1_score, hamming_loss, \\\n",
    "        average_precision_score, ndcg_score, \\\n",
    "        label_ranking_average_precision_score\n",
    "from sklearn.model_selection import train_test_split, KFold\n",
    "from sklearn.utils import shuffle\n",
    "from tensorflow.distribute import MirroredStrategy\n",
    "from tensorflow.keras.callbacks import EarlyStopping\n",
    "from tensorflow.keras.initializers import Constant, GlorotUniform\n",
    "from tensorflow.keras.layers import Dense, Dropout, Activation, Embedding, Conv1D, \\\n",
    "        GlobalMaxPooling1D, SpatialDropout1D, LSTM, GRU, Flatten, MaxPooling1D, \\\n",
    "        BatchNormalization, ReLU, Bidirectional\n",
    "from tensorflow.keras.models import Sequential\n",
    "from tensorflow.keras.preprocessing.text import Tokenizer\n",
    "from tensorflow.keras.preprocessing.sequence import pad_sequences\n",
    "\n",
    "import data\n",
    "import models\n",
    "import preprocessing\n",
    "\n",
    "seed = 42\n",
    "sns.set()\n",
    "\n",
    "def reset_seed():\n",
    "    os.environ[\"PYTHONHASHSEED\"] = str(seed)\n",
    "    os.environ[\"TF_DETERMINISTIC_OPS\"] = \"1\"\n",
    "    np.random.seed(seed)\n",
    "    rn.seed(seed)\n",
    "    tf.random.set_seed(seed)"
   ]
  },
  {
   "cell_type": "markdown",
   "metadata": {
    "pycharm": {
     "name": "#%% md\n"
    }
   },
   "source": [
    "## Extracting the data"
   ]
  },
  {
   "cell_type": "code",
   "execution_count": 2,
   "metadata": {
    "pycharm": {
     "name": "#%%\n"
    }
   },
   "outputs": [
    {
     "name": "stdout",
     "output_type": "stream",
     "text": [
      "(299773,)\n",
      "(299773, 126)\n",
      "Toronto stocks end higher after volatile session. CHANGE\t\t\t\t    CHANGE TSE\t  5900.37    +50.15   HI 5900.37\t    LO  5840.29 DJI\t  6611.05    +27.57   GOLD (LONDON)   US$350.00 +1.90 FTSE100    4248.10    -64.80   GOLD (NY-COMEX) US$354.80 +0.70 NIKKEI    17869.59   -133.81   LME CASH NICKEL US$7659   +99.0 CANDLR\t1.3883\t\t LME CASH ALUM   US$1602.0  -4.0 CAN 30-YR   107.41     -0.15   BRENT CRUDE     US$19.09  -0.27 --------------------MARKET COMMENT---------------------------- * Toronto stocks ended higher on Tuesday, buoyed by strength in golds and banking * Computer problems due to heavy trading in Bre-X Minerals hampered session * 84 million shares traded Toronto's key stock index ended higher on Tuesday as the saga of Bre-X Minerals Ltd and its Indonesian gold find continued to dominate Canada's biggest stock market. The TSE 300 Index climbed 50.15 points to close at 5900.37 in heavy turnover of 84.07 million shares worth C$1.4 billion. But the overall market was mixed with declining issues narrowly outpacing advances 476 to 464. 298 issues were flat. Frantic trading in Bre-X collapsed the TSE's computer trading system earlier in the day, forcing the exchange to halt trading in the stock before the market closed. Shares in the Calgary-based gold prospector were halted for a statement by the company this morning. When it resumed, a whopping 7.7 million shares changed hands in the first 22 minutes of trading before the system crashed. Bre-X closed up 1.35 at 3.85. It was the first time Bre-X traded since investors lopped nearly C$3 billion off its stock market value last Thursday. TSE officials said the trading problems were due to old technology which will be replaced. On the Montreal Exchange, Bre-X closed up 0.81 at 3.50 on 9.8 million shares. Analysts predicted more volatility for Bre-X shares this week. \"The question of what Bre-X will release over the next few days will be important to the market,\" said Josef Schachter, of Schachter Asset Management Inc. The gold sector rose nearly 136 points, leading 12 of 14 sub-indices higher. Other strong groups included financial services, consumer products, energy and transportation. The TSE posted minor losses in forestry and real estate. --- HOT STOCKS --- * Among bank shares, Bank of Nova Scotia rose 0.65 to 51.50 on 2.1 million shares, while Canadian Imperial Bank of Commerce added 0.50 to 31.80 on 2.1 million shares. ((Reuters Toronto Bureau (416) 941-8100))\n",
      "[0 0 0 0 0 0 0 0 0 0 0 0 0 0 0 0 0 0 0 0 0 0 0 0 0 0 0 0 0 0 0 0 0 0 0 0 0\n",
      " 0 0 0 0 0 0 0 0 0 0 0 0 0 0 0 0 0 0 0 0 0 0 0 0 0 0 0 0 0 0 0 0 0 0 0 0 0\n",
      " 0 0 0 0 0 0 0 0 0 0 0 0 0 0 0 0 0 0 0 0 0 0 0 0 0 0 0 0 0 0 0 0 0 0 0 0 0\n",
      " 0 0 0 1 0 0 0 0 0 0 0 0 1 0 0]\n"
     ]
    }
   ],
   "source": [
    "# data.extract_data(extraction_dir=\"train\",\n",
    "#                   data_dir=\"data\",\n",
    "#                   data_zip_name=\"reuters-training-corpus.zip\")\n",
    "\n",
    "train_df = pd.read_pickle(\"train/data.pkl\")\n",
    "\n",
    "# train_df = data.get_docs_labels(\"train/REUTERS_CORPUS_2\")\n",
    "# train_df.to_pickle(\"train/data.pkl\")\n",
    "\n",
    "train_docs = train_df[\"doc\"].values\n",
    "train_labels = np.array(train_df[\"labels\"].tolist())\n",
    "n_labels = len(data.CODEMAP)\n",
    "\n",
    "print(train_docs.shape)\n",
    "print(train_labels.shape)\n",
    "print(train_docs[2])\n",
    "print(train_labels[2])"
   ]
  },
  {
   "cell_type": "markdown",
   "metadata": {
    "pycharm": {
     "name": "#%% md\n"
    }
   },
   "source": [
    "## Preprocessing the documents"
   ]
  },
  {
   "cell_type": "code",
   "execution_count": 3,
   "metadata": {
    "pycharm": {
     "name": "#%%\n"
    }
   },
   "outputs": [
    {
     "name": "stdout",
     "output_type": "stream",
     "text": [
      "Toronto stocks end higher after volatile session . CHANGE CHANGE TSE 5900.37 +50.15 HI 5900.37 LO 5840.29 DJI 6611.05 +27.57 GOLD ( LONDON ) US$ 350.00 +1.90 FTSE100 4248.10 -64.80 GOLD ( NY - COMEX ) US$ 354.80 +0.70 NIKKEI 17869.59 -133.81 LME CASH NICKEL US$ 7659 +99.0 CANDLR 1.3883 LME CASH ALUM US$ 1602.0 -4.0 CAN 30-YR 107.41 -0.15 BRENT CRUDE US$ 19.09 -0.27 --------------------MARKET COMMENT---------------------------- * Toronto stocks ended higher on Tuesday , buoyed by strength in golds and banking * Computer problems due to heavy trading in Bre - X Minerals hampered session * 84 million shares traded Toronto 's key stock index ended higher on Tuesday as the saga of Bre - X Minerals Ltd and its Indonesian gold find continued to dominate Canada 's biggest stock market . The TSE 300 Index climbed 50.15 points to close at 5900.37 in heavy turnover of 84.07 million shares worth C$ 1.4 billion . But the overall market was mixed with declining issues narrowly outpacing advances 476 to 464 . 298 issues were flat . Frantic trading in Bre - X collapsed the TSE 's computer trading system earlier in the day , forcing the exchange to halt trading in the stock before the market closed . Shares in the Calgary - based gold prospector were halted for a statement by the company this morning . When it resumed , a whopping 7.7 million shares changed hands in the first 22 minutes of trading before the system crashed . Bre - X closed up 1.35 at 3.85 . It was the first time Bre - X traded since investors lopped nearly C$ 3 billion off its stock market value last Thursday . TSE officials said the trading problems were due to old technology which will be replaced . On the Montreal Exchange , Bre - X closed up 0.81 at 3.50 on 9.8 million shares . Analysts predicted more volatility for Bre - X shares this week . \" The question of what Bre - X will release over the next few days will be important to the market , \" said Josef Schachter , of Schachter Asset Management Inc. The gold sector rose nearly 136 points , leading 12 of 14 sub - indices higher . Other strong groups included financial services , consumer products , energy and transportation . The TSE posted minor losses in forestry and real estate . --- HOT STOCKS --- * Among bank shares , Bank of Nova Scotia rose 0.65 to 51.50 on 2.1 million shares , while Canadian Imperial Bank of Commerce added 0.50 to 31.80 on 2.1 million shares . ( ( Reuters Toronto Bureau ( 416 ) 941 - 8100 ) )\n"
     ]
    }
   ],
   "source": [
    "path_to_preprocessed_train_docs = \"train/preprocessed_docs.pkl\" # tokenization only\n",
    "# path_to_preprocessed_train_docs = \"train/preprocessed_docs_lemmatized_no_sw.pkl\"\n",
    "\n",
    "with open(path_to_preprocessed_train_docs, \"rb\") as f:\n",
    "    preprocessed_train_docs = pickle.load(f)\n",
    "\n",
    "# preprocessed_train_docs = preprocessing.preprocess_corpus(train_docs)\n",
    "# with open(path_to_preprocessed_train_docs, \"wb\") as f:\n",
    "#     pickle.dump(preprocessed_train_docs, f)\n",
    "\n",
    "print(preprocessed_train_docs[2])"
   ]
  },
  {
   "cell_type": "markdown",
   "metadata": {},
   "source": [
    "## Representing the documents as token index sequences"
   ]
  },
  {
   "cell_type": "code",
   "execution_count": 4,
   "metadata": {},
   "outputs": [],
   "source": [
    "docs = preprocessed_train_docs\n",
    "n_vocabulary = 20000"
   ]
  },
  {
   "cell_type": "code",
   "execution_count": 5,
   "metadata": {
    "pycharm": {
     "name": "#%%\n"
    }
   },
   "outputs": [
    {
     "name": "stdout",
     "output_type": "stream",
     "text": [
      "20000\n"
     ]
    }
   ],
   "source": [
    "tokenizer = Tokenizer(num_words=n_vocabulary, filters=\"\", lower=False)\n",
    "tokenizer.fit_on_texts(docs)\n",
    "word_idx = tokenizer.word_index\n",
    "if n_vocabulary is None:\n",
    "    n_vocabulary = len(word_idx)\n",
    "\n",
    "print(n_vocabulary)"
   ]
  },
  {
   "cell_type": "code",
   "execution_count": 6,
   "metadata": {
    "pycharm": {
     "name": "#%%\n"
    }
   },
   "outputs": [
    {
     "name": "stdout",
     "output_type": "stream",
     "text": [
      "256\n",
      "(299773, 256)\n",
      "[ 2112   217   137   145    52  2639   593     2  3714  3714  9473  8514\n",
      "  9051  4802    14  2981    13   587  4802    14  3274     7  3355    13\n",
      "   587 15304  1660  5594 16940   587  1660  5594   587 14783  1709 11671\n",
      " 15729 13077   587    38  2112   217   226   145    12    85     3  5774\n",
      "    23  1043     6 11672     9   809    38  3318   700   167     4   901\n",
      "   181     6  3495     7  1927  6603  9271   593    38  4214    31    75\n",
      "   418  2112    15   435   150   180   226   145    12    85    30     1\n",
      " 15801     5  3495     7  1927  6603   200     9    32  1780   441  1151\n",
      "   598     4  7599   622]\n"
     ]
    }
   ],
   "source": [
    "n_sequence = 256\n",
    "\n",
    "sequences = tokenizer.texts_to_sequences(docs)\n",
    "if n_sequence is None:\n",
    "    n_sequence = max([len(s) for s in sequences])\n",
    "sequence_lengths = [min(len(s), n_sequence) for s in sequences]\n",
    "sequences = pad_sequences(sequences,\n",
    "                          maxlen=n_sequence,\n",
    "                          padding=\"post\",\n",
    "                          truncating=\"post\")\n",
    "\n",
    "print(n_sequence)\n",
    "print(sequences.shape)\n",
    "print(sequences[2][:100])"
   ]
  },
  {
   "cell_type": "code",
   "execution_count": 7,
   "metadata": {
    "pycharm": {
     "name": "#%%\n"
    }
   },
   "outputs": [
    {
     "data": {
      "image/png": "[encoded data removed]",
      "text/plain": [
       "<Figure size 432x288 with 1 Axes>"
      ]
     },
     "metadata": {},
     "output_type": "display_data"
    }
   ],
   "source": [
    "doc_lengths = [len(doc.split()) for doc in docs]\n",
    "\n",
    "sns.distplot(doc_lengths,\n",
    "             bins=np.arange(0, 2500, 25),\n",
    "             kde=False,\n",
    "             label=\"documents\")\n",
    "sns.distplot(sequence_lengths,\n",
    "             bins=np.arange(0, 2500, 25),\n",
    "             kde=False,\n",
    "             label=\"sequences\")\n",
    "total_word_coverage = np.round(np.sum(sequence_lengths) / np.sum(doc_lengths), 3)\n",
    "plt.title(f\"n_vocabulary={n_vocabulary}, n_sequence={n_sequence},\\n\"\n",
    "          f\"total_word_coverage={total_word_coverage}\")\n",
    "plt.xlim(0, 1550)\n",
    "plt.xlabel(\"length\")\n",
    "plt.legend()\n",
    "plt.tight_layout()\n",
    "plt.show()"
   ]
  },
  {
   "cell_type": "markdown",
   "metadata": {},
   "source": [
    "## Word embeddings"
   ]
  },
  {
   "cell_type": "code",
   "execution_count": 8,
   "metadata": {
    "pycharm": {
     "name": "#%%\n"
    }
   },
   "outputs": [],
   "source": [
    "n_embedding = 300 # 300 required by FastText"
   ]
  },
  {
   "cell_type": "markdown",
   "metadata": {},
   "source": [
    "### Word2Vec"
   ]
  },
  {
   "cell_type": "code",
   "execution_count": 9,
   "metadata": {
    "pycharm": {
     "name": "#%%\n"
    }
   },
   "outputs": [
    {
     "name": "stdout",
     "output_type": "stream",
     "text": [
      "191252\n",
      "['the', '.', ',', 'to', 'of', 'in', '-', 'a', 'and', '\"', 'said', 'on', ')', '(', \"'s\", 'for', 'The', 'at', 'was', '$', 'that', 'is', 'by', 'with', 'from', 'percent', 'it', 'be', '/', 'as', 'million', 'its', 'will', 'has', '--', 'were', 'not', '*', 'would', 'year', 'are', 'have', 'an', 'he', 'which', ':', 'had', 'market', 'up', 'A', 'but', 'after', 'N', 'this', 'company', 'one', 'been', 'U.S.', 'billion', 'also', 'government', 'last', 'or', '1997', 'two', 'their', 'they', 'first', 'over', 'new', '1', 'his', 'more', 'June', 'shares', 'about', 'week', 'It', 'than', 'share', 'Bank', 'who', 'I', '1996', 'Tuesday', '%', 'per', 'Wednesday', 'May', 'we', 'expected', 'July', 'Thursday', 'Monday', 'We', 'some', 'Friday', 'down', 'could', 'three']\n"
     ]
    }
   ],
   "source": [
    "reset_seed()\n",
    "\n",
    "window = 5\n",
    "w2v_path = f\"data/w2v_{window}_{n_embedding}_train.model\"\n",
    "\n",
    "try:\n",
    "    w2v_embedding_model = Word2Vec.load(w2v_path)\n",
    "except:\n",
    "    w2v_embedding_model = Word2Vec(sentences=[s.split() for s in docs],\n",
    "                                   size=n_embedding, \n",
    "                                   window=window,\n",
    "                                   min_count=5,\n",
    "                                   sg=1,\n",
    "                                   workers=cpu_count(),\n",
    "                                   seed=seed)\n",
    "    w2v_embedding_model.save(w2v_path)\n",
    "\n",
    "print(len(list(w2v_embedding_model.wv.vocab)))\n",
    "print(w2v_embedding_model.wv.index2entity[:100])"
   ]
  },
  {
   "cell_type": "markdown",
   "metadata": {},
   "source": [
    "### FastText"
   ]
  },
  {
   "cell_type": "code",
   "execution_count": 10,
   "metadata": {},
   "outputs": [
    {
     "name": "stdout",
     "output_type": "stream",
     "text": [
      "[',', 'the', '.', 'and', 'to', 'of', 'a', 'in', 'is', 'for', 'that', 'I', 'it', 'on', 'with', ')', ':', '\"', '(', 'The', 'you', 'was', 'are', 'or', 'this', 'as', 'have', 'at', 'from', '!', \"'s\", 'but', 'by', 'not', '?', 'your', 'all', '/', 'be', 'we', 'my', 'one', '-', 'will', 'they', 'so', 'which', '”', '“', 'has', '...', 'just', 'he', 'their', 'can', 'about', 'his', 'our', ';', 'when', 'more', 'had', 'do', 'some', 'time', 'like', 'also', 'there', 'them', 'get', 'what', 'out', \"'\", 'me', 'her', 'an', 'were', 'This', 'It', 'up', 'would', 'if', 'who', 'new', 'only', 'A', '–', 'people', 'any', 'We', 'make', 'other', 'In', 'then', 'its', 'use', 'said', 'now', 'no', 'first']\n"
     ]
    }
   ],
   "source": [
    "def load_vectors(fname): # from https://fasttext.cc/docs/en/english-vectors.html\n",
    "    fin = io.open(fname, 'r', encoding='utf-8', newline='\\n', errors='ignore')\n",
    "    n, d = map(int, fin.readline().split())\n",
    "    data = {}\n",
    "    for line in fin:\n",
    "        tokens = line.rstrip().split(' ')\n",
    "        data[tokens[0]] = np.array(list(map(float, tokens[1:])))\n",
    "    return data\n",
    "\n",
    "ft_embedding_model = load_vectors(\"data/crawl-300d-2M.vec\")\n",
    "\n",
    "token_iter = iter(ft_embedding_model)\n",
    "print([next(token_iter) for i in range(100)])"
   ]
  },
  {
   "cell_type": "markdown",
   "metadata": {},
   "source": [
    "### Embedding matrices"
   ]
  },
  {
   "cell_type": "code",
   "execution_count": 11,
   "metadata": {
    "pycharm": {
     "name": "#%%\n"
    }
   },
   "outputs": [],
   "source": [
    "def create_embedding_matrix(embedding_model):\n",
    "    embedding_matrix = np.zeros((n_vocabulary, n_embedding))\n",
    "    unknown_token_count = 0\n",
    "    for token, i in word_idx.items():\n",
    "        if i >= n_vocabulary:\n",
    "            continue\n",
    "        if token in embedding_model:\n",
    "            embedding_matrix[i] = embedding_model[token]\n",
    "        else:\n",
    "            embedding_matrix[i] = np.zeros(n_embedding)\n",
    "            unknown_token_count += 1\n",
    "\n",
    "    print(unknown_token_count)\n",
    "    print(embedding_matrix.shape)\n",
    "    print(embedding_matrix[1][:50])\n",
    "\n",
    "    return embedding_matrix"
   ]
  },
  {
   "cell_type": "code",
   "execution_count": 12,
   "metadata": {},
   "outputs": [
    {
     "name": "stdout",
     "output_type": "stream",
     "text": [
      "0\n",
      "(20000, 300)\n",
      "[ 0.0552584   0.01123355  0.05852774  0.03515947  0.11631026 -0.02895849\n",
      "  0.17440622 -0.07505921  0.31014937  0.18220782 -0.153667    0.12877345\n",
      " -0.16599374 -0.03246057  0.14044979  0.0378183   0.01423781  0.20776965\n",
      "  0.25640684 -0.29507896  0.05467122 -0.19314985  0.16100715  0.16121837\n",
      "  0.10513832 -0.14126474 -0.10564382  0.07230753 -0.2635389   0.11694992\n",
      "  0.22365659  0.10568991 -0.20522533 -0.00804843 -0.11998951  0.02327573\n",
      "  0.23315957 -0.22042817 -0.04073263 -0.07091328 -0.26871315  0.40764555\n",
      " -0.12853378 -0.1205063  -0.04120149 -0.03833532  0.09974524 -0.1054061\n",
      " -0.04243345 -0.16846807]\n"
     ]
    }
   ],
   "source": [
    "w2v_embedding_matrix = create_embedding_matrix(w2v_embedding_model)"
   ]
  },
  {
   "cell_type": "code",
   "execution_count": 13,
   "metadata": {},
   "outputs": [
    {
     "name": "stdout",
     "output_type": "stream",
     "text": [
      "687\n",
      "(20000, 300)\n",
      "[ 0.0231  0.017   0.0157 -0.0773  0.1088  0.0031 -0.1487 -0.2672 -0.0357\n",
      " -0.0487  0.0807  0.1532 -0.0739 -0.0291 -0.0445 -0.0014  0.1014  0.0186\n",
      " -0.0253  0.02   -0.0026 -0.0179  0.0005  0.0054 -0.0134  0.0233 -0.0755\n",
      " -0.0156  0.0415 -0.4985  0.041  -0.0616  0.0047  0.0325 -0.0162 -0.0172\n",
      "  0.0988  0.0766 -0.0796 -0.0345  0.0124 -0.1007 -0.0292 -0.0762 -0.1261\n",
      " -0.0531  0.0424  0.0144 -0.0683  0.2859]\n"
     ]
    }
   ],
   "source": [
    "ft_embedding_matrix = create_embedding_matrix(ft_embedding_model)"
   ]
  },
  {
   "cell_type": "markdown",
   "metadata": {},
   "source": [
    "## Shuffling the data"
   ]
  },
  {
   "cell_type": "code",
   "execution_count": 14,
   "metadata": {},
   "outputs": [],
   "source": [
    "n_samples = None\n",
    "x_train, y_train = shuffle(sequences,\n",
    "                           train_labels,\n",
    "                           random_state=seed,\n",
    "                           n_samples=n_samples)"
   ]
  },
  {
   "cell_type": "markdown",
   "metadata": {},
   "source": [
    "## Cross-evaluating the models"
   ]
  },
  {
   "cell_type": "code",
   "execution_count": 21,
   "metadata": {},
   "outputs": [],
   "source": [
    "def cross_evaluate(model_initializer, embedding_matrix, loss, batch_size=256):\n",
    "    mskf = MultilabelStratifiedKFold(n_splits=5, random_state=seed)\n",
    "    cv_scores = []\n",
    "\n",
    "    model_initializer(embedding_matrix, n_vocabulary, n_embedding, n_sequence,\n",
    "                      n_labels, loss).summary()\n",
    "\n",
    "    for train, val in mskf.split(x_train, y_train):\n",
    "        model = model_initializer(embedding_matrix, n_vocabulary, n_embedding,\n",
    "                                  n_sequence, n_labels, loss)\n",
    "        es = EarlyStopping(patience=10, verbose=1, restore_best_weights=True)\n",
    "        history = model.fit(x_train[train],\n",
    "                            y_train[train],\n",
    "                            batch_size=batch_size,\n",
    "                            epochs=100,\n",
    "                            verbose=1,\n",
    "                            validation_data=(x_train[val], y_train[val]),\n",
    "                            callbacks=[es])\n",
    "\n",
    "        y_pred_prob = model.predict(x_train[val], batch_size=batch_size, verbose=1)\n",
    "        y_pred = np.round(y_pred_prob)\n",
    "\n",
    "        scores = {}\n",
    "        scores[\"accuracy\"] = accuracy_score(y_train[val], y_pred)\n",
    "        scores[\"F1 (macro)\"] = f1_score(y_train[val], y_pred, average=\"macro\")\n",
    "        scores[\"F1 (micro)\"] = f1_score(y_train[val], y_pred, average=\"micro\")\n",
    "        scores[\"LRAP\"] = label_ranking_average_precision_score(y_train[val],\n",
    "                                                               y_pred_prob)\n",
    "        scores[\"NDCG\"] = ndcg_score(y_train[val], y_pred_prob)\n",
    "        cv_scores.append(scores)\n",
    "        print(scores)\n",
    "\n",
    "    cv_scores_df = pd.DataFrame(cv_scores)\n",
    "    display(cv_scores_df)\n",
    "    print(cv_scores_df.mean())"
   ]
  },
  {
   "cell_type": "code",
   "execution_count": null,
   "metadata": {},
   "outputs": [
    {
     "name": "stdout",
     "output_type": "stream",
     "text": [
      "INFO:tensorflow:Using MirroredStrategy with devices ('/job:localhost/replica:0/task:0/device:GPU:0', '/job:localhost/replica:0/task:0/device:GPU:1', '/job:localhost/replica:0/task:0/device:GPU:2', '/job:localhost/replica:0/task:0/device:GPU:3')\n",
      "Model: \"sequential_7\"\n",
      "_________________________________________________________________\n",
      "Layer (type)                 Output Shape              Param #   \n",
      "=================================================================\n",
      "embedding_7 (Embedding)      (None, 256, 300)          6000000   \n",
      "_________________________________________________________________\n",
      "conv1d_14 (Conv1D)           (None, 255, 400)          240400    \n",
      "_________________________________________________________________\n",
      "batch_normalization_14 (Batc (None, 255, 400)          1600      \n",
      "_________________________________________________________________\n",
      "re_lu_14 (ReLU)              (None, 255, 400)          0         \n",
      "_________________________________________________________________\n",
      "max_pooling1d_14 (MaxPooling (None, 127, 400)          0         \n",
      "_________________________________________________________________\n",
      "dropout_14 (Dropout)         (None, 127, 400)          0         \n",
      "_________________________________________________________________\n",
      "conv1d_15 (Conv1D)           (None, 126, 500)          400500    \n",
      "_________________________________________________________________\n",
      "batch_normalization_15 (Batc (None, 126, 500)          2000      \n",
      "_________________________________________________________________\n",
      "re_lu_15 (ReLU)              (None, 126, 500)          0         \n",
      "_________________________________________________________________\n",
      "max_pooling1d_15 (MaxPooling (None, 63, 500)           0         \n",
      "_________________________________________________________________\n",
      "dropout_15 (Dropout)         (None, 63, 500)           0         \n",
      "_________________________________________________________________\n",
      "bidirectional_7 (Bidirection (None, 512)               1550336   \n",
      "_________________________________________________________________\n",
      "dense_7 (Dense)              (None, 126)               64638     \n",
      "=================================================================\n",
      "Total params: 8,259,474\n",
      "Trainable params: 2,257,674\n",
      "Non-trainable params: 6,001,800\n",
      "_________________________________________________________________\n",
      "[0, 0, 0, 0, 0, 0, 0, 0, 0, 0, 0, 0, 0, 0, 0, 0, 0, 0, 0, 0, 0, 0, 0, 3, 7, 15, 31, 44, 56, 97, 112, 129, 150, 240, 278, 305, 321, 345, 472, 495, 531, 536, 563, 597, 608, 609, 622, 641, 685, 736, 759, 767, 780, 791, 791, 815, 835, 881, 1048, 1086, 1138, 1183, 1248, 1326, 1340, 1474, 1512, 1513, 1609, 1689, 1722, 1824, 1943, 2166, 2216, 2376, 2541, 2596, 2714, 2946, 3035, 3271, 3378, 3400, 3403, 3755, 3997, 4306, 4554, 4607, 4995, 5252, 5385, 5935, 6680, 6743, 6913, 6926, 7805, 8202, 8534, 8744, 8968, 9038, 9070, 9364, 10073, 10432, 10573, 11089, 11518, 12478, 12837, 14940, 15299, 15674, 16033, 17199, 21676, 27029, 27170, 33914, 47366, 65552, 66064, 110037]\n",
      "[0, 0, 0, 0, 0, 0, 0, 0, 0, 0, 0, 0, 0, 0, 0, 0, 0, 0, 0, 0, 0, 0, 0, 1, 1, 4, 7, 11, 14, 25, 29, 33, 37, 61, 70, 76, 80, 87, 119, 124, 133, 135, 141, 150, 152, 152, 156, 160, 172, 183, 190, 191, 195, 198, 198, 204, 208, 220, 262, 272, 285, 296, 312, 332, 335, 369, 378, 379, 402, 422, 431, 456, 486, 542, 554, 595, 636, 649, 679, 736, 759, 818, 844, 851, 851, 938, 999, 1077, 1139, 1152, 1249, 1313, 1346, 1484, 1670, 1686, 1728, 1732, 1952, 2051, 2134, 2186, 2242, 2260, 2268, 2341, 2519, 2608, 2643, 2773, 2880, 3120, 3218, 3735, 3825, 3919, 4009, 4300, 5419, 6757, 6793, 8460, 11841, 16388, 16516, 27494]\n",
      "INFO:tensorflow:Using MirroredStrategy with devices ('/job:localhost/replica:0/task:0/device:GPU:0', '/job:localhost/replica:0/task:0/device:GPU:1', '/job:localhost/replica:0/task:0/device:GPU:2', '/job:localhost/replica:0/task:0/device:GPU:3')\n",
      "Epoch 1/100\n",
      "INFO:tensorflow:batch_all_reduce: 16 all-reduces with algorithm = nccl, num_packs = 1\n",
      "INFO:tensorflow:batch_all_reduce: 16 all-reduces with algorithm = nccl, num_packs = 1\n",
      "937/937 [==============================] - 33s 36ms/step - loss: 0.0400 - val_loss: 0.0225\n",
      "Epoch 2/100\n",
      "937/937 [==============================] - 28s 30ms/step - loss: 0.0202 - val_loss: 0.0184\n",
      "Epoch 3/100\n",
      "937/937 [==============================] - 28s 30ms/step - loss: 0.0176 - val_loss: 0.0172\n",
      "Epoch 4/100\n",
      "937/937 [==============================] - 28s 30ms/step - loss: 0.0162 - val_loss: 0.0163\n",
      "Epoch 5/100\n",
      "937/937 [==============================] - 28s 30ms/step - loss: 0.0154 - val_loss: 0.0159\n",
      "Epoch 6/100\n",
      "937/937 [==============================] - 28s 30ms/step - loss: 0.0147 - val_loss: 0.0159\n",
      "Epoch 7/100\n",
      "937/937 [==============================] - 28s 30ms/step - loss: 0.0141 - val_loss: 0.0153\n",
      "Epoch 8/100\n",
      "937/937 [==============================] - 28s 30ms/step - loss: 0.0137 - val_loss: 0.0154\n",
      "Epoch 9/100\n",
      "937/937 [==============================] - 28s 30ms/step - loss: 0.0132 - val_loss: 0.0154\n",
      "Epoch 10/100\n",
      "937/937 [==============================] - 28s 30ms/step - loss: 0.0129 - val_loss: 0.0154\n",
      "Epoch 11/100\n",
      "937/937 [==============================] - 28s 30ms/step - loss: 0.0125 - val_loss: 0.0154\n",
      "Epoch 12/100\n",
      "937/937 [==============================] - 28s 30ms/step - loss: 0.0122 - val_loss: 0.0153\n",
      "Epoch 13/100\n",
      "937/937 [==============================] - 28s 30ms/step - loss: 0.0119 - val_loss: 0.0153\n",
      "Epoch 14/100\n",
      "937/937 [==============================] - 28s 30ms/step - loss: 0.0117 - val_loss: 0.0155\n",
      "Epoch 15/100\n",
      "285/937 [========>.....................] - ETA: 17s - loss: 0.0112"
     ]
    }
   ],
   "source": [
    "reset_seed()\n",
    "cross_evaluate(models.init_cnn_bi_lstm_1, ft_embedding_matrix, \"binary_crossentropy\")"
   ]
  },
  {
   "cell_type": "code",
   "execution_count": null,
   "metadata": {},
   "outputs": [],
   "source": [
    "reset_seed()\n",
    "cross_evaluate(models.init_cnn_bi_lstm_1, ft_embedding_matrix, \"mean_squared_error\")"
   ]
  },
  {
   "cell_type": "code",
   "execution_count": null,
   "metadata": {},
   "outputs": [],
   "source": [
    "reset_seed()\n",
    "cross_evaluate(models.init_cnn_1, ft_embedding_matrix, \"mean_squared_error\")"
   ]
  }
 ],
 "metadata": {
  "kernelspec": {
   "display_name": "Python 3",
   "language": "python",
   "name": "python3"
  },
  "language_info": {
   "codemirror_mode": {
    "name": "ipython",
    "version": 3
   },
   "file_extension": ".py",
   "mimetype": "text/x-python",
   "name": "python",
   "nbconvert_exporter": "python",
   "pygments_lexer": "ipython3",
   "version": "3.7.3"
  }
 },
 "nbformat": 4,
 "nbformat_minor": 2
}
